{
  "nbformat": 4,
  "nbformat_minor": 0,
  "metadata": {
    "colab": {
      "name": "UnSupervisedLearning_SyntheticData",
      "provenance": [],
      "collapsed_sections": [
        "rL9_uZwPcMz6",
        "_fgT0kD1gZm8",
        "EOrQHkUYT71O"
      ],
      "toc_visible": true,
      "include_colab_link": true
    },
    "kernelspec": {
      "name": "python3",
      "display_name": "Python 3"
    },
    "accelerator": "GPU"
  },
  "cells": [
    {
      "cell_type": "markdown",
      "metadata": {
        "id": "view-in-github",
        "colab_type": "text"
      },
      "source": [
        "<a href=\"https://colab.research.google.com/github/parthatom/UnsupervisedClassification/blob/master/UnSupervisedLearning_SyntheticData.ipynb\" target=\"_parent\"><img src=\"https://colab.research.google.com/assets/colab-badge.svg\" alt=\"Open In Colab\"/></a>"
      ]
    },
    {
      "cell_type": "markdown",
      "metadata": {
        "id": "LTlw6uAYM_Dn",
        "colab_type": "text"
      },
      "source": [
        "# Essentials\n"
      ]
    },
    {
      "cell_type": "code",
      "metadata": {
        "id": "rsfPnwyb82ob",
        "colab_type": "code",
        "outputId": "114b42c0-6769-4a44-ca3e-fd9fbfb9c151",
        "colab": {
          "base_uri": "https://localhost:8080/",
          "height": 122
        }
      },
      "source": [
        "from google.colab import drive\n",
        "drive.mount('/content/drive')"
      ],
      "execution_count": 1,
      "outputs": [
        {
          "output_type": "stream",
          "text": [
            "Go to this URL in a browser: https://accounts.google.com/o/oauth2/auth?client_id=947318989803-6bn6qk8qdgf4n4g3pfee6491hc0brc4i.apps.googleusercontent.com&redirect_uri=urn%3aietf%3awg%3aoauth%3a2.0%3aoob&response_type=code&scope=email%20https%3a%2f%2fwww.googleapis.com%2fauth%2fdocs.test%20https%3a%2f%2fwww.googleapis.com%2fauth%2fdrive%20https%3a%2f%2fwww.googleapis.com%2fauth%2fdrive.photos.readonly%20https%3a%2f%2fwww.googleapis.com%2fauth%2fpeopleapi.readonly\n",
            "\n",
            "Enter your authorization code:\n",
            "··········\n",
            "Mounted at /content/drive\n"
          ],
          "name": "stdout"
        }
      ]
    },
    {
      "cell_type": "code",
      "metadata": {
        "id": "3QrOAcWVhbrW",
        "colab_type": "code",
        "colab": {}
      },
      "source": [
        "def gini(array):\n",
        "    \"\"\"\n",
        "    Calculate the Gini coefficient of a numpy array.\n",
        "    \"\"\"\n",
        "    # based on bottom eq: http://www.statsdirect.com/help/content/image/stat0206_wmf.gif\n",
        "    # from: http://www.statsdirect.com/help/default.htm#nonparametric_methods/gini.htm\n",
        "    array = array.flatten() #all values are treated equally, arrays must be 1d\n",
        "    if np.amin(array) < 0:\n",
        "        array -= np.amin(array) #values cannot be negative\n",
        "    array += 0.0000001 #values cannot be 0\n",
        "    array = np.sort(array) #values must be sorted\n",
        "    index = np.arange(1,array.shape[0]+1) #index per array element\n",
        "    n = array.shape[0]#number of array elements\n",
        "    return ((np.sum((2 * index - n  - 1) * array)) / (n * np.sum(array))) #Gini coefficient"
      ],
      "execution_count": 0,
      "outputs": []
    },
    {
      "cell_type": "code",
      "metadata": {
        "id": "Ka_TF7yQBHCE",
        "colab_type": "code",
        "colab": {}
      },
      "source": [
        "import tqdm\n",
        "from tqdm import tqdm"
      ],
      "execution_count": 0,
      "outputs": []
    },
    {
      "cell_type": "markdown",
      "metadata": {
        "id": "8_BcMQov4AP3",
        "colab_type": "text"
      },
      "source": [
        "# Unsupervised Learning on Synthetic Sparse and Uniform Data"
      ]
    },
    {
      "cell_type": "markdown",
      "metadata": {
        "id": "wXtjNmzY5aOy",
        "colab_type": "text"
      },
      "source": [
        "## Importing"
      ]
    },
    {
      "cell_type": "code",
      "metadata": {
        "id": "9ZRlBWNV5Y97",
        "colab_type": "code",
        "colab": {}
      },
      "source": [
        "import torch\n",
        "import torchvision\n",
        "import sys\n",
        "import os\n",
        "from torch.utils.data import DataLoader\n",
        "from torch.utils.data import Dataset\n",
        "from pathlib import Path\n",
        "import sklearn\n",
        "import numpy as np\n",
        "import pandas as pd\n",
        "import torch.nn as nn\n",
        "import torch.nn.functional as F\n",
        "import matplotlib.pyplot as plt\n",
        "from sklearn.decomposition import PCA\n",
        "%matplotlib inline\n",
        "colors = ['y', 'r']"
      ],
      "execution_count": 0,
      "outputs": []
    },
    {
      "cell_type": "code",
      "metadata": {
        "id": "rZE8wcSqnaMj",
        "colab_type": "code",
        "colab": {}
      },
      "source": [
        "def n_weight(x, db):\n",
        "  xp = np.matmul(np.transpose(x), x)\n",
        "  npow = xp * pow(10, -0.1*db)\n",
        "  return npow.item()"
      ],
      "execution_count": 0,
      "outputs": []
    },
    {
      "cell_type": "code",
      "metadata": {
        "id": "HR3RQ12U23wS",
        "colab_type": "code",
        "colab": {}
      },
      "source": [
        "import numpy as np\n",
        "from sklearn.metrics import normalized_mutual_info_score, adjusted_rand_score\n",
        "class Metrics():\n",
        "  def __init__(self):\n",
        "    self.nmi = normalized_mutual_info_score\n",
        "    self.ari = adjusted_rand_score\n",
        "\n",
        "\n",
        "  def acc(self, y_true, y_pred):\n",
        "      \"\"\"\n",
        "      Calculate clustering accuracy. Require scikit-learn installed\n",
        "      # Arguments\n",
        "          y: true labels, numpy.array with shape `(n_samples,)`\n",
        "          y_pred: predicted labels, numpy.array with shape `(n_samples,)`\n",
        "      # Return\n",
        "          accuracy, in [0,1]\n",
        "      \"\"\"\n",
        "      y_true = y_true.astype(np.int64)\n",
        "      assert y_pred.size == y_true.size\n",
        "      D = max(y_pred.max(), y_true.max()) + 1\n",
        "      w = np.zeros((D, D), dtype=np.int64)\n",
        "      for i in range(y_pred.size):\n",
        "          w[y_pred[i], y_true[i]] += 1\n",
        "      from sklearn.utils.linear_assignment_ import linear_assignment\n",
        "      ind = linear_assignment(w.max() - w)\n",
        "      return sum([w[i, j] for i, j in ind]) * 1.0 / y_pred.size"
      ],
      "execution_count": 0,
      "outputs": []
    },
    {
      "cell_type": "code",
      "metadata": {
        "id": "mqBVGrl46XC3",
        "colab_type": "code",
        "colab": {
          "base_uri": "https://localhost:8080/",
          "height": 97
        },
        "outputId": "7e32a95a-a1b1-4e87-85d7-e31a7327914d"
      },
      "source": [
        "from sklearn import model_selection\n",
        "from sklearn.manifold import TSNE\n",
        "from sklearn.cluster import MiniBatchKMeans\n",
        "from sklearn.cluster import KMeans\n",
        "from sklearn import mixture\n",
        "import torchvision.transforms as transforms\n",
        "from torchvision import models\n",
        "from keras.utils import normalize\n",
        "import time\n",
        "from sklearn.cluster import SpectralClustering\n",
        "from sklearn.discriminant_analysis import LinearDiscriminantAnalysis\n",
        "import cv2\n",
        "metrics = Metrics()"
      ],
      "execution_count": 6,
      "outputs": [
        {
          "output_type": "stream",
          "text": [
            "Using TensorFlow backend.\n"
          ],
          "name": "stderr"
        },
        {
          "output_type": "display_data",
          "data": {
            "text/html": [
              "<p style=\"color: red;\">\n",
              "The default version of TensorFlow in Colab will soon switch to TensorFlow 2.x.<br>\n",
              "We recommend you <a href=\"https://www.tensorflow.org/guide/migrate\" target=\"_blank\">upgrade</a> now \n",
              "or ensure your notebook will continue to use TensorFlow 1.x via the <code>%tensorflow_version 1.x</code> magic:\n",
              "<a href=\"https://colab.research.google.com/notebooks/tensorflow_version.ipynb\" target=\"_blank\">more info</a>.</p>\n"
            ],
            "text/plain": [
              "<IPython.core.display.HTML object>"
            ]
          },
          "metadata": {
            "tags": []
          }
        }
      ]
    },
    {
      "cell_type": "code",
      "metadata": {
        "id": "QBsiOD7oJOf9",
        "colab_type": "code",
        "outputId": "fa2b4fc6-693f-4a50-efbf-eff754a774a0",
        "colab": {
          "base_uri": "https://localhost:8080/",
          "height": 34
        }
      },
      "source": [
        "time.time()"
      ],
      "execution_count": 7,
      "outputs": [
        {
          "output_type": "execute_result",
          "data": {
            "text/plain": [
              "1576743269.6335797"
            ]
          },
          "metadata": {
            "tags": []
          },
          "execution_count": 7
        }
      ]
    },
    {
      "cell_type": "code",
      "metadata": {
        "id": "UDL0QDLG-rKY",
        "colab_type": "code",
        "colab": {}
      },
      "source": [
        "!mkdir /content/drive/'My Drive'/Outputs/Synthetic_Unsupervised/UnSorted/np"
      ],
      "execution_count": 0,
      "outputs": []
    },
    {
      "cell_type": "code",
      "metadata": {
        "id": "3sIfwN-f9Q9-",
        "colab_type": "code",
        "colab": {}
      },
      "source": [
        "gmm_path = Path('/', 'content', 'drive', 'My Drive', 'Outputs','Synthetic_Unsupervised','Sorted', 'GMMs')\n",
        "kmeans_path = Path('/', 'content', 'drive','My Drive', 'Outputs', 'Synthetic_Unsupervised','Sorted','KMeans')"
      ],
      "execution_count": 0,
      "outputs": []
    },
    {
      "cell_type": "code",
      "metadata": {
        "id": "0dUIOdj8Dp5z",
        "colab_type": "code",
        "colab": {}
      },
      "source": [
        "synthetic_path = Path('/', 'content','drive', \"My Drive\", 'Outputs', 'Synthetic_Unsupervised','UnSorted', 'np')"
      ],
      "execution_count": 0,
      "outputs": []
    },
    {
      "cell_type": "markdown",
      "metadata": {
        "id": "IIneMbFM4HF-",
        "colab_type": "text"
      },
      "source": [
        "## Data Creation"
      ]
    },
    {
      "cell_type": "code",
      "metadata": {
        "id": "6uCX93YqCYQ6",
        "colab_type": "code",
        "outputId": "4109ecfa-013b-40e3-8422-a0234751af08",
        "colab": {
          "base_uri": "https://localhost:8080/",
          "height": 34
        }
      },
      "source": [
        "seed = 42\n",
        "torch.random.manual_seed(seed)"
      ],
      "execution_count": 9,
      "outputs": [
        {
          "output_type": "execute_result",
          "data": {
            "text/plain": [
              "<torch._C.Generator at 0x7f55df14eb10>"
            ]
          },
          "metadata": {
            "tags": []
          },
          "execution_count": 9
        }
      ]
    },
    {
      "cell_type": "markdown",
      "metadata": {
        "id": "3VAkBqCgCiJk",
        "colab_type": "text"
      },
      "source": [
        "### Concat and Shuffle"
      ]
    },
    {
      "cell_type": "code",
      "metadata": {
        "id": "pkAaqsyn8oez",
        "colab_type": "code",
        "colab": {}
      },
      "source": [
        "def synth_data(sparsity = 1, std =  0.01, sparse = True): \n",
        "  if(sparse):\n",
        "    print(\"Creating Sparse Data\")\n",
        "    X = torch.zeros((5001,39))\n",
        "    for j in range(len(X)):\n",
        "      perm1 = torch.randperm(39)\n",
        "      for i in range(sparsity):\n",
        "        X[j][int(perm1[i].item())] = 1\n",
        "  else:\n",
        "    print(\"Creating Uniform data\")\n",
        "    X = torch.ones((5001, 39))\n",
        "    for j in range(len(X)):\n",
        "      perm1 = torch.randperm(39)\n",
        "      for i in range(sparsity-1):\n",
        "        X[j][int(perm1[i].item())] = 0\n",
        "  # X,c = torch.sort(X, dim = 0)\n",
        "  noise = torch.randn((5001,39))\n",
        "  noisy_X = X+ std*noise\n",
        "  noisy_X = torch.abs(noisy_X)\n",
        "  noisy_X = noisy_X/(torch.sum(noisy_X, dim = 1).view(-1,1))\n",
        "  # noisy_X, c = torch.sort(noisy_X, dim = 1)\n",
        "  return noisy_X"
      ],
      "execution_count": 0,
      "outputs": []
    },
    {
      "cell_type": "code",
      "metadata": {
        "id": "r21xWhD7AHmH",
        "colab_type": "code",
        "colab": {}
      },
      "source": [
        "def create_data(sparsity = 1, std = 0.01):\n",
        "  un = synth_data(sparsity= sparsity, std = std, sparse = False)\n",
        "  sp = synth_data(sparsity = sparsity, std = std, sparse = True)\n",
        "  X = torch.cat((un,sp), dim = 0)\n",
        "  o = torch.ones((5001,1))\n",
        "  z = torch.zeros((5001,1))\n",
        "  labels = torch.cat((o,z), dim = 0)\n",
        "  perm = torch.randperm(10002)\n",
        "  X = X[perm]\n",
        "  labels = labels[perm]\n",
        "  return X, labels"
      ],
      "execution_count": 0,
      "outputs": []
    },
    {
      "cell_type": "code",
      "metadata": {
        "id": "27uzT6DAJqqi",
        "colab_type": "code",
        "colab": {}
      },
      "source": [
        "def synther(sparsity = 1, std = 0.01, sparse = True):\n",
        "  if sparse:\n",
        "    X = np.zeros((5001, 39))\n",
        "    for j in range(len(X)):\n",
        "      perm1 = np.random.permutation(39)\n",
        "      for i in range(sparsity):\n",
        "        X[j][int(perm1[i].item())] = 1\n",
        "  else:\n",
        "    X = np.ones((5001, 39))\n",
        "    for j in range(len(X)):\n",
        "      perm1 = np.random.permutation(39)\n",
        "      for i in range(sparsity-1):\n",
        "        X[j][int(perm1[i].item())] = 0\n",
        "  noise = np.random.multivariate_normal(mean = np.zeros((39,)), cov = np.identity(39), size = 5001)\n",
        "  noisy_X = X + std * noise\n",
        "  noisy_X = np.abs(noisy_X)\n",
        "  noisy_X = noisy_X/(np.sum(noisy_X, axis = 1).reshape(-1,1))\n",
        "  return noisy_X"
      ],
      "execution_count": 0,
      "outputs": []
    },
    {
      "cell_type": "code",
      "metadata": {
        "id": "r0sxStWAM4h1",
        "colab_type": "code",
        "colab": {}
      },
      "source": [
        "def creater(sparsity = 1, std = 0.01):\n",
        "  un = synther(sparsity= sparsity, std = std, sparse = False)\n",
        "  sp = synther(sparsity = sparsity, std = std, sparse = True)\n",
        "  X = np.concatenate((un,sp), axis = 0)\n",
        "  o = np.ones((5001,1))\n",
        "  z = np.zeros((5001,1))\n",
        "  labels = np.concatenate((o,z), axis = 0)\n",
        "  perm = np.random.permutation(10002)\n",
        "  X = X[perm]\n",
        "  labels = labels[perm]\n",
        "  return X, labels"
      ],
      "execution_count": 0,
      "outputs": []
    },
    {
      "cell_type": "code",
      "metadata": {
        "id": "9nOS0O_ANQ53",
        "colab_type": "code",
        "colab": {
          "base_uri": "https://localhost:8080/",
          "height": 819
        },
        "outputId": "beef4a5b-884e-4bf8-e770-cc40d944fcae"
      },
      "source": [
        "a = creater()\n",
        "X = a[0]\n",
        "y = a[1]\n",
        "print(X.shape)\n",
        "print([(gini(X[i]),i) for i in range(600, 604)])\n",
        "print(X[600:604])\n",
        "y[600:604]"
      ],
      "execution_count": 54,
      "outputs": [
        {
          "output_type": "stream",
          "text": [
            "(10002, 39)\n",
            "[(0.8640280748717908, 600), (0.006001905073524627, 601), (0.005128558024280825, 602), (0.8468334761800943, 603)]\n",
            "[[5.31290221e-03 7.63356244e-04 3.89812403e-03 1.35195973e-04\n",
            "  9.11072096e-03 3.33835129e-03 6.46611382e-03 6.79344669e-03\n",
            "  3.25819050e-03 2.25156454e-03 1.47899379e-03 6.74501936e-03\n",
            "  6.21964519e-03 1.70782813e-03 4.45393352e-03 2.22472048e-03\n",
            "  1.08353010e-02 1.23693565e-03 1.19382893e-02 1.41592472e-04\n",
            "  6.04902470e-03 5.10145287e-03 3.24508298e-04 1.82189908e-03\n",
            "  4.20760902e-03 1.83430535e-03 8.88975536e-03 3.19529689e-03\n",
            "  1.41302017e-02 6.36945355e-03 9.30134464e-04 7.96529554e-03\n",
            "  2.66169035e-03 8.40009492e-03 1.32648425e-02 4.06200982e-03\n",
            "  5.02048450e-03 2.10783441e-03 8.15353882e-01]\n",
            " [2.53997089e-02 2.53512513e-02 2.53315370e-02 2.56281757e-02\n",
            "  2.60781486e-02 2.57181523e-02 2.61139987e-02 2.53353666e-02\n",
            "  2.57274486e-02 2.59582243e-02 2.59429773e-02 2.52247271e-02\n",
            "  2.52818075e-02 2.54312327e-02 2.55344355e-02 2.59166053e-02\n",
            "  2.59170156e-02 2.60497316e-02 2.55228333e-02 2.55684810e-02\n",
            "  2.57184208e-02 2.57813288e-02 2.57069620e-02 2.55857325e-02\n",
            "  2.54397330e-02 2.50962448e-02 2.57277457e-02 2.53379149e-02\n",
            "  2.54326923e-02 2.59022141e-02 2.60088091e-02 2.56734622e-02\n",
            "  2.60080952e-02 2.58242801e-02 2.56327130e-02 2.56545853e-02\n",
            "  2.52190389e-02 2.54030248e-02 2.58151438e-02]\n",
            " [2.55215317e-02 2.59135041e-02 2.54740760e-02 2.57101848e-02\n",
            "  2.53861523e-02 2.57932566e-02 2.54656565e-02 2.57762847e-02\n",
            "  2.54997236e-02 2.58924228e-02 2.57075443e-02 2.58373755e-02\n",
            "  2.58426276e-02 2.58445111e-02 2.63653685e-02 2.53744877e-02\n",
            "  2.56702286e-02 2.55115072e-02 2.58635492e-02 2.52621035e-02\n",
            "  2.56149330e-02 2.54198467e-02 2.55628751e-02 2.56677282e-02\n",
            "  2.56606974e-02 2.61784327e-02 2.52851081e-02 2.56423502e-02\n",
            "  2.57889854e-02 2.52197365e-02 2.55954774e-02 2.56319357e-02\n",
            "  2.57908175e-02 2.54731151e-02 2.56991042e-02 2.56544560e-02\n",
            "  2.52722743e-02 2.53651021e-02 2.57649283e-02]\n",
            " [1.87000468e-02 8.55333815e-03 2.64640936e-04 2.39631837e-03\n",
            "  8.58112542e-03 6.16515048e-03 1.01547391e-02 6.12781914e-03\n",
            "  2.28378473e-03 6.17639289e-03 8.37145506e-03 7.53459878e-03\n",
            "  4.84486374e-03 8.84072409e-03 3.17309049e-03 1.30225427e-03\n",
            "  2.54381244e-03 6.77898907e-03 6.78146728e-03 7.27783277e-03\n",
            "  1.44696629e-03 1.54114982e-02 5.19713499e-04 2.80818901e-03\n",
            "  7.76818903e-03 7.77390046e-03 7.77233882e-01 4.17717726e-03\n",
            "  1.02353438e-03 7.08798756e-03 3.80835365e-03 2.83213888e-03\n",
            "  1.61761198e-02 1.07161739e-05 5.04056854e-03 5.12139126e-04\n",
            "  1.20247738e-03 5.18978558e-04 1.77950260e-02]]\n"
          ],
          "name": "stdout"
        },
        {
          "output_type": "execute_result",
          "data": {
            "text/plain": [
              "array([[0.],\n",
              "       [1.],\n",
              "       [1.],\n",
              "       [0.]])"
            ]
          },
          "metadata": {
            "tags": []
          },
          "execution_count": 54
        }
      ]
    },
    {
      "cell_type": "code",
      "metadata": {
        "id": "EY26iofdCGwA",
        "colab_type": "code",
        "outputId": "b00fa5cb-e162-4207-9181-5a78c95c6d81",
        "colab": {
          "base_uri": "https://localhost:8080/",
          "height": 666
        }
      },
      "source": [
        "a = create_data(sparsity = 1, std = 0.01)\n",
        "X = a[0]\n",
        "labels = a[1]\n",
        "# np.save(os.path.join(synthetic_path, 'X.npy'), X)\n",
        "# np.save(os.path.join(synthetic_path, 'y.npy'), labels)\n",
        "print(X.shape)\n",
        "print([(gini(X[i].numpy()),i) for i in range(600, 604)])\n",
        "print(X[600:604])\n",
        "print(torch.sum(X, dim = 1).shape)\n",
        "labels[600:604]"
      ],
      "execution_count": 16,
      "outputs": [
        {
          "output_type": "stream",
          "text": [
            "Creating Uniform data\n",
            "Creating Sparse Data\n",
            "torch.Size([10002, 39])\n",
            "[(0.8576756296428034, 600), (0.8443128085249886, 601), (0.8362271833712025, 602), (0.0051528526598937285, 603)]\n",
            "tensor([[6.1154e-03, 2.2383e-03, 2.3308e-03, 7.5148e-04, 1.0912e-02, 1.1380e-03,\n",
            "         6.1434e-03, 1.5088e-02, 1.4834e-03, 1.1653e-03, 2.2318e-04, 1.1667e-02,\n",
            "         5.0498e-03, 1.0897e-02, 4.4838e-03, 1.3630e-02, 2.1431e-04, 1.6396e-03,\n",
            "         1.1606e-02, 2.3568e-03, 5.3922e-04, 1.5772e-02, 1.3440e-02, 7.8796e-01,\n",
            "         2.3151e-03, 4.7150e-03, 3.3083e-03, 2.7110e-03, 1.1520e-03, 1.2431e-03,\n",
            "         9.1522e-03, 6.7084e-03, 5.6628e-03, 1.3303e-02, 2.0920e-03, 8.9156e-03,\n",
            "         2.4407e-03, 4.6738e-03, 4.7579e-03],\n",
            "        [2.9500e-03, 6.3560e-03, 6.0568e-03, 5.1437e-03, 1.3741e-03, 4.1332e-03,\n",
            "         7.4292e-03, 1.2413e-02, 6.8135e-03, 4.7363e-03, 3.5830e-03, 9.4331e-03,\n",
            "         5.6441e-03, 5.1158e-03, 5.7320e-03, 3.7166e-04, 1.3555e-03, 9.1325e-03,\n",
            "         2.5788e-03, 2.7114e-03, 3.6652e-03, 8.9531e-03, 1.2121e-03, 1.0080e-02,\n",
            "         7.8979e-01, 1.8052e-02, 8.5265e-03, 1.0362e-03, 1.9597e-03, 1.9019e-03,\n",
            "         6.9214e-03, 6.3822e-04, 4.1799e-03, 3.8802e-03, 9.9245e-03, 1.0392e-02,\n",
            "         2.4698e-03, 9.1564e-04, 1.2434e-02],\n",
            "        [5.0624e-03, 7.8492e-03, 2.5465e-03, 2.6279e-03, 1.4654e-02, 4.2437e-04,\n",
            "         1.2548e-02, 7.9152e-03, 2.3366e-03, 1.0644e-03, 5.6742e-03, 5.9165e-03,\n",
            "         2.5504e-03, 8.3535e-03, 3.8743e-03, 1.1271e-02, 1.7165e-02, 7.7060e-01,\n",
            "         3.8710e-03, 3.4955e-03, 1.8567e-03, 7.2700e-04, 8.8926e-03, 7.1877e-03,\n",
            "         1.3925e-02, 4.9457e-04, 1.5984e-03, 7.6257e-03, 2.3237e-03, 8.1161e-03,\n",
            "         9.5136e-03, 1.3280e-03, 9.5627e-03, 1.5162e-05, 7.4480e-03, 1.0011e-02,\n",
            "         4.1150e-03, 1.1603e-02, 3.8603e-03],\n",
            "        [2.5469e-02, 2.5708e-02, 2.5529e-02, 2.5555e-02, 2.5807e-02, 2.5701e-02,\n",
            "         2.5493e-02, 2.5418e-02, 2.5586e-02, 2.5623e-02, 2.5699e-02, 2.5651e-02,\n",
            "         2.6001e-02, 2.5692e-02, 2.5642e-02, 2.5515e-02, 2.5652e-02, 2.5394e-02,\n",
            "         2.5877e-02, 2.5324e-02, 2.5602e-02, 2.6336e-02, 2.5347e-02, 2.5720e-02,\n",
            "         2.5714e-02, 2.5808e-02, 2.5973e-02, 2.5739e-02, 2.5438e-02, 2.5600e-02,\n",
            "         2.5799e-02, 2.5682e-02, 2.5438e-02, 2.5503e-02, 2.5757e-02, 2.5994e-02,\n",
            "         2.5082e-02, 2.5097e-02, 2.6032e-02]])\n",
            "torch.Size([10002])\n"
          ],
          "name": "stdout"
        },
        {
          "output_type": "execute_result",
          "data": {
            "text/plain": [
              "tensor([[0.],\n",
              "        [0.],\n",
              "        [0.],\n",
              "        [1.]])"
            ]
          },
          "metadata": {
            "tags": []
          },
          "execution_count": 16
        }
      ]
    },
    {
      "cell_type": "markdown",
      "metadata": {
        "id": "InTAohIZEH_o",
        "colab_type": "text"
      },
      "source": [
        "## GMMs"
      ]
    },
    {
      "cell_type": "markdown",
      "metadata": {
        "id": "mnU_h-USdvhc",
        "colab_type": "text"
      },
      "source": [
        "### Model"
      ]
    },
    {
      "cell_type": "code",
      "metadata": {
        "id": "WIgmH8d77u3z",
        "colab_type": "code",
        "colab": {}
      },
      "source": [
        "from keras.datasets import mnist\n",
        "import numpy as np\n",
        "np.random.seed(10)\n",
        "import matplotlib.pyplot as plt\n",
        "cmap = plt.get_cmap('gnuplot')\n",
        "colors = ['y', 'r']\n",
        "%matplotlib inline"
      ],
      "execution_count": 0,
      "outputs": []
    },
    {
      "cell_type": "code",
      "metadata": {
        "id": "cSFa0XIW7zL3",
        "colab_type": "code",
        "colab": {}
      },
      "source": [
        "import numpy as np\n",
        "import keras.backend as K\n",
        "from keras.engine.topology import Layer, InputSpec\n",
        "from keras.layers import Dense, Input, BatchNormalization\n",
        "from keras.models import Model\n",
        "from keras.optimizers import SGD,Adam\n",
        "from keras import callbacks\n",
        "from keras.initializers import VarianceScaling\n",
        "from sklearn.cluster import KMeans\n",
        "metrics = Metrics()"
      ],
      "execution_count": 0,
      "outputs": []
    },
    {
      "cell_type": "code",
      "metadata": {
        "id": "IoBcZI77714l",
        "colab_type": "code",
        "colab": {}
      },
      "source": [
        "def Autoencoder(dims, act='relu', init='glorot_uniform'):\n",
        "    \"\"\"\n",
        "    Fully connected auto-encoder model, symmetric.\n",
        "    Arguments:\n",
        "        dims: list of number of units in each layer of encoder. dims[0] is input dim, dims[-1] is units in hidden layer.\n",
        "            The decoder is symmetric with encoder. So number of layers of the auto-encoder is 2*len(dims)-1\n",
        "        act: activation, not applied to Input, Hidden and Output layers\n",
        "    return:\n",
        "        (ae_model, encoder_model), Model of autoencoder and model of encoder\n",
        "    \"\"\"\n",
        "    n_stacks = len(dims) - 1\n",
        "    # input\n",
        "    input_img = Input(shape=(dims[0],), name='input')\n",
        "    x = input_img\n",
        "    # internal layers in encoder\n",
        "    for i in range(n_stacks-1):\n",
        "        x = Dense(dims[i + 1], activation=act, kernel_initializer=init, name='encoder_%d' % i)(x)\n",
        "        x = BatchNormalization()(x)\n",
        "\n",
        "    # hidden layer\n",
        "    encoded = Dense(dims[-1], kernel_initializer=init, name='encoder_%d' % (n_stacks - 1))(x)  # hidden layer, features are extracted from here\n",
        "\n",
        "    x = encoded\n",
        "    # internal layers in decoder\n",
        "    for i in range(n_stacks-1, 0, -1):\n",
        "        x = Dense(dims[i], activation=act, kernel_initializer=init, name='decoder_%d' % i)(x)\n",
        "        x = BatchNormalization()(x)\n",
        "\n",
        "    # output\n",
        "    x = Dense(dims[0], kernel_initializer=init, name='decoder_0')(x)\n",
        "    decoded = x\n",
        "    return Model(inputs=input_img, outputs=decoded, name='AE'), Model(inputs=input_img, outputs=encoded, name='encoder')\n"
      ],
      "execution_count": 0,
      "outputs": []
    },
    {
      "cell_type": "code",
      "metadata": {
        "id": "OjB7pLAT785R",
        "colab_type": "code",
        "colab": {}
      },
      "source": [
        "n_clusters = 2"
      ],
      "execution_count": 0,
      "outputs": []
    },
    {
      "cell_type": "code",
      "metadata": {
        "id": "wsBmZFJ88Bhh",
        "colab_type": "code",
        "colab": {}
      },
      "source": [
        "dims = [X.shape[-1], 500, 500, 2000, 2]\n",
        "init = VarianceScaling(scale=1. / 3., mode='fan_in',\n",
        "                           distribution='uniform')\n",
        "pretrain_optimizer = Adam(lr=0.001 )\n",
        "pretrain_epochs = 30\n",
        "batch_size = 256\n",
        "save_dir = synthetic_path"
      ],
      "execution_count": 0,
      "outputs": []
    },
    {
      "cell_type": "code",
      "metadata": {
        "id": "7SfxWCj7G_0b",
        "colab_type": "code",
        "colab": {}
      },
      "source": [
        "lrs = [3e-5, 2.25e-5, 1.68e-5, 1.27e-5, 1e-5 ]\n",
        "batch_sizes = [64, 72, 82, 100, 113, 128]\n",
        "epochs = [5, 5, 10, 10]"
      ],
      "execution_count": 0,
      "outputs": []
    },
    {
      "cell_type": "code",
      "metadata": {
        "id": "vPolt4LFJBrk",
        "colab_type": "code",
        "outputId": "65ecf0e3-e26a-4b15-989b-3de59d39a354",
        "colab": {
          "base_uri": "https://localhost:8080/",
          "height": 34
        }
      },
      "source": [
        "len(lrs)"
      ],
      "execution_count": 0,
      "outputs": [
        {
          "output_type": "execute_result",
          "data": {
            "text/plain": [
              "6"
            ]
          },
          "metadata": {
            "tags": []
          },
          "execution_count": 154
        }
      ]
    },
    {
      "cell_type": "code",
      "metadata": {
        "id": "5D0gGTnCI6M0",
        "colab_type": "code",
        "outputId": "c594ca2f-8d7c-4312-fd37-0abb71c38f73",
        "colab": {
          "base_uri": "https://localhost:8080/",
          "height": 34
        }
      },
      "source": [
        "accuracy_tuning = np.zeros((len(lrs), len(batch_sizes), len(epochs)))\n",
        "loss_tuning = np.zeros((len(lrs), len(batch_sizes), len(epochs)))\n",
        "accuracy_tuning.shape"
      ],
      "execution_count": 0,
      "outputs": [
        {
          "output_type": "execute_result",
          "data": {
            "text/plain": [
              "(6, 5, 4)"
            ]
          },
          "metadata": {
            "tags": []
          },
          "execution_count": 53
        }
      ]
    },
    {
      "cell_type": "code",
      "metadata": {
        "id": "csWgKs0kLdci",
        "colab_type": "code",
        "colab": {}
      },
      "source": [
        "db = 9\n",
        "X = np.load(os.path.join(synthetic_path, f'X_sparsity_1_db_{db}.npy'))\n",
        "y = np.load(os.path.join(synthetic_path, f\"labels_sparsity_1_db_{db}.npy\"))"
      ],
      "execution_count": 0,
      "outputs": []
    },
    {
      "cell_type": "code",
      "metadata": {
        "id": "TRBIZ_GkIXw-",
        "colab_type": "code",
        "colab": {}
      },
      "source": [
        "history_list = []\n",
        "for i,lr in enumerate(lrs):\n",
        "  for j,batch_size in enumerate(batch_sizes):\n",
        "    autoencoder, encoder = Autoencoder(dims, init=init)\n",
        "    pretrain_optimizer = Adam(lr=lr)    \n",
        "    autoencoder.compile(optimizer=pretrain_optimizer, loss='mse')\n",
        "    \n",
        "    for k,pretrain_epochs in enumerate(epochs): \n",
        "      total_trained = 0     \n",
        "      b = autoencoder.fit(X, X, batch_size=batch_size, epochs=pretrain_epochs) #, callbacks=cb)\n",
        "      history_list.append(b)\n",
        "      loss_tuning[i][j][k] = (b.history['loss'])[-1]\n",
        "      autoencoder.save_weights(os.path.join(synthetic_path, f\"ae_sparsity_1_db_{db}_lr_{lr}_batch_size_{batch_size}_epochs_{pretrain_epochs+total_trained}.h5\"))\n",
        "      total_trained = pretrain_epochs\n",
        "      encoding = encoder.predict(X)      \n",
        "\n",
        "      kmeans = KMeans(n_clusters=2, n_init = 15).fit(encoding)\n",
        "      y_pred_ae_means = kmeans.labels_\n",
        "      del kmeans\n",
        "\n",
        "      accs_ae_means = metrics.acc(y.reshape(10002,), y_pred_ae_means.reshape(10002,))\n",
        "      print(\"accuracy\",lr,batch_size, pretrain_epochs, accs_ae_means)\n",
        "      accuracy_tuning[i][j][k] = accs_ae_means\n",
        "      del y_pred_ae_means, accs_ae_means\n",
        "    del autoencoder, encoder, pretrain_optimizer\n",
        "np.save(os.path.join(synthetic_path, f'accuracy_tuning_sparsity_1_db_{db}.npy'), accuracy_tuning)\n",
        "np.save(os.path.join(synthetic_path, f'loss_tuning_sparsity_1_db_{db}.npy'), loss_tuning)"
      ],
      "execution_count": 0,
      "outputs": []
    },
    {
      "cell_type": "code",
      "metadata": {
        "id": "faI92XWRni7n",
        "colab_type": "code",
        "colab": {}
      },
      "source": [
        "loss_dict = dict((lr,dict((batch_size, dict((epoch, loss_tuning[i][j][k]) for k,epoch in enumerate(epochs))) for j, batch_size in enumerate(batch_sizes ))) for i, lr in enumerate(lrs)) \n",
        "# accuracy_dict = dict((lr,dict((batch_size, accuracy_tuning[j][i]) for i, batch_size in enumerate(batch_sizes ))) for j, lr in enumerate(lrs)) "
      ],
      "execution_count": 0,
      "outputs": []
    },
    {
      "cell_type": "code",
      "metadata": {
        "id": "4E_WyPUBQLJI",
        "colab_type": "code",
        "colab": {}
      },
      "source": [
        "lr_index = 5\n",
        "fig, ax = plt.subplots()\n",
        "im = ax.imshow(accuracy_tuning[lr_index])\n",
        "\n",
        "# We want to show all ticks...\n",
        "ax.set_xticks(np.arange(len(epochs)))\n",
        "ax.set_yticks(np.arange(len(batch_sizes)))\n",
        "# ... and label them with the respective list entries\n",
        "ax.set_xticklabels(epochs)\n",
        "ax.set_yticklabels(batch_sizes)\n",
        "\n",
        "# Rotate the tick labels and set their alignment.\n",
        "plt.setp(ax.get_xticklabels(), rotation=45, ha=\"right\",\n",
        "         rotation_mode=\"anchor\")\n",
        "\n",
        "# Loop over data dimensions and create text annotations.\n",
        "for i in range(len(batch_sizes)):\n",
        "    for j in range(len(epochs)):\n",
        "        text = ax.text(j, i, np.around(accuracy_tuning[lr_index][i][j], decimals = 4),\n",
        "                       ha=\"center\", va=\"center\", color=\"r\")\n",
        "\n",
        "ax.set_title(f\"Accuracies for lr = {lrs[lr_index]}\")\n",
        "fig.tight_layout()\n",
        "plt.show()"
      ],
      "execution_count": 0,
      "outputs": []
    },
    {
      "cell_type": "code",
      "metadata": {
        "id": "nzMs9wNt8TH1",
        "colab_type": "code",
        "colab": {
          "base_uri": "https://localhost:8080/",
          "height": 173
        },
        "outputId": "e7742b52-5e29-48eb-b641-7ebaaad1bdc4"
      },
      "source": [
        "autoencoder, encoder = Autoencoder(dims, init=init, act = 'relu')"
      ],
      "execution_count": 22,
      "outputs": [
        {
          "output_type": "stream",
          "text": [
            "WARNING:tensorflow:From /usr/local/lib/python3.6/dist-packages/keras/backend/tensorflow_backend.py:541: The name tf.placeholder is deprecated. Please use tf.compat.v1.placeholder instead.\n",
            "\n",
            "WARNING:tensorflow:From /usr/local/lib/python3.6/dist-packages/keras/backend/tensorflow_backend.py:4432: The name tf.random_uniform is deprecated. Please use tf.random.uniform instead.\n",
            "\n",
            "WARNING:tensorflow:From /usr/local/lib/python3.6/dist-packages/keras/backend/tensorflow_backend.py:66: The name tf.get_default_graph is deprecated. Please use tf.compat.v1.get_default_graph instead.\n",
            "\n",
            "WARNING:tensorflow:From /usr/local/lib/python3.6/dist-packages/keras/backend/tensorflow_backend.py:148: The name tf.placeholder_with_default is deprecated. Please use tf.compat.v1.placeholder_with_default instead.\n",
            "\n"
          ],
          "name": "stdout"
        }
      ]
    },
    {
      "cell_type": "code",
      "metadata": {
        "id": "EqrZCZeH8kiu",
        "colab_type": "code",
        "outputId": "81eac858-95fd-4fd3-fa23-8ea4306b37ff",
        "colab": {
          "base_uri": "https://localhost:8080/",
          "height": 1000
        }
      },
      "source": [
        "from keras.utils import plot_model\n",
        "plot_model(autoencoder, to_file='autoencoder.png', show_shapes=True)\n",
        "from IPython.display import Image\n",
        "Image(filename='autoencoder.png') "
      ],
      "execution_count": 23,
      "outputs": [
        {
          "output_type": "execute_result",
          "data": {
            "image/png": "[encoded data removed]",
            "text/plain": [
              "<IPython.core.display.Image object>"
            ]
          },
          "metadata": {
            "tags": []
          },
          "execution_count": 23
        }
      ]
    },
    {
      "cell_type": "code",
      "metadata": {
        "id": "jpE0h9YwCPC4",
        "colab_type": "code",
        "colab": {}
      },
      "source": [
        "class ClusteringLayer(Layer):\n",
        "    \"\"\"\n",
        "    Clustering layer converts input sample (feature) to soft label, i.e. a vector that represents the probability of the\n",
        "    sample belonging to each cluster. The probability is calculated with student's t-distribution.\n",
        "\n",
        "    # Example\n",
        "    ```\n",
        "        model.add(ClusteringLayer(n_clusters=10))\n",
        "    ```\n",
        "    # Arguments\n",
        "        n_clusters: number of clusters.\n",
        "        weights: list of Numpy array with shape `(n_clusters, n_features)` which represents the initial cluster centers.\n",
        "        alpha: degrees of freedom parameter in Student's t-distribution. Default to 1.0.\n",
        "    # Input shape\n",
        "        2D tensor with shape: `(n_samples, n_features)`.\n",
        "    # Output shape\n",
        "        2D tensor with shape: `(n_samples, n_clusters)`.\n",
        "    \"\"\"\n",
        "\n",
        "    def __init__(self, n_clusters, weights=None, alpha=1.0, **kwargs):\n",
        "        if 'input_shape' not in kwargs and 'input_dim' in kwargs:\n",
        "            kwargs['input_shape'] = (kwargs.pop('input_dim'),)\n",
        "        super(ClusteringLayer, self).__init__(**kwargs)\n",
        "        self.n_clusters = n_clusters\n",
        "        self.alpha = alpha\n",
        "        self.initial_weights = weights\n",
        "        self.input_spec = InputSpec(ndim=2)\n",
        "\n",
        "    def build(self, input_shape):\n",
        "        assert len(input_shape) == 2\n",
        "        input_dim = input_shape[1]\n",
        "        self.input_spec = InputSpec(dtype=K.floatx(), shape=(None, input_dim))\n",
        "        self.clusters = self.add_weight((self.n_clusters, input_dim), initializer='glorot_uniform', name='clusters')\n",
        "        if self.initial_weights is not None:\n",
        "            self.set_weights(self.initial_weights)\n",
        "            del self.initial_weights\n",
        "        self.built = True\n",
        "\n",
        "    def call(self, inputs, **kwargs):\n",
        "        \"\"\" student t-distribution, as same as used in t-SNE algorithm.\n",
        "         Measure the similarity between embedded point z_i and centroid µ_j.\n",
        "                 q_ij = 1/(1+dist(x_i, µ_j)^2), then normalize it.\n",
        "                 q_ij can be interpreted as the probability of assigning sample i to cluster j.\n",
        "                 (i.e., a soft assignment)\n",
        "        Arguments:\n",
        "            inputs: the variable containing data, shape=(n_samples, n_features)\n",
        "        Return:\n",
        "            q: student's t-distribution, or soft labels for each sample. shape=(n_samples, n_clusters)\n",
        "        \"\"\"\n",
        "        q = 1.0 / (1.0 + (K.sum(K.square(K.expand_dims(inputs, axis=1) - self.clusters), axis=2) / self.alpha))\n",
        "        q **= (self.alpha + 1.0) / 2.0\n",
        "        q = K.transpose(K.transpose(q) / K.sum(q, axis=1)) # Make sure each sample's 10 values add up to 1.\n",
        "        return q\n",
        "\n",
        "    def compute_output_shape(self, input_shape):\n",
        "        assert input_shape and len(input_shape) == 2\n",
        "        return input_shape[0], self.n_clusters\n",
        "\n",
        "    def get_config(self):\n",
        "        config = {'n_clusters': self.n_clusters}\n",
        "        base_config = super(ClusteringLayer, self).get_config()\n",
        "        return dict(list(base_config.items()) + list(config.items()))"
      ],
      "execution_count": 0,
      "outputs": []
    },
    {
      "cell_type": "code",
      "metadata": {
        "id": "UBWW-5j2CeE1",
        "colab_type": "code",
        "colab": {}
      },
      "source": [
        "# computing an auxiliary target distribution\n",
        "def target_distribution(q):\n",
        "    weight = q ** 2 / q.sum(0)\n",
        "    return (weight.T / weight.sum(1)).T"
      ],
      "execution_count": 0,
      "outputs": []
    },
    {
      "cell_type": "code",
      "metadata": {
        "id": "VR5uUeU7EKTr",
        "colab_type": "code",
        "outputId": "816ae27d-ebee-4556-f527-bc5cbf069880",
        "colab": {
          "base_uri": "https://localhost:8080/",
          "height": 649
        }
      },
      "source": [
        "time_means_start = time.time()\n",
        "y_pred_train_list = []\n",
        "y_pred_train_list_means = []\n",
        "accuracy_list = []\n",
        "accuracy_means_list = []\n",
        "accuracy_ae_means_list=[]\n",
        "accuracy_ae_list = []\n",
        "tsne_list = []\n",
        "gmm_centres_list = []\n",
        "gmm_vars_list = []\n",
        "kmeans_centres_list = []\n",
        "accuracy_dec_list = []\n",
        "label_list = []\n",
        "# dbs = [100, 50, 30, 20, 10] + [i for i in range(9, -1, -1)]\n",
        "sensitivities = [100, 20, 10] + [5/i for i in range(1, 6, 1)]\n",
        "for sensitivity in sensitivities:\n",
        "  if os.path.exists(os.path.join(synthetic_path, f'X_sparsity_1_std_{1/sensitivity:.2f}.npy')):\n",
        "    X = np.load(os.path.join(synthetic_path, f'X_sparsity_1_std_{1/sensitivity:.2f}.npy'))\n",
        "    labels = np.load(os.path.join(synthetic_path, f'labels_sparsity_1_std_{1/sensitivity:.2f}.npy'))\n",
        "    labels = torch.Tensor(labels)\n",
        "    X =  torch.Tensor(X)\n",
        "  else:\n",
        "    a = create_data(sparsity = 1,std=1/sensitivity)\n",
        "    X = a[0]\n",
        "    labels = a[1]\n",
        "    labels = torch.Tensor(labels)\n",
        "    X =  torch.Tensor(X)\n",
        "    np.save(os.path.join(synthetic_path, f'X_sparsity_1_std_{1/sensitivity:.2f}.npy'), X)\n",
        "    np.save(os.path.join(synthetic_path, f'labels_sparsity_1_std_{1/sensitivity:.2f}.npy'), labels)\n",
        "  X = normalize(X.numpy(), axis = 0)\n",
        "\n",
        "  #===========================#\n",
        "  autoencoder, encoder = Autoencoder(dims, init=init)\n",
        "  autoencoder.compile(optimizer=pretrain_optimizer, loss='mse')\n",
        "  autoencoder.fit(X, X, batch_size=batch_size, epochs=pretrain_epochs) #, callbacks=cb)\n",
        "  autoencoder.save_weights(os.path.join(synthetic_path, f\"ae_sparsity_1_std_{1/sensitivity:.2f}.h5\"))\n",
        "  encoding = encoder.predict(X)\n",
        "  kmmeans = KMeans(n_clusters=2, n_init = 15).fit(encoding)\n",
        "  y_pred_ae_means = kmmeans.labels_\n",
        "  accs_ae_means = metrics.acc(labels.numpy().reshape(10002,), y_pred_ae_means.reshape(10002,))\n",
        "  print(\"Accuracy\",sensitivity, accs_ae_means)\n",
        "  accuracy_ae_means_list.append(accs_ae_means)\n",
        "  np.save(os.path.join(synthetic_path, f'encoding_sparsity_1_std_{1/sensitivity:.2f}.npy'), encoding)\n",
        "  del kmmeans, accs_ae_means\n",
        "  #============#\n",
        "  clustering_layer = ClusteringLayer(n_clusters = 2, name='clustering')(encoder.output)\n",
        "  model = Model(inputs=encoder.input, outputs=clustering_layer)\n",
        "  model.compile(optimizer=SGD(0.01, 0.9), loss='kld')\n",
        "  k_means = KMeans(n_clusters=2, n_init=20)\n",
        "  y_pred_ae = k_means.fit_predict(encoding) \n",
        "  y_pred_last = np.copy(y_pred_ae)\n",
        "  model.get_layer(name='clustering').set_weights([k_means.cluster_centers_])\n",
        "  # ===================#\n",
        "  loss = 0\n",
        "  index = 0\n",
        "  maxiter = 8000\n",
        "  update_interval = 140\n",
        "  index_array = np.arange(X.shape[0])\n",
        "  tol = 0.001 \n",
        "  acc = 0\n",
        "  #=====================#\n",
        "  for ite in range(int(maxiter)):\n",
        "      if ite % update_interval == 0:\n",
        "          q = model.predict(X, verbose=0)\n",
        "          p = target_distribution(q) \n",
        "          y_pred_ae = q.argmax(1)\n",
        "          print(y_pred_ae.shape)\n",
        "          print(labels.numpy().shape)\n",
        "          if labels.numpy() is not None:\n",
        "              acc = np.round(metrics.acc(labels.numpy().reshape(10002,), y_pred_ae), 5)\n",
        "              nmi = np.round(metrics.nmi(labels.numpy().reshape(10002,), y_pred_ae), 5)\n",
        "              ari = np.round(metrics.ari(labels.numpy().reshape(10002,), y_pred_ae), 5)\n",
        "              loss = np.round(loss, 5)\n",
        "              print('Iter %d: acc = %.5f, nmi = %.5f, ari = %.5f' % (ite, acc, nmi, ari), ' ; loss=', loss)\n",
        "          delta_label = np.sum(y_pred_ae != y_pred_last).astype(np.float32) / y_pred_ae.shape[0]\n",
        "          y_pred_last = np.copy(y_pred_ae)\n",
        "          if ite > 0 and delta_label < tol:\n",
        "              print('delta_label ', delta_label, '< tol ', tol)\n",
        "              print('Reached tolerance threshold. Stopping training.')\n",
        "              break\n",
        "      idx = index_array[index * batch_size: min((index+1) * batch_size, X.shape[0])]\n",
        "      loss = model.train_on_batch(x=X[idx], y=p[idx])\n",
        "      index = index + 1 if (index + 1) * batch_size <= X.shape[0] else 0\n",
        "  accuracy_dec_list.append(acc)\n",
        "  model.save_weights(os.path.join(synthetic_path, f'DEC_model_final_sparsity_1_std_{1/sensitivity:.2f}.h5'))\n",
        "  encoded_dec = encoder.predict(X)\n",
        "  np.save(os.path.join(synthetic_path, f'encoded_dec_sparsity_1_std_{1/sensitivity:.2f}.npy'), encoded_dec)\n",
        "  del encoding, loss, idx, index, model,acc,nmi, ari, clustering_layer, k_means, y_pred_last, delta_label, encoded_dec\n",
        "  #===========================#\n",
        "\n",
        "  #=========================#\n",
        "  gmmodel = mixture.GaussianMixture(n_components = 2, random_state = 42, covariance_type= 'full')\n",
        "  gmmodel.fit(X)  \n",
        "  gmm_centres_list.append(gmmodel.means_)\n",
        "  gmm_vars_list.append( gmmodel.covariances_)\n",
        "\n",
        "  y_pred_train = gmmodel.predict(X)\n",
        "  print(f'Gaussian Mixtures Models Done for std = {1/sensitivity:.2f}. Time elapsed = {time.time()-time_means_start:.2f}s')\n",
        "  accuracy = metrics.acc(labels.numpy(), y_pred_train)\n",
        "  print(f'Gaussian Mixture Model Accuracy = {(accuracy)*100:.2f}%')\n",
        "  #===========================#\n",
        "\n",
        "  #===========================#\n",
        "  kmodel = KMeans(n_clusters = 2, random_state = 42)\n",
        "  kmeans = kmodel.fit(X)\n",
        "  kmeans_centres_list.append(kmeans.cluster_centers_)\n",
        "  print(f'KMeans completed. Time elapsed = {time.time()-time_means_start:.2f}s')\n",
        "  y_pred_train_means = kmeans.labels_\n",
        "  accuracy_means = metrics.acc(labels.numpy(), y_pred_train_means)\n",
        "  print(f'KMeans Accuracy = {accuracy_means*100:.2f}%')\n",
        "  #===========================#\n",
        "  \n",
        "  #===========================#\n",
        "  # print(f'TSNE Started. Time elapsed = {time.time()-time_means_start:.2f}s')\n",
        "  # tsne =  TSNE(n_components=2, random_state=42).fit_transform(X)\n",
        "  # np.save(os.path.join(synthetic_path, f'tsne_sparsity_1_sensitivity_{sensitivity}'), tsne)\n",
        "  # print(f'TSNE Completed. Time elapsed = {time.time()-time_means_start:.2f}s')\n",
        "  # tsne_list.append(tsne)\n",
        "  # del tsne\n",
        "  #===========================#\n",
        "\n",
        "  #===========================#\n",
        "  y_pred_train_list_means.append(y_pred_train_means)\n",
        "  accuracy_means_list.append(accuracy_means)\n",
        "  accuracy_list.append(accuracy)\n",
        "  y_pred_train_list.append(y_pred_train)\n",
        "  label_list.append(labels)\n",
        "  \n",
        "  np.save(os.path.join(synthetic_path, f'gmm_preds_sparsity_1_std_{1/sensitivity:.2f}'), y_pred_train)\n",
        "  np.save(os.path.join(synthetic_path, f'kmeans_preds_sparsity_1_std_{1/sensitivity:.2f}'), y_pred_train_means)\n",
        "  del kmodel\n",
        "  # del autoencoder\n",
        "  # del encoder\n",
        "  del gmmodel\n",
        "  del X\n",
        "  del labels\n",
        "  del y_pred_train\n",
        "  print(f'Done time elapsed = {time.time()-time_means_start:.2f}s') "
      ],
      "execution_count": 57,
      "outputs": [
        {
          "output_type": "stream",
          "text": [
            "Creating Uniform data\n",
            "Creating Sparse Data\n",
            "WARNING:tensorflow:From /usr/local/lib/python3.6/dist-packages/keras/optimizers.py:793: The name tf.train.Optimizer is deprecated. Please use tf.compat.v1.train.Optimizer instead.\n",
            "\n",
            "WARNING:tensorflow:From /usr/local/lib/python3.6/dist-packages/keras/backend/tensorflow_backend.py:1033: The name tf.assign_add is deprecated. Please use tf.compat.v1.assign_add instead.\n",
            "\n",
            "WARNING:tensorflow:From /usr/local/lib/python3.6/dist-packages/keras/backend/tensorflow_backend.py:1020: The name tf.assign is deprecated. Please use tf.compat.v1.assign instead.\n",
            "\n",
            "WARNING:tensorflow:From /usr/local/lib/python3.6/dist-packages/keras/backend/tensorflow_backend.py:3005: The name tf.Session is deprecated. Please use tf.compat.v1.Session instead.\n",
            "\n",
            "Epoch 1/30\n",
            "WARNING:tensorflow:From /usr/local/lib/python3.6/dist-packages/keras/backend/tensorflow_backend.py:190: The name tf.get_default_session is deprecated. Please use tf.compat.v1.get_default_session instead.\n",
            "\n",
            "WARNING:tensorflow:From /usr/local/lib/python3.6/dist-packages/keras/backend/tensorflow_backend.py:197: The name tf.ConfigProto is deprecated. Please use tf.compat.v1.ConfigProto instead.\n",
            "\n"
          ],
          "name": "stdout"
        },
        {
          "output_type": "error",
          "ename": "KeyboardInterrupt",
          "evalue": "ignored",
          "traceback": [
            "\u001b[0;31m---------------------------------------------------------------------------\u001b[0m",
            "\u001b[0;31mKeyboardInterrupt\u001b[0m                         Traceback (most recent call last)",
            "\u001b[0;32m<ipython-input-57-4da638aaaaa4>\u001b[0m in \u001b[0;36m<module>\u001b[0;34m()\u001b[0m\n\u001b[1;32m     33\u001b[0m   \u001b[0mautoencoder\u001b[0m\u001b[0;34m,\u001b[0m \u001b[0mencoder\u001b[0m \u001b[0;34m=\u001b[0m \u001b[0mAutoencoder\u001b[0m\u001b[0;34m(\u001b[0m\u001b[0mdims\u001b[0m\u001b[0;34m,\u001b[0m \u001b[0minit\u001b[0m\u001b[0;34m=\u001b[0m\u001b[0minit\u001b[0m\u001b[0;34m)\u001b[0m\u001b[0;34m\u001b[0m\u001b[0;34m\u001b[0m\u001b[0m\n\u001b[1;32m     34\u001b[0m   \u001b[0mautoencoder\u001b[0m\u001b[0;34m.\u001b[0m\u001b[0mcompile\u001b[0m\u001b[0;34m(\u001b[0m\u001b[0moptimizer\u001b[0m\u001b[0;34m=\u001b[0m\u001b[0mpretrain_optimizer\u001b[0m\u001b[0;34m,\u001b[0m \u001b[0mloss\u001b[0m\u001b[0;34m=\u001b[0m\u001b[0;34m'mse'\u001b[0m\u001b[0;34m)\u001b[0m\u001b[0;34m\u001b[0m\u001b[0;34m\u001b[0m\u001b[0m\n\u001b[0;32m---> 35\u001b[0;31m   \u001b[0mautoencoder\u001b[0m\u001b[0;34m.\u001b[0m\u001b[0mfit\u001b[0m\u001b[0;34m(\u001b[0m\u001b[0mX\u001b[0m\u001b[0;34m,\u001b[0m \u001b[0mX\u001b[0m\u001b[0;34m,\u001b[0m \u001b[0mbatch_size\u001b[0m\u001b[0;34m=\u001b[0m\u001b[0mbatch_size\u001b[0m\u001b[0;34m,\u001b[0m \u001b[0mepochs\u001b[0m\u001b[0;34m=\u001b[0m\u001b[0mpretrain_epochs\u001b[0m\u001b[0;34m)\u001b[0m \u001b[0;31m#, callbacks=cb)\u001b[0m\u001b[0;34m\u001b[0m\u001b[0;34m\u001b[0m\u001b[0m\n\u001b[0m\u001b[1;32m     36\u001b[0m   \u001b[0mautoencoder\u001b[0m\u001b[0;34m.\u001b[0m\u001b[0msave_weights\u001b[0m\u001b[0;34m(\u001b[0m\u001b[0mos\u001b[0m\u001b[0;34m.\u001b[0m\u001b[0mpath\u001b[0m\u001b[0;34m.\u001b[0m\u001b[0mjoin\u001b[0m\u001b[0;34m(\u001b[0m\u001b[0msynthetic_path\u001b[0m\u001b[0;34m,\u001b[0m \u001b[0;34mf\"ae_sparsity_1_std_{1/sensitivity:.2f}.h5\"\u001b[0m\u001b[0;34m)\u001b[0m\u001b[0;34m)\u001b[0m\u001b[0;34m\u001b[0m\u001b[0;34m\u001b[0m\u001b[0m\n\u001b[1;32m     37\u001b[0m   \u001b[0mencoding\u001b[0m \u001b[0;34m=\u001b[0m \u001b[0mencoder\u001b[0m\u001b[0;34m.\u001b[0m\u001b[0mpredict\u001b[0m\u001b[0;34m(\u001b[0m\u001b[0mX\u001b[0m\u001b[0;34m)\u001b[0m\u001b[0;34m\u001b[0m\u001b[0;34m\u001b[0m\u001b[0m\n",
            "\u001b[0;32m/usr/local/lib/python3.6/dist-packages/keras/engine/training.py\u001b[0m in \u001b[0;36mfit\u001b[0;34m(self, x, y, batch_size, epochs, verbose, callbacks, validation_split, validation_data, shuffle, class_weight, sample_weight, initial_epoch, steps_per_epoch, validation_steps, validation_freq, max_queue_size, workers, use_multiprocessing, **kwargs)\u001b[0m\n\u001b[1;32m   1176\u001b[0m                                         \u001b[0msteps_per_epoch\u001b[0m\u001b[0;34m=\u001b[0m\u001b[0msteps_per_epoch\u001b[0m\u001b[0;34m,\u001b[0m\u001b[0;34m\u001b[0m\u001b[0;34m\u001b[0m\u001b[0m\n\u001b[1;32m   1177\u001b[0m                                         \u001b[0mvalidation_steps\u001b[0m\u001b[0;34m=\u001b[0m\u001b[0mvalidation_steps\u001b[0m\u001b[0;34m,\u001b[0m\u001b[0;34m\u001b[0m\u001b[0;34m\u001b[0m\u001b[0m\n\u001b[0;32m-> 1178\u001b[0;31m                                         validation_freq=validation_freq)\n\u001b[0m\u001b[1;32m   1179\u001b[0m \u001b[0;34m\u001b[0m\u001b[0m\n\u001b[1;32m   1180\u001b[0m     def evaluate(self,\n",
            "\u001b[0;32m/usr/local/lib/python3.6/dist-packages/keras/engine/training_arrays.py\u001b[0m in \u001b[0;36mfit_loop\u001b[0;34m(model, fit_function, fit_inputs, out_labels, batch_size, epochs, verbose, callbacks, val_function, val_inputs, shuffle, callback_metrics, initial_epoch, steps_per_epoch, validation_steps, validation_freq)\u001b[0m\n\u001b[1;32m    202\u001b[0m                     \u001b[0mins_batch\u001b[0m\u001b[0;34m[\u001b[0m\u001b[0mi\u001b[0m\u001b[0;34m]\u001b[0m \u001b[0;34m=\u001b[0m \u001b[0mins_batch\u001b[0m\u001b[0;34m[\u001b[0m\u001b[0mi\u001b[0m\u001b[0;34m]\u001b[0m\u001b[0;34m.\u001b[0m\u001b[0mtoarray\u001b[0m\u001b[0;34m(\u001b[0m\u001b[0;34m)\u001b[0m\u001b[0;34m\u001b[0m\u001b[0;34m\u001b[0m\u001b[0m\n\u001b[1;32m    203\u001b[0m \u001b[0;34m\u001b[0m\u001b[0m\n\u001b[0;32m--> 204\u001b[0;31m                 \u001b[0mouts\u001b[0m \u001b[0;34m=\u001b[0m \u001b[0mfit_function\u001b[0m\u001b[0;34m(\u001b[0m\u001b[0mins_batch\u001b[0m\u001b[0;34m)\u001b[0m\u001b[0;34m\u001b[0m\u001b[0;34m\u001b[0m\u001b[0m\n\u001b[0m\u001b[1;32m    205\u001b[0m                 \u001b[0mouts\u001b[0m \u001b[0;34m=\u001b[0m \u001b[0mto_list\u001b[0m\u001b[0;34m(\u001b[0m\u001b[0mouts\u001b[0m\u001b[0;34m)\u001b[0m\u001b[0;34m\u001b[0m\u001b[0;34m\u001b[0m\u001b[0m\n\u001b[1;32m    206\u001b[0m                 \u001b[0;32mfor\u001b[0m \u001b[0ml\u001b[0m\u001b[0;34m,\u001b[0m \u001b[0mo\u001b[0m \u001b[0;32min\u001b[0m \u001b[0mzip\u001b[0m\u001b[0;34m(\u001b[0m\u001b[0mout_labels\u001b[0m\u001b[0;34m,\u001b[0m \u001b[0mouts\u001b[0m\u001b[0;34m)\u001b[0m\u001b[0;34m:\u001b[0m\u001b[0;34m\u001b[0m\u001b[0;34m\u001b[0m\u001b[0m\n",
            "\u001b[0;32m/usr/local/lib/python3.6/dist-packages/keras/backend/tensorflow_backend.py\u001b[0m in \u001b[0;36m__call__\u001b[0;34m(self, inputs)\u001b[0m\n\u001b[1;32m   2957\u001b[0m \u001b[0;34m\u001b[0m\u001b[0m\n\u001b[1;32m   2958\u001b[0m     \u001b[0;32mdef\u001b[0m \u001b[0m__call__\u001b[0m\u001b[0;34m(\u001b[0m\u001b[0mself\u001b[0m\u001b[0;34m,\u001b[0m \u001b[0minputs\u001b[0m\u001b[0;34m)\u001b[0m\u001b[0;34m:\u001b[0m\u001b[0;34m\u001b[0m\u001b[0;34m\u001b[0m\u001b[0m\n\u001b[0;32m-> 2959\u001b[0;31m         \u001b[0;32mif\u001b[0m \u001b[0mhasattr\u001b[0m\u001b[0;34m(\u001b[0m\u001b[0mget_session\u001b[0m\u001b[0;34m(\u001b[0m\u001b[0;34m)\u001b[0m\u001b[0;34m,\u001b[0m \u001b[0;34m'_make_callable_from_options'\u001b[0m\u001b[0;34m)\u001b[0m\u001b[0;34m:\u001b[0m\u001b[0;34m\u001b[0m\u001b[0;34m\u001b[0m\u001b[0m\n\u001b[0m\u001b[1;32m   2960\u001b[0m             \u001b[0;32mif\u001b[0m \u001b[0mpy_any\u001b[0m\u001b[0;34m(\u001b[0m\u001b[0mis_sparse\u001b[0m\u001b[0;34m(\u001b[0m\u001b[0mx\u001b[0m\u001b[0;34m)\u001b[0m \u001b[0;32mfor\u001b[0m \u001b[0mx\u001b[0m \u001b[0;32min\u001b[0m \u001b[0mself\u001b[0m\u001b[0;34m.\u001b[0m\u001b[0minputs\u001b[0m\u001b[0;34m)\u001b[0m\u001b[0;34m:\u001b[0m\u001b[0;34m\u001b[0m\u001b[0;34m\u001b[0m\u001b[0m\n\u001b[1;32m   2961\u001b[0m                 \u001b[0;32mif\u001b[0m \u001b[0mpy_any\u001b[0m\u001b[0;34m(\u001b[0m\u001b[0mis_tensor\u001b[0m\u001b[0;34m(\u001b[0m\u001b[0mx\u001b[0m\u001b[0;34m)\u001b[0m \u001b[0;32mfor\u001b[0m \u001b[0mx\u001b[0m \u001b[0;32min\u001b[0m \u001b[0minputs\u001b[0m\u001b[0;34m)\u001b[0m\u001b[0;34m:\u001b[0m\u001b[0;34m\u001b[0m\u001b[0;34m\u001b[0m\u001b[0m\n",
            "\u001b[0;32m/usr/local/lib/python3.6/dist-packages/keras/backend/tensorflow_backend.py\u001b[0m in \u001b[0;36mget_session\u001b[0;34m()\u001b[0m\n\u001b[1;32m    201\u001b[0m                                         \u001b[0minter_op_parallelism_threads\u001b[0m\u001b[0;34m=\u001b[0m\u001b[0mnum_thread\u001b[0m\u001b[0;34m,\u001b[0m\u001b[0;34m\u001b[0m\u001b[0;34m\u001b[0m\u001b[0m\n\u001b[1;32m    202\u001b[0m                                         allow_soft_placement=True)\n\u001b[0;32m--> 203\u001b[0;31m             \u001b[0m_SESSION\u001b[0m \u001b[0;34m=\u001b[0m \u001b[0mtf\u001b[0m\u001b[0;34m.\u001b[0m\u001b[0mSession\u001b[0m\u001b[0;34m(\u001b[0m\u001b[0mconfig\u001b[0m\u001b[0;34m=\u001b[0m\u001b[0mconfig\u001b[0m\u001b[0;34m)\u001b[0m\u001b[0;34m\u001b[0m\u001b[0;34m\u001b[0m\u001b[0m\n\u001b[0m\u001b[1;32m    204\u001b[0m         \u001b[0msession\u001b[0m \u001b[0;34m=\u001b[0m \u001b[0m_SESSION\u001b[0m\u001b[0;34m\u001b[0m\u001b[0;34m\u001b[0m\u001b[0m\n\u001b[1;32m    205\u001b[0m     \u001b[0;32mif\u001b[0m \u001b[0;32mnot\u001b[0m \u001b[0m_MANUAL_VAR_INIT\u001b[0m\u001b[0;34m:\u001b[0m\u001b[0;34m\u001b[0m\u001b[0;34m\u001b[0m\u001b[0m\n",
            "\u001b[0;32m/usr/local/lib/python3.6/dist-packages/tensorflow_core/python/client/session.py\u001b[0m in \u001b[0;36m__init__\u001b[0;34m(self, target, graph, config)\u001b[0m\n\u001b[1;32m   1583\u001b[0m           \u001b[0mprotocol\u001b[0m \u001b[0mbuffer\u001b[0m \u001b[0;32mwith\u001b[0m \u001b[0mconfiguration\u001b[0m \u001b[0moptions\u001b[0m \u001b[0;32mfor\u001b[0m \u001b[0mthe\u001b[0m \u001b[0msession\u001b[0m\u001b[0;34m.\u001b[0m\u001b[0;34m\u001b[0m\u001b[0;34m\u001b[0m\u001b[0m\n\u001b[1;32m   1584\u001b[0m     \"\"\"\n\u001b[0;32m-> 1585\u001b[0;31m     \u001b[0msuper\u001b[0m\u001b[0;34m(\u001b[0m\u001b[0mSession\u001b[0m\u001b[0;34m,\u001b[0m \u001b[0mself\u001b[0m\u001b[0;34m)\u001b[0m\u001b[0;34m.\u001b[0m\u001b[0m__init__\u001b[0m\u001b[0;34m(\u001b[0m\u001b[0mtarget\u001b[0m\u001b[0;34m,\u001b[0m \u001b[0mgraph\u001b[0m\u001b[0;34m,\u001b[0m \u001b[0mconfig\u001b[0m\u001b[0;34m=\u001b[0m\u001b[0mconfig\u001b[0m\u001b[0;34m)\u001b[0m\u001b[0;34m\u001b[0m\u001b[0;34m\u001b[0m\u001b[0m\n\u001b[0m\u001b[1;32m   1586\u001b[0m     \u001b[0;31m# NOTE(mrry): Create these on first `__enter__` to avoid a reference cycle.\u001b[0m\u001b[0;34m\u001b[0m\u001b[0;34m\u001b[0m\u001b[0;34m\u001b[0m\u001b[0m\n\u001b[1;32m   1587\u001b[0m     \u001b[0mself\u001b[0m\u001b[0;34m.\u001b[0m\u001b[0m_default_graph_context_manager\u001b[0m \u001b[0;34m=\u001b[0m \u001b[0;32mNone\u001b[0m\u001b[0;34m\u001b[0m\u001b[0;34m\u001b[0m\u001b[0m\n",
            "\u001b[0;32m/usr/local/lib/python3.6/dist-packages/tensorflow_core/python/client/session.py\u001b[0m in \u001b[0;36m__init__\u001b[0;34m(self, target, graph, config)\u001b[0m\n\u001b[1;32m    697\u001b[0m     \u001b[0;32mtry\u001b[0m\u001b[0;34m:\u001b[0m\u001b[0;34m\u001b[0m\u001b[0;34m\u001b[0m\u001b[0m\n\u001b[1;32m    698\u001b[0m       \u001b[0;31m# pylint: disable=protected-access\u001b[0m\u001b[0;34m\u001b[0m\u001b[0;34m\u001b[0m\u001b[0;34m\u001b[0m\u001b[0m\n\u001b[0;32m--> 699\u001b[0;31m       \u001b[0mself\u001b[0m\u001b[0;34m.\u001b[0m\u001b[0m_session\u001b[0m \u001b[0;34m=\u001b[0m \u001b[0mtf_session\u001b[0m\u001b[0;34m.\u001b[0m\u001b[0mTF_NewSessionRef\u001b[0m\u001b[0;34m(\u001b[0m\u001b[0mself\u001b[0m\u001b[0;34m.\u001b[0m\u001b[0m_graph\u001b[0m\u001b[0;34m.\u001b[0m\u001b[0m_c_graph\u001b[0m\u001b[0;34m,\u001b[0m \u001b[0mopts\u001b[0m\u001b[0;34m)\u001b[0m\u001b[0;34m\u001b[0m\u001b[0;34m\u001b[0m\u001b[0m\n\u001b[0m\u001b[1;32m    700\u001b[0m       \u001b[0;31m# pylint: enable=protected-access\u001b[0m\u001b[0;34m\u001b[0m\u001b[0;34m\u001b[0m\u001b[0;34m\u001b[0m\u001b[0m\n\u001b[1;32m    701\u001b[0m     \u001b[0;32mfinally\u001b[0m\u001b[0;34m:\u001b[0m\u001b[0;34m\u001b[0m\u001b[0;34m\u001b[0m\u001b[0m\n",
            "\u001b[0;31mKeyboardInterrupt\u001b[0m: "
          ]
        }
      ]
    },
    {
      "cell_type": "markdown",
      "metadata": {
        "id": "64FNVVoSdxPV",
        "colab_type": "text"
      },
      "source": [
        "### Visualization and Evaluation"
      ]
    },
    {
      "cell_type": "code",
      "metadata": {
        "id": "cgzeRXYYCqJl",
        "colab_type": "code",
        "outputId": "573bfd8f-26d5-4022-acb5-1ea6ad4ad98e",
        "colab": {
          "base_uri": "https://localhost:8080/",
          "height": 311
        }
      },
      "source": [
        "tol = 0.001\n",
        "%matplotlib inline\n",
        "%config InlineBackend.figure_format = 'retina'\n",
        "sensitivities = [100, 20, 10] + [5/i for i in range(1, 6, 1)]\n",
        "names = list(map(lambda x : f'{1/x:.2f}', sensitivities))\n",
        "plt.plot(names, accuracy_list, label='Accuracy_GMM')\n",
        "plt.plot(accuracy_means_list, label = 'Accuracy by KMeans')\n",
        "plt.xlabel('std index')\n",
        "plt.ylabel(\"Accuracy\")\n",
        "# plt.plot(accuracy_dec_list, label='DEC Accuracy')\n",
        "# plt.plot(accuracy_ae_means_list, label = 'AE + kmeans Accuracy')\n",
        "# plt.plot(accuracy_ae_list, label = 'AE Accuracy')\n",
        "plt.legend(frameon=False)\n",
        "plt.title('Accuracies vs std')\n",
        "# plt.savefig(os.path.join(synthetic_path,f'Accuracies_vs_stds_tol_{tol}_update_interval_{update_interval}.png'))"
      ],
      "execution_count": 31,
      "outputs": [
        {
          "output_type": "execute_result",
          "data": {
            "text/plain": [
              "Text(0.5, 1.0, 'Accuracies vs std')"
            ]
          },
          "metadata": {
            "tags": []
          },
          "execution_count": 31
        },
        {
          "output_type": "display_data",
          "data": {
            "image/png": "[encoded data removed]",
            "text/plain": [
              "<Figure size 432x288 with 1 Axes>"
            ]
          },
          "metadata": {
            "tags": [],
            "image/png": {
              "width": 385,
              "height": 277
            }
          }
        }
      ]
    },
    {
      "cell_type": "code",
      "metadata": {
        "id": "r-wki0FvIVAs",
        "colab_type": "code",
        "outputId": "845860fa-a657-4df5-a32c-cc29f349c85e",
        "colab": {
          "base_uri": "https://localhost:8080/",
          "height": 34
        }
      },
      "source": [
        "gmm_vars_list[0].shape"
      ],
      "execution_count": 39,
      "outputs": [
        {
          "output_type": "execute_result",
          "data": {
            "text/plain": [
              "(39, 39)"
            ]
          },
          "metadata": {
            "tags": []
          },
          "execution_count": 39
        }
      ]
    },
    {
      "cell_type": "code",
      "metadata": {
        "id": "IGsB7UKL3AXD",
        "colab_type": "code",
        "colab": {}
      },
      "source": [
        "from scipy.interpolate import griddata\n",
        "import matplotlib.pyplot as plt\n",
        "import numpy.ma as ma\n",
        "from numpy.random import uniform, seed\n",
        "from matplotlib import cm\n"
      ],
      "execution_count": 0,
      "outputs": []
    },
    {
      "cell_type": "code",
      "metadata": {
        "id": "FJpKbf4S6Nhy",
        "colab_type": "code",
        "colab": {
          "base_uri": "https://localhost:8080/",
          "height": 334
        },
        "outputId": "2996f7dd-1386-4ba7-e26b-6afb0f60ebb9"
      },
      "source": [
        "i = 0\n",
        "j = 100\n",
        "X = np.load(os.path.join(synthetic_path, f'X_sparsity_1_std_{1/j:.2f}.npy'))\n",
        "pca = PCA(n_components=2)\n",
        "pcax = pca.fit_transform(X)\n",
        "gcentres_1 = pca.transform(gmm_centres_list[i][0].reshape(1,39)).reshape(2,)\n",
        "gcentres_2 = pca.transform(gmm_centres_list[i][1].reshape(1,39)).reshape(2,)\n",
        "gvars_1 = pca.transform(gmm_vars_list[i][0])\n",
        "gvars_11 = pca.transform(gvars_1.T)\n",
        "gvars_1_actual = gvars_11.T\n",
        "gvars_2 = pca.transform(gmm_vars_list[i][1])\n",
        "gvars_22 = pca.transform(gvars_2.T)\n",
        "gvars_2_actual = gvars_22.T\n",
        "def gauss(x,y,Sigma,mu):\n",
        "    X=np.vstack((x,y)).T\n",
        "    mat_multi=np.dot((X-mu[None,...]).dot(np.linalg.inv(Sigma)),(X-mu[None,...]).T)\n",
        "    return  np.diag(np.exp(-1*(mat_multi)))\n",
        "\n",
        "def plot_countour(x,y,z):\n",
        "    # define grid.\n",
        "    xi = np.linspace(-1000.1,1000.1,1000)\n",
        "    yi = np.linspace(-1000.1,1000.1,1000)\n",
        "    ## grid the data.\n",
        "    zi = griddata((x, y), z, (xi[None,:], yi[:,None]), method='cubic')\n",
        "    # contour the gridded data, plotting dots at the randomly spaced data points.\n",
        "    CS = plt.contour(xi,yi,zi,6,linewidths=0.5,colors='k')\n",
        "    #CS = plt.contourf(xi,yi,zi,15,cmap=plt.cm.jet)\n",
        "    CS = plt.contourf(xi,yi,zi,6,cmap=cm.Greys_r)\n",
        "    #plt.colorbar() # draw colorbar\n",
        "    # plot data points.\n",
        "    #plt.scatter(x,y,marker='o',c='b',s=5)\n",
        "    plt.xlim(-1000,1000)\n",
        "    plt.ylim(-1000,1000)\n",
        "    plt.title('griddata test (%d points)' % npts)\n",
        "    plt.show()\n",
        "\n",
        "\n",
        "# make up some randomly distributed data\n",
        "seed(1234)\n",
        "npts = 10000\n",
        "x = uniform(-1000,1000,npts)\n",
        "y = uniform(-1000,1000,npts)\n",
        "z = gauss(x,y,Sigma=gvars_1_actual,mu=gcentres_1)\n",
        "plot_countour(x,y,z)"
      ],
      "execution_count": 38,
      "outputs": [
        {
          "output_type": "stream",
          "text": [
            "/usr/local/lib/python3.6/dist-packages/ipykernel_launcher.py:17: RuntimeWarning: overflow encountered in exp\n",
            "/usr/local/lib/python3.6/dist-packages/ipykernel_launcher.py:26: UserWarning: No contour levels were found within the data range.\n"
          ],
          "name": "stderr"
        },
        {
          "output_type": "display_data",
          "data": {
            "image/png": "[encoded data removed]",
            "text/plain": [
              "<Figure size 432x288 with 1 Axes>"
            ]
          },
          "metadata": {
            "tags": [],
            "image/png": {
              "width": 403,
              "height": 263
            }
          }
        }
      ]
    },
    {
      "cell_type": "code",
      "metadata": {
        "id": "7MBbv5GhGC64",
        "colab_type": "code",
        "colab": {}
      },
      "source": [
        "import numpy as np\n",
        "\n",
        "def np_bivariate_normal_pdf(domain, meanx, meany, variance):\n",
        "  X = np.arange(-domain+meanx, domain+meanx, variance)\n",
        "  Y = np.arange(-domain+meany, domain+meany, variance)\n",
        "  X, Y = np.meshgrid(X, Y)\n",
        "  R = np.sqrt(X**2 + Y**2)\n",
        "  Z = ((1. / np.sqrt(2 * np.pi)) * np.exp(-.5*R**2))\n",
        "  return X+meanx, Y+meany, Z"
      ],
      "execution_count": 0,
      "outputs": []
    },
    {
      "cell_type": "code",
      "metadata": {
        "id": "GsnEiSYTGMMW",
        "colab_type": "code",
        "colab": {}
      },
      "source": [
        "import matplotlib.pyplot as plt\n",
        "from matplotlib import cm\n",
        "from mpl_toolkits.mplot3d import Axes3D\n",
        "\n",
        "def plt_plot_bivariate_normal_pdf(x, y, z, name):\n",
        "  fig = plt.figure(figsize=(12, 6))\n",
        "  ax = fig.gca(projection='3d')\n",
        "  ax.plot_surface(x, y, z, \n",
        "                  cmap=cm.coolwarm,\n",
        "                  linewidth=0, \n",
        "                  antialiased=True)\n",
        "  ax.set_xlabel('x')\n",
        "  ax.set_ylabel('y')\n",
        "  ax.set_zlabel('z');\n",
        "  plt.show()"
      ],
      "execution_count": 0,
      "outputs": []
    },
    {
      "cell_type": "code",
      "metadata": {
        "id": "XsaQPebWGTKH",
        "colab_type": "code",
        "colab": {}
      },
      "source": [
        "plt_plot_bivariate_normal_pdf(*np_bivariate_normal_pdf(6, gcentres_1[0].item(), gcentres_1[1].item(), gvars_1_actual))"
      ],
      "execution_count": 0,
      "outputs": []
    },
    {
      "cell_type": "code",
      "metadata": {
        "id": "vDunjJj2DrfW",
        "colab_type": "code",
        "colab": {
          "base_uri": "https://localhost:8080/",
          "height": 34
        },
        "outputId": "5be963c9-f2fd-4343-82a1-716fa3a1e796"
      },
      "source": [
        "gcentres_1"
      ],
      "execution_count": 35,
      "outputs": [
        {
          "output_type": "execute_result",
          "data": {
            "text/plain": [
              "array([-0.00102067,  0.00760056])"
            ]
          },
          "metadata": {
            "tags": []
          },
          "execution_count": 35
        }
      ]
    },
    {
      "cell_type": "code",
      "metadata": {
        "id": "ILSJ47ktCUzq",
        "colab_type": "code",
        "colab": {
          "base_uri": "https://localhost:8080/",
          "height": 34
        },
        "outputId": "cd17457b-f2a8-49a1-f662-24f2d1d34b93"
      },
      "source": [
        "gcentres.shape"
      ],
      "execution_count": 73,
      "outputs": [
        {
          "output_type": "execute_result",
          "data": {
            "text/plain": [
              "(2,)"
            ]
          },
          "metadata": {
            "tags": []
          },
          "execution_count": 73
        }
      ]
    },
    {
      "cell_type": "code",
      "metadata": {
        "id": "W7pSqZM89Ntd",
        "colab_type": "code",
        "colab": {}
      },
      "source": [
        "mu=np.asarray([0.,0.])"
      ],
      "execution_count": 0,
      "outputs": []
    },
    {
      "cell_type": "code",
      "metadata": {
        "id": "jvIMCw6yCOee",
        "colab_type": "code",
        "colab": {
          "base_uri": "https://localhost:8080/",
          "height": 34
        },
        "outputId": "3491931b-79a7-4c25-9eae-7673358850c1"
      },
      "source": [
        "mu.shape"
      ],
      "execution_count": 71,
      "outputs": [
        {
          "output_type": "execute_result",
          "data": {
            "text/plain": [
              "(2,)"
            ]
          },
          "metadata": {
            "tags": []
          },
          "execution_count": 71
        }
      ]
    },
    {
      "cell_type": "code",
      "metadata": {
        "id": "VMxCpqYH5KBf",
        "colab_type": "code",
        "colab": {}
      },
      "source": [
        "fig = plt.figure(figsize=(8,8))\n",
        "ax = fig.gca()\n",
        "ax.set_xlim(xmin, xmax)\n",
        "ax.set_ylim(ymin, ymax)\n",
        "cfset = ax.contourf(xx, yy, f, cmap='coolwarm)\n",
        "ax.imshow(np.rot90(f), cmap='coolwarm', extent=[xmin, xmax, ymin, ymax])\n",
        "cset = ax.contour(xx, yy, f, colors='k')\n",
        "ax.clabel(cset, inline=1, fontsize=10)\n",
        "ax.set_xlabel('X')\n",
        "ax.set_ylabel('Y')\n",
        "plt.title('2D Gaussian Kernel density estimation')"
      ],
      "execution_count": 0,
      "outputs": []
    },
    {
      "cell_type": "code",
      "metadata": {
        "id": "eyEdJ3IvFlMt",
        "colab_type": "code",
        "colab": {}
      },
      "source": [
        "time_start = time.time()\n",
        "i = 0\n",
        "j = 100\n",
        "X = np.load(os.path.join(synthetic_path, f'X_sparsity_1_std_{1/j:.2f}.npy'))\n",
        "pca = PCA(n_components=2)\n",
        "pcax = pca.fit(X)\n",
        "print(f'PCA done. Time elapsed = {time.time()- time_start:.2f}s')\n",
        "gcentres = pca.transform(gmm_centres_list[i])\n",
        "gvars = pca.transform(gmm_vars_list[i])\n",
        "def gauss(x,y,Sigma,mu):\n",
        "    X=np.vstack((x,y)).T\n",
        "    mat_multi=np.dot((X-mu[None,...]).dot(np.linalg.inv(Sigma)),(X-mu[None,...]).T)\n",
        "    return  np.diag(np.exp(-1*(mat_multi)))\n",
        "\n",
        "def plot_countour(x,y,z):\n",
        "    # define grid.\n",
        "    xi = np.linspace(-2.1,2.1,100)\n",
        "    yi = np.linspace(-2.1,2.1,100)\n",
        "    ## grid the data.\n",
        "    zi = griddata((x, y), z, (xi[None,:], yi[:,None]), method='cubic')\n",
        "    # contour the gridded data, plotting dots at the randomly spaced data points.\n",
        "    CS = plt.contour(xi,yi,zi,6,linewidths=0.5,colors='k')\n",
        "    #CS = plt.contourf(xi,yi,zi,15,cmap=plt.cm.jet)\n",
        "    CS = plt.contourf(xi,yi,zi,6,cmap=cm.Greys_r)\n",
        "    #plt.colorbar() # draw colorbar\n",
        "    # plot data points.\n",
        "    #plt.scatter(x,y,marker='o',c='b',s=5)\n",
        "    plt.xlim(-2,2)\n",
        "    plt.ylim(-2,2)\n",
        "    plt.title('griddata test (%d points)' % npts)\n",
        "    plt.show()\n",
        "\n",
        "\n",
        "# make up some randomly distributed data\n",
        "seed(1234)\n",
        "npts = 1000\n",
        "x = uniform(-2,2,npts)\n",
        "y = uniform(-2,2,npts)\n",
        "z = gauss(x,y,Sigma=np.asarray([[1.,0.],[0.,1.]]),mu=np.asarray([0.,0.]))\n",
        "plot_countour(x,y,z)\n",
        "plt.savefig(os.path.join(synthetic_path, f'Gaussian_Contourt'))\n",
        "for i in tqdm(range(len(pca))):\n",
        "  plt.scatter(pcax[i][0], pcax[i][1], c=colors[int(y[i].item())])\n",
        "plt.title(f'PCA Vis. W/O Norm. on Ground Truth std {1/j:.2f}')\n",
        "plt.savefig(os.path.join(synthetic_path, f'pca_visualization_wo_normalization_ground_truth_std_{1/j:.2f}.png'))  \n",
        "plt.clf()\n",
        "print(f'Visualized PCA Grounds. Time elapsed = {time.time()- time_start:.2f}s')  \n",
        "del pca"
      ],
      "execution_count": 0,
      "outputs": []
    },
    {
      "cell_type": "code",
      "metadata": {
        "id": "TCPXgmTBKSyF",
        "colab_type": "code",
        "outputId": "b06d2e67-49b6-457c-b517-dc34aa20b79a",
        "colab": {
          "base_uri": "https://localhost:8080/",
          "height": 1000
        }
      },
      "source": [
        "time_start = time.time()\n",
        "js = [100, 10, 5, 5/3, 5/4,1]\n",
        "for j in js:\n",
        "  if os.path.exists(os.path.join(synthetic_path, f'X_sparsity_1_std_{1/j:.2f}.npy')):\n",
        "    X = np.load(os.path.join(synthetic_path, f'X_sparsity_1_std_{1/j:.2f}.npy'))\n",
        "    y = np.load(os.path.join(synthetic_path, f'labels_sparsity_1_std_{1/j:.2f}.npy'))\n",
        "    # labels = torch.Tensor(labels)\n",
        "    # X =  torch.Tensor(X)\n",
        "  else:\n",
        "    a = create_data(sparsity = 1,std=1/j)\n",
        "    X = a[0].numpy()\n",
        "    y = a[1].numpy()\n",
        "    np.save(os.path.join(synthetic_path, f'X_sparsity_1_std_{1/j:.2f}.npy'),X)\n",
        "    np.save(os.path.join(synthetic_path, f'labels_sparsity_1_std_{1/j:.2f}.npy'), y)\n",
        "  \n",
        "  tsne = TSNE(n_components=2).fit_transform(X)\n",
        "  print(f'TSNE done. Time elapsed = {time.time()- time_start:.2f}s')\n",
        "\n",
        "  for i in tqdm(range(len(tsne))):\n",
        "    plt.scatter(tsne[i][0], tsne[i][1], c=colors[int(y[i].item())])\n",
        "  plt.title(f'TSNE Vis. W/O Norm. on Ground Truth std {1/j:.2f}')\n",
        "  plt.savefig(os.path.join(synthetic_path, f'tsne_visualization_wo_normalization_ground_truth_std_{1/j:.2f}.png'))\n",
        "  plt.clf()\n",
        "  print(f'Visualized TSNE Grounds. Time elapsed = {time.time()- time_start:.2f}s')\n",
        "  del tsne\n",
        "\n",
        "  pca = PCA(n_components=2).fit_transform(X)\n",
        "  print(f'PCA done. Time elapsed = {time.time()- time_start:.2f}s')\n",
        "\n",
        "  for i in tqdm(range(len(pca))):\n",
        "    plt.scatter(pca[i][0], pca[i][1], c=colors[int(y[i].item())])\n",
        "  plt.title(f'PCA Vis. W/O Norm. on Ground Truth std {1/j:.2f}')\n",
        "  plt.savefig(os.path.join(synthetic_path, f'pca_visualization_wo_normalization_ground_truth_std_{1/j:.2f}.png'))  \n",
        "  plt.clf()\n",
        "  print(f'Visualized PCA Grounds. Time elapsed = {time.time()- time_start:.2f}s')  \n",
        "  del pca\n",
        "\n",
        "  Lda = LinearDiscriminantAnalysis(n_components=2)\n",
        "  lda = Lda.fit_transform(X, y.reshape(len(y),))\n",
        "  plt.hist(lda)\n",
        "  plt.title(f'LDA Vis. W/O Norm. on Ground Truth std {1/j:.2f}')\n",
        "  plt.savefig(os.path.join(synthetic_path, f'lda_visualization_wo_normalization_ground_truth_std_{1/j:.2f}.png'))\n",
        "  plt.clf()\n",
        "  del lda, Lda\n",
        "  print(f'LDA done. Time elapsed = {time.time()- time_start:.2f}s')\n",
        "\n",
        "  if(j == 100):\n",
        "      to_conc = cv2.imread(os.path.join(synthetic_path, f'tsne_visualization_wo_normalization_ground_truth_std_{1/j:.2f}.png'))\n",
        "      po_conc = cv2.imread(os.path.join(synthetic_path, f'pca_visualization_wo_normalization_ground_truth_std_{1/j:.2f}.png'))\n",
        "      lo_conc = cv2.imread(os.path.join(synthetic_path, f'lda_visualization_wo_normalization_ground_truth_std_{1/j:.2f}.png'))\n",
        "  else:\n",
        "    ton = cv2.imread(os.path.join(synthetic_path, f'tsne_visualization_wo_normalization_ground_truth_std_{1/j:.2f}.png'))\n",
        "    po = cv2.imread(os.path.join(synthetic_path,f'pca_visualization_wo_normalization_ground_truth_std_{1/j:.2f}.png'))\n",
        "    lo = cv2.imread(os.path.join(synthetic_path, f'lda_visualization_wo_normalization_ground_truth_std_{1/j:.2f}.png'))\n",
        "    to_conc = cv2.hconcat([to_conc, ton])\n",
        "    po_conc = cv2.hconcat([po_conc, po])\n",
        "    lo_conc = cv2.hconcat([lo_conc, lo])\n",
        "    del ton,po,lo  \n",
        "\n",
        "  X = normalize(X, axis = 0)\n",
        "  print('Normalized.')\n",
        "\n",
        "  tsne = TSNE(n_components=2).fit_transform(X)\n",
        "  print(f'TSNE done. Time elapsed = {time.time()- time_start:.2f}s')\n",
        "\n",
        "  for i in tqdm(range(len(tsne))):\n",
        "    plt.scatter(tsne[i][0], tsne[i][1], c=colors[int(y[i].item())])\n",
        "  plt.title(f'TSNE Vis. W/ Norm. on Ground Truth std {1/j:.2f}')\n",
        "  plt.savefig(os.path.join(synthetic_path, f'tsne_visualization_w_normalization_ground_truth_std_{1/j:.2f}.png'))\n",
        "  plt.clf()\n",
        "  print(f'Visualized TSNE Grounds. Time elapsed = {time.time()- time_start:.2f}s')\n",
        "  del tsne\n",
        "\n",
        "  pca = PCA(n_components=2).fit_transform(X)\n",
        "  print(f'PCA done. Time elapsed = {time.time()- time_start:.2f}s')\n",
        "\n",
        "  for i in tqdm(range(len(pca))):\n",
        "    plt.scatter(pca[i][0], pca[i][1], c=colors[int(y[i].item())])\n",
        "  plt.title(f'PCA Vis. W/ Norm. on Ground Truth std {1/j:.2f}')\n",
        "  plt.savefig(os.path.join(synthetic_path, f'pca_visualization_w_normalization_ground_truth_std_{1/j:.2f}.png'))\n",
        "  plt.clf()\n",
        "  print(f'Visualized PCA Grounds. Time elapsed = {time.time()- time_start:.2f}s')\n",
        "  \n",
        "  del pca\n",
        "\n",
        "  Lda = LinearDiscriminantAnalysis(n_components=2)\n",
        "  lda = Lda.fit_transform(X, y.reshape(len(y),))\n",
        "  plt.hist(lda)\n",
        "  plt.title(f'LDA Vis. W/ Norm. on Ground Truth std {1/j:.2f}')\n",
        "  plt.legend(frameon=False)\n",
        "  plt.savefig(os.path.join(synthetic_path, f'lda_visualization_w_normalization_ground_truth_std_{1/j:.2f}.png'))\n",
        "  plt.clf()\n",
        "  del lda, Lda\n",
        "  print(f'LDA done. Time elapsed = {time.time()- time_start:.2f}s')\n",
        "\n",
        "  if(j == 100):\n",
        "      t_conc = cv2.imread(os.path.join(synthetic_path, f'tsne_visualization_w_normalization_ground_truth_std_{1/j:.2f}.png'))\n",
        "      p_conc = cv2.imread(os.path.join(synthetic_path, f'pca_visualization_w_normalization_ground_truth_std_{1/j:.2f}.png'))\n",
        "      l_conc = cv2.imread(os.path.join(synthetic_path, f'lda_visualization_w_normalization_ground_truth_std_{1/j:.2f}.png'))\n",
        "  else:\n",
        "    t = cv2.imread(os.path.join(synthetic_path, f'tsne_visualization_w_normalization_ground_truth_std_{1/j:.2f}.png'))\n",
        "    p = cv2.imread(os.path.join(synthetic_path,f'pca_visualization_w_normalization_ground_truth_std_{1/j:.2f}.png'))\n",
        "    l = cv2.imread(os.path.join(synthetic_path, f'lda_visualization_w_normalization_ground_truth_std_{1/j:.2f}.png'))\n",
        "    t_conc = cv2.hconcat([t_conc, t])\n",
        "    p_conc = cv2.hconcat([p_conc, p])\n",
        "    l_conc = cv2.hconcat([l_conc, l])\n",
        "    del t,p,l\n",
        "  del X, y\n",
        "  print(f'Done std {1/j:.2f}. Time Elapsed = {time.time()- time_start:.2f}s')\n",
        "\n",
        "cv2.imwrite(os.path.join(synthetic_path, 'tsne_visualization_wo_normalization_for_all_std.png'), to_conc)\n",
        "cv2.imwrite(os.path.join(synthetic_path, 'tsne_visualization_w_normalization_for_all_std.png'), t_conc)\n",
        "cv2.imwrite(os.path.join(synthetic_path, 'pca_visualization_wo_normalization_for_all_std.png'), po_conc)\n",
        "cv2.imwrite(os.path.join(synthetic_path, 'pca_visualization_w_normalization_for_all_std.png'), p_conc)\n",
        "cv2.imwrite(os.path.join(synthetic_path, 'lda_visualization_wo_normalization_for_all_std.png'), lo_conc)\n",
        "cv2.imwrite(os.path.join(synthetic_path, 'lda_visualization_w_normalization_for_all_std.png'), l_conc)"
      ],
      "execution_count": 0,
      "outputs": [
        {
          "output_type": "stream",
          "text": [
            "  0%|          | 24/10002 [00:00<00:42, 233.78it/s]"
          ],
          "name": "stderr"
        },
        {
          "output_type": "stream",
          "text": [
            "TSNE done. Time elapsed = 99.89s\n"
          ],
          "name": "stdout"
        },
        {
          "output_type": "stream",
          "text": [
            "100%|██████████| 10002/10002 [01:20<00:00, 123.94it/s]\n",
            "  0%|          | 24/10002 [00:00<00:41, 238.26it/s]"
          ],
          "name": "stderr"
        },
        {
          "output_type": "stream",
          "text": [
            "Visualized TSNE Grounds. Time elapsed = 187.12s\n",
            "PCA done. Time elapsed = 187.14s\n"
          ],
          "name": "stdout"
        },
        {
          "output_type": "stream",
          "text": [
            "100%|██████████| 10002/10002 [01:21<00:00, 123.23it/s]\n"
          ],
          "name": "stderr"
        },
        {
          "output_type": "stream",
          "text": [
            "Visualized PCA Grounds. Time elapsed = 274.81s\n"
          ],
          "name": "stdout"
        },
        {
          "output_type": "stream",
          "text": [
            "/usr/local/lib/python3.6/dist-packages/sklearn/discriminant_analysis.py:466: ChangedBehaviorWarning: n_components cannot be larger than min(n_features, n_classes - 1). Using min(n_features, n_classes - 1) = min(39, 2 - 1) = 1 components.\n",
            "  ChangedBehaviorWarning)\n",
            "/usr/local/lib/python3.6/dist-packages/sklearn/discriminant_analysis.py:472: FutureWarning: In version 0.23, setting n_components > min(n_features, n_classes - 1) will raise a ValueError. You should set n_components to None (default), or a value smaller or equal to min(n_features, n_classes - 1).\n",
            "  warnings.warn(future_msg, FutureWarning)\n",
            "/usr/local/lib/python3.6/dist-packages/sklearn/discriminant_analysis.py:388: UserWarning: Variables are collinear.\n",
            "  warnings.warn(\"Variables are collinear.\")\n"
          ],
          "name": "stderr"
        },
        {
          "output_type": "stream",
          "text": [
            "LDA done. Time elapsed = 275.08s\n",
            "Normalized.\n"
          ],
          "name": "stdout"
        },
        {
          "output_type": "stream",
          "text": [
            "  0%|          | 24/10002 [00:00<00:42, 234.06it/s]"
          ],
          "name": "stderr"
        },
        {
          "output_type": "stream",
          "text": [
            "TSNE done. Time elapsed = 371.27s\n"
          ],
          "name": "stdout"
        },
        {
          "output_type": "stream",
          "text": [
            "100%|██████████| 10002/10002 [01:20<00:00, 124.64it/s]\n",
            "  0%|          | 25/10002 [00:00<00:40, 248.56it/s]"
          ],
          "name": "stderr"
        },
        {
          "output_type": "stream",
          "text": [
            "Visualized TSNE Grounds. Time elapsed = 457.98s\n",
            "PCA done. Time elapsed = 458.01s\n"
          ],
          "name": "stdout"
        },
        {
          "output_type": "stream",
          "text": [
            "100%|██████████| 10002/10002 [01:20<00:00, 124.02it/s]\n",
            "/usr/local/lib/python3.6/dist-packages/sklearn/discriminant_analysis.py:466: ChangedBehaviorWarning: n_components cannot be larger than min(n_features, n_classes - 1). Using min(n_features, n_classes - 1) = min(39, 2 - 1) = 1 components.\n",
            "  ChangedBehaviorWarning)\n",
            "/usr/local/lib/python3.6/dist-packages/sklearn/discriminant_analysis.py:472: FutureWarning: In version 0.23, setting n_components > min(n_features, n_classes - 1) will raise a ValueError. You should set n_components to None (default), or a value smaller or equal to min(n_features, n_classes - 1).\n",
            "  warnings.warn(future_msg, FutureWarning)\n",
            "/usr/local/lib/python3.6/dist-packages/sklearn/discriminant_analysis.py:388: UserWarning: Variables are collinear.\n",
            "  warnings.warn(\"Variables are collinear.\")\n",
            "No handles with labels found to put in legend.\n"
          ],
          "name": "stderr"
        },
        {
          "output_type": "stream",
          "text": [
            "Visualized PCA Grounds. Time elapsed = 545.28s\n",
            "LDA done. Time elapsed = 545.57s\n",
            "Done std 0.01. Time Elapsed = 545.59s\n"
          ],
          "name": "stdout"
        },
        {
          "output_type": "stream",
          "text": [
            "  0%|          | 25/10002 [00:00<00:40, 244.40it/s]"
          ],
          "name": "stderr"
        },
        {
          "output_type": "stream",
          "text": [
            "TSNE done. Time elapsed = 647.23s\n"
          ],
          "name": "stdout"
        },
        {
          "output_type": "stream",
          "text": [
            "100%|██████████| 10002/10002 [01:21<00:00, 122.77it/s]\n",
            "  0%|          | 25/10002 [00:00<00:40, 245.61it/s]"
          ],
          "name": "stderr"
        },
        {
          "output_type": "stream",
          "text": [
            "Visualized TSNE Grounds. Time elapsed = 735.27s\n",
            "PCA done. Time elapsed = 735.30s\n"
          ],
          "name": "stdout"
        },
        {
          "output_type": "stream",
          "text": [
            "100%|██████████| 10002/10002 [01:21<00:00, 123.38it/s]\n"
          ],
          "name": "stderr"
        },
        {
          "output_type": "stream",
          "text": [
            "Visualized PCA Grounds. Time elapsed = 822.88s\n"
          ],
          "name": "stdout"
        },
        {
          "output_type": "stream",
          "text": [
            "/usr/local/lib/python3.6/dist-packages/sklearn/discriminant_analysis.py:466: ChangedBehaviorWarning: n_components cannot be larger than min(n_features, n_classes - 1). Using min(n_features, n_classes - 1) = min(39, 2 - 1) = 1 components.\n",
            "  ChangedBehaviorWarning)\n",
            "/usr/local/lib/python3.6/dist-packages/sklearn/discriminant_analysis.py:472: FutureWarning: In version 0.23, setting n_components > min(n_features, n_classes - 1) will raise a ValueError. You should set n_components to None (default), or a value smaller or equal to min(n_features, n_classes - 1).\n",
            "  warnings.warn(future_msg, FutureWarning)\n",
            "/usr/local/lib/python3.6/dist-packages/sklearn/discriminant_analysis.py:388: UserWarning: Variables are collinear.\n",
            "  warnings.warn(\"Variables are collinear.\")\n"
          ],
          "name": "stderr"
        },
        {
          "output_type": "stream",
          "text": [
            "LDA done. Time elapsed = 823.16s\n",
            "Normalized.\n"
          ],
          "name": "stdout"
        },
        {
          "output_type": "stream",
          "text": [
            "  0%|          | 23/10002 [00:00<00:44, 224.11it/s]"
          ],
          "name": "stderr"
        },
        {
          "output_type": "stream",
          "text": [
            "TSNE done. Time elapsed = 926.26s\n"
          ],
          "name": "stdout"
        },
        {
          "output_type": "stream",
          "text": [
            "100%|██████████| 10002/10002 [01:21<00:00, 123.39it/s]\n",
            "  0%|          | 25/10002 [00:00<00:40, 245.94it/s]"
          ],
          "name": "stderr"
        },
        {
          "output_type": "stream",
          "text": [
            "Visualized TSNE Grounds. Time elapsed = 1013.84s\n",
            "PCA done. Time elapsed = 1013.86s\n"
          ],
          "name": "stdout"
        },
        {
          "output_type": "stream",
          "text": [
            "100%|██████████| 10002/10002 [01:21<00:00, 123.14it/s]\n",
            "/usr/local/lib/python3.6/dist-packages/sklearn/discriminant_analysis.py:466: ChangedBehaviorWarning: n_components cannot be larger than min(n_features, n_classes - 1). Using min(n_features, n_classes - 1) = min(39, 2 - 1) = 1 components.\n",
            "  ChangedBehaviorWarning)\n",
            "/usr/local/lib/python3.6/dist-packages/sklearn/discriminant_analysis.py:472: FutureWarning: In version 0.23, setting n_components > min(n_features, n_classes - 1) will raise a ValueError. You should set n_components to None (default), or a value smaller or equal to min(n_features, n_classes - 1).\n",
            "  warnings.warn(future_msg, FutureWarning)\n",
            "/usr/local/lib/python3.6/dist-packages/sklearn/discriminant_analysis.py:388: UserWarning: Variables are collinear.\n",
            "  warnings.warn(\"Variables are collinear.\")\n",
            "No handles with labels found to put in legend.\n"
          ],
          "name": "stderr"
        },
        {
          "output_type": "stream",
          "text": [
            "Visualized PCA Grounds. Time elapsed = 1101.60s\n",
            "LDA done. Time elapsed = 1101.87s\n",
            "Done std 0.10. Time Elapsed = 1101.88s\n"
          ],
          "name": "stdout"
        },
        {
          "output_type": "stream",
          "text": [
            "  0%|          | 23/10002 [00:00<00:43, 227.85it/s]"
          ],
          "name": "stderr"
        },
        {
          "output_type": "stream",
          "text": [
            "TSNE done. Time elapsed = 1224.97s\n"
          ],
          "name": "stdout"
        },
        {
          "output_type": "stream",
          "text": [
            "100%|██████████| 10002/10002 [01:20<00:00, 124.57it/s]\n",
            "  0%|          | 26/10002 [00:00<00:39, 253.07it/s]"
          ],
          "name": "stderr"
        },
        {
          "output_type": "stream",
          "text": [
            "Visualized TSNE Grounds. Time elapsed = 1311.76s\n",
            "PCA done. Time elapsed = 1311.78s\n"
          ],
          "name": "stdout"
        },
        {
          "output_type": "stream",
          "text": [
            "100%|██████████| 10002/10002 [01:21<00:00, 80.81it/s]\n"
          ],
          "name": "stderr"
        },
        {
          "output_type": "stream",
          "text": [
            "Visualized PCA Grounds. Time elapsed = 1399.29s\n"
          ],
          "name": "stdout"
        },
        {
          "output_type": "stream",
          "text": [
            "/usr/local/lib/python3.6/dist-packages/sklearn/discriminant_analysis.py:466: ChangedBehaviorWarning: n_components cannot be larger than min(n_features, n_classes - 1). Using min(n_features, n_classes - 1) = min(39, 2 - 1) = 1 components.\n",
            "  ChangedBehaviorWarning)\n",
            "/usr/local/lib/python3.6/dist-packages/sklearn/discriminant_analysis.py:472: FutureWarning: In version 0.23, setting n_components > min(n_features, n_classes - 1) will raise a ValueError. You should set n_components to None (default), or a value smaller or equal to min(n_features, n_classes - 1).\n",
            "  warnings.warn(future_msg, FutureWarning)\n",
            "/usr/local/lib/python3.6/dist-packages/sklearn/discriminant_analysis.py:388: UserWarning: Variables are collinear.\n",
            "  warnings.warn(\"Variables are collinear.\")\n"
          ],
          "name": "stderr"
        },
        {
          "output_type": "stream",
          "text": [
            "LDA done. Time elapsed = 1399.56s\n",
            "Normalized.\n"
          ],
          "name": "stdout"
        },
        {
          "output_type": "stream",
          "text": [
            "  0%|          | 26/10002 [00:00<00:39, 252.40it/s]"
          ],
          "name": "stderr"
        },
        {
          "output_type": "stream",
          "text": [
            "TSNE done. Time elapsed = 1519.75s\n"
          ],
          "name": "stdout"
        },
        {
          "output_type": "stream",
          "text": [
            "100%|██████████| 10002/10002 [01:19<00:00, 126.29it/s]\n",
            "  0%|          | 24/10002 [00:00<00:41, 239.34it/s]"
          ],
          "name": "stderr"
        },
        {
          "output_type": "stream",
          "text": [
            "Visualized TSNE Grounds. Time elapsed = 1605.49s\n",
            "PCA done. Time elapsed = 1605.51s\n"
          ],
          "name": "stdout"
        },
        {
          "output_type": "stream",
          "text": [
            "100%|██████████| 10002/10002 [01:20<00:00, 123.77it/s]\n"
          ],
          "name": "stderr"
        },
        {
          "output_type": "stream",
          "text": [
            "Visualized PCA Grounds. Time elapsed = 1692.87s\n"
          ],
          "name": "stdout"
        },
        {
          "output_type": "stream",
          "text": [
            "/usr/local/lib/python3.6/dist-packages/sklearn/discriminant_analysis.py:466: ChangedBehaviorWarning: n_components cannot be larger than min(n_features, n_classes - 1). Using min(n_features, n_classes - 1) = min(39, 2 - 1) = 1 components.\n",
            "  ChangedBehaviorWarning)\n",
            "/usr/local/lib/python3.6/dist-packages/sklearn/discriminant_analysis.py:472: FutureWarning: In version 0.23, setting n_components > min(n_features, n_classes - 1) will raise a ValueError. You should set n_components to None (default), or a value smaller or equal to min(n_features, n_classes - 1).\n",
            "  warnings.warn(future_msg, FutureWarning)\n",
            "/usr/local/lib/python3.6/dist-packages/sklearn/discriminant_analysis.py:388: UserWarning: Variables are collinear.\n",
            "  warnings.warn(\"Variables are collinear.\")\n",
            "No handles with labels found to put in legend.\n"
          ],
          "name": "stderr"
        },
        {
          "output_type": "stream",
          "text": [
            "LDA done. Time elapsed = 1693.94s\n",
            "Done std 0.20. Time Elapsed = 1693.96s\n"
          ],
          "name": "stdout"
        },
        {
          "output_type": "stream",
          "text": [
            "  0%|          | 25/10002 [00:00<00:40, 248.33it/s]"
          ],
          "name": "stderr"
        },
        {
          "output_type": "stream",
          "text": [
            "TSNE done. Time elapsed = 1843.79s\n"
          ],
          "name": "stdout"
        },
        {
          "output_type": "stream",
          "text": [
            "100%|██████████| 10002/10002 [01:22<00:00, 121.39it/s]\n",
            "  0%|          | 23/10002 [00:00<00:43, 228.95it/s]"
          ],
          "name": "stderr"
        },
        {
          "output_type": "stream",
          "text": [
            "Visualized TSNE Grounds. Time elapsed = 1932.78s\n",
            "PCA done. Time elapsed = 1932.81s\n"
          ],
          "name": "stdout"
        },
        {
          "output_type": "stream",
          "text": [
            "100%|██████████| 10002/10002 [01:22<00:00, 120.77it/s]\n"
          ],
          "name": "stderr"
        },
        {
          "output_type": "stream",
          "text": [
            "Visualized PCA Grounds. Time elapsed = 2022.31s\n"
          ],
          "name": "stdout"
        },
        {
          "output_type": "stream",
          "text": [
            "/usr/local/lib/python3.6/dist-packages/sklearn/discriminant_analysis.py:466: ChangedBehaviorWarning: n_components cannot be larger than min(n_features, n_classes - 1). Using min(n_features, n_classes - 1) = min(39, 2 - 1) = 1 components.\n",
            "  ChangedBehaviorWarning)\n",
            "/usr/local/lib/python3.6/dist-packages/sklearn/discriminant_analysis.py:472: FutureWarning: In version 0.23, setting n_components > min(n_features, n_classes - 1) will raise a ValueError. You should set n_components to None (default), or a value smaller or equal to min(n_features, n_classes - 1).\n",
            "  warnings.warn(future_msg, FutureWarning)\n",
            "/usr/local/lib/python3.6/dist-packages/sklearn/discriminant_analysis.py:388: UserWarning: Variables are collinear.\n",
            "  warnings.warn(\"Variables are collinear.\")\n"
          ],
          "name": "stderr"
        },
        {
          "output_type": "stream",
          "text": [
            "LDA done. Time elapsed = 2022.60s\n",
            "Normalized.\n"
          ],
          "name": "stdout"
        },
        {
          "output_type": "stream",
          "text": [
            "  0%|          | 26/10002 [00:00<00:39, 253.49it/s]"
          ],
          "name": "stderr"
        },
        {
          "output_type": "stream",
          "text": [
            "TSNE done. Time elapsed = 2160.74s\n"
          ],
          "name": "stdout"
        },
        {
          "output_type": "stream",
          "text": [
            "100%|██████████| 10002/10002 [01:21<00:00, 122.94it/s]\n",
            "  0%|          | 25/10002 [00:00<00:40, 247.30it/s]"
          ],
          "name": "stderr"
        },
        {
          "output_type": "stream",
          "text": [
            "Visualized TSNE Grounds. Time elapsed = 2248.54s\n",
            "PCA done. Time elapsed = 2248.57s\n"
          ],
          "name": "stdout"
        },
        {
          "output_type": "stream",
          "text": [
            "100%|██████████| 10002/10002 [01:23<00:00, 120.18it/s]\n",
            "/usr/local/lib/python3.6/dist-packages/sklearn/discriminant_analysis.py:466: ChangedBehaviorWarning: n_components cannot be larger than min(n_features, n_classes - 1). Using min(n_features, n_classes - 1) = min(39, 2 - 1) = 1 components.\n",
            "  ChangedBehaviorWarning)\n",
            "/usr/local/lib/python3.6/dist-packages/sklearn/discriminant_analysis.py:472: FutureWarning: In version 0.23, setting n_components > min(n_features, n_classes - 1) will raise a ValueError. You should set n_components to None (default), or a value smaller or equal to min(n_features, n_classes - 1).\n",
            "  warnings.warn(future_msg, FutureWarning)\n",
            "/usr/local/lib/python3.6/dist-packages/sklearn/discriminant_analysis.py:388: UserWarning: Variables are collinear.\n",
            "  warnings.warn(\"Variables are collinear.\")\n",
            "No handles with labels found to put in legend.\n"
          ],
          "name": "stderr"
        },
        {
          "output_type": "stream",
          "text": [
            "Visualized PCA Grounds. Time elapsed = 2338.28s\n",
            "LDA done. Time elapsed = 2338.56s\n",
            "Done std 0.60. Time Elapsed = 2338.58s\n"
          ],
          "name": "stdout"
        },
        {
          "output_type": "stream",
          "text": [
            "  0%|          | 25/10002 [00:00<00:40, 246.56it/s]"
          ],
          "name": "stderr"
        },
        {
          "output_type": "stream",
          "text": [
            "TSNE done. Time elapsed = 2500.78s\n"
          ],
          "name": "stdout"
        },
        {
          "output_type": "stream",
          "text": [
            "100%|██████████| 10002/10002 [01:21<00:00, 122.63it/s]\n",
            "  0%|          | 17/10002 [00:00<00:58, 169.82it/s]"
          ],
          "name": "stderr"
        },
        {
          "output_type": "stream",
          "text": [
            "Visualized TSNE Grounds. Time elapsed = 2588.82s\n",
            "PCA done. Time elapsed = 2588.84s\n"
          ],
          "name": "stdout"
        },
        {
          "output_type": "stream",
          "text": [
            "100%|██████████| 10002/10002 [01:22<00:00, 121.21it/s]\n"
          ],
          "name": "stderr"
        },
        {
          "output_type": "stream",
          "text": [
            "Visualized PCA Grounds. Time elapsed = 2677.83s\n"
          ],
          "name": "stdout"
        },
        {
          "output_type": "stream",
          "text": [
            "/usr/local/lib/python3.6/dist-packages/sklearn/discriminant_analysis.py:466: ChangedBehaviorWarning: n_components cannot be larger than min(n_features, n_classes - 1). Using min(n_features, n_classes - 1) = min(39, 2 - 1) = 1 components.\n",
            "  ChangedBehaviorWarning)\n",
            "/usr/local/lib/python3.6/dist-packages/sklearn/discriminant_analysis.py:472: FutureWarning: In version 0.23, setting n_components > min(n_features, n_classes - 1) will raise a ValueError. You should set n_components to None (default), or a value smaller or equal to min(n_features, n_classes - 1).\n",
            "  warnings.warn(future_msg, FutureWarning)\n",
            "/usr/local/lib/python3.6/dist-packages/sklearn/discriminant_analysis.py:388: UserWarning: Variables are collinear.\n",
            "  warnings.warn(\"Variables are collinear.\")\n"
          ],
          "name": "stderr"
        },
        {
          "output_type": "stream",
          "text": [
            "LDA done. Time elapsed = 2678.11s\n",
            "Normalized.\n"
          ],
          "name": "stdout"
        },
        {
          "output_type": "stream",
          "text": [
            "  0%|          | 26/10002 [00:00<00:38, 256.76it/s]"
          ],
          "name": "stderr"
        },
        {
          "output_type": "stream",
          "text": [
            "TSNE done. Time elapsed = 2872.58s\n"
          ],
          "name": "stdout"
        },
        {
          "output_type": "stream",
          "text": [
            "100%|██████████| 10002/10002 [01:20<00:00, 124.31it/s]\n",
            "  0%|          | 24/10002 [00:00<00:42, 232.30it/s]"
          ],
          "name": "stderr"
        },
        {
          "output_type": "stream",
          "text": [
            "Visualized TSNE Grounds. Time elapsed = 2959.37s\n",
            "PCA done. Time elapsed = 2959.39s\n"
          ],
          "name": "stdout"
        },
        {
          "output_type": "stream",
          "text": [
            "100%|██████████| 10002/10002 [01:21<00:00, 122.85it/s]\n",
            "/usr/local/lib/python3.6/dist-packages/sklearn/discriminant_analysis.py:466: ChangedBehaviorWarning: n_components cannot be larger than min(n_features, n_classes - 1). Using min(n_features, n_classes - 1) = min(39, 2 - 1) = 1 components.\n",
            "  ChangedBehaviorWarning)\n",
            "/usr/local/lib/python3.6/dist-packages/sklearn/discriminant_analysis.py:472: FutureWarning: In version 0.23, setting n_components > min(n_features, n_classes - 1) will raise a ValueError. You should set n_components to None (default), or a value smaller or equal to min(n_features, n_classes - 1).\n",
            "  warnings.warn(future_msg, FutureWarning)\n",
            "/usr/local/lib/python3.6/dist-packages/sklearn/discriminant_analysis.py:388: UserWarning: Variables are collinear.\n",
            "  warnings.warn(\"Variables are collinear.\")\n",
            "No handles with labels found to put in legend.\n"
          ],
          "name": "stderr"
        },
        {
          "output_type": "stream",
          "text": [
            "Visualized PCA Grounds. Time elapsed = 3047.17s\n",
            "LDA done. Time elapsed = 3047.46s\n",
            "Done std 0.80. Time Elapsed = 3047.48s\n"
          ],
          "name": "stdout"
        },
        {
          "output_type": "stream",
          "text": [
            "  0%|          | 25/10002 [00:00<00:40, 245.03it/s]"
          ],
          "name": "stderr"
        },
        {
          "output_type": "stream",
          "text": [
            "TSNE done. Time elapsed = 3183.88s\n"
          ],
          "name": "stdout"
        },
        {
          "output_type": "stream",
          "text": [
            "100%|██████████| 10002/10002 [01:21<00:00, 122.20it/s]\n",
            "  0%|          | 25/10002 [00:00<00:40, 248.28it/s]"
          ],
          "name": "stderr"
        },
        {
          "output_type": "stream",
          "text": [
            "Visualized TSNE Grounds. Time elapsed = 3272.13s\n",
            "PCA done. Time elapsed = 3272.16s\n"
          ],
          "name": "stdout"
        },
        {
          "output_type": "stream",
          "text": [
            "100%|██████████| 10002/10002 [01:20<00:00, 123.98it/s]\n"
          ],
          "name": "stderr"
        },
        {
          "output_type": "stream",
          "text": [
            "Visualized PCA Grounds. Time elapsed = 3359.22s\n"
          ],
          "name": "stdout"
        },
        {
          "output_type": "stream",
          "text": [
            "/usr/local/lib/python3.6/dist-packages/sklearn/discriminant_analysis.py:466: ChangedBehaviorWarning: n_components cannot be larger than min(n_features, n_classes - 1). Using min(n_features, n_classes - 1) = min(39, 2 - 1) = 1 components.\n",
            "  ChangedBehaviorWarning)\n",
            "/usr/local/lib/python3.6/dist-packages/sklearn/discriminant_analysis.py:472: FutureWarning: In version 0.23, setting n_components > min(n_features, n_classes - 1) will raise a ValueError. You should set n_components to None (default), or a value smaller or equal to min(n_features, n_classes - 1).\n",
            "  warnings.warn(future_msg, FutureWarning)\n",
            "/usr/local/lib/python3.6/dist-packages/sklearn/discriminant_analysis.py:388: UserWarning: Variables are collinear.\n",
            "  warnings.warn(\"Variables are collinear.\")\n"
          ],
          "name": "stderr"
        },
        {
          "output_type": "stream",
          "text": [
            "LDA done. Time elapsed = 3359.50s\n",
            "Normalized.\n"
          ],
          "name": "stdout"
        },
        {
          "output_type": "stream",
          "text": [
            "  0%|          | 21/10002 [00:00<00:48, 207.02it/s]"
          ],
          "name": "stderr"
        },
        {
          "output_type": "stream",
          "text": [
            "TSNE done. Time elapsed = 3528.88s\n"
          ],
          "name": "stdout"
        },
        {
          "output_type": "stream",
          "text": [
            "100%|██████████| 10002/10002 [01:21<00:00, 81.18it/s]\n",
            "  0%|          | 25/10002 [00:00<00:40, 245.23it/s]"
          ],
          "name": "stderr"
        },
        {
          "output_type": "stream",
          "text": [
            "Visualized TSNE Grounds. Time elapsed = 3616.24s\n",
            "PCA done. Time elapsed = 3616.26s\n"
          ],
          "name": "stdout"
        },
        {
          "output_type": "stream",
          "text": [
            "100%|██████████| 10002/10002 [01:19<00:00, 125.71it/s]\n",
            "/usr/local/lib/python3.6/dist-packages/sklearn/discriminant_analysis.py:466: ChangedBehaviorWarning: n_components cannot be larger than min(n_features, n_classes - 1). Using min(n_features, n_classes - 1) = min(39, 2 - 1) = 1 components.\n",
            "  ChangedBehaviorWarning)\n",
            "/usr/local/lib/python3.6/dist-packages/sklearn/discriminant_analysis.py:472: FutureWarning: In version 0.23, setting n_components > min(n_features, n_classes - 1) will raise a ValueError. You should set n_components to None (default), or a value smaller or equal to min(n_features, n_classes - 1).\n",
            "  warnings.warn(future_msg, FutureWarning)\n",
            "/usr/local/lib/python3.6/dist-packages/sklearn/discriminant_analysis.py:388: UserWarning: Variables are collinear.\n",
            "  warnings.warn(\"Variables are collinear.\")\n",
            "No handles with labels found to put in legend.\n"
          ],
          "name": "stderr"
        },
        {
          "output_type": "stream",
          "text": [
            "Visualized PCA Grounds. Time elapsed = 3702.12s\n",
            "LDA done. Time elapsed = 3702.40s\n",
            "Done std 1.00. Time Elapsed = 3702.42s\n"
          ],
          "name": "stdout"
        },
        {
          "output_type": "execute_result",
          "data": {
            "text/plain": [
              "True"
            ]
          },
          "metadata": {
            "tags": []
          },
          "execution_count": 46
        },
        {
          "output_type": "display_data",
          "data": {
            "text/plain": [
              "<Figure size 432x288 with 0 Axes>"
            ]
          },
          "metadata": {
            "tags": []
          }
        }
      ]
    },
    {
      "cell_type": "code",
      "metadata": {
        "id": "qrUxVTCmk1Az",
        "colab_type": "code",
        "outputId": "c0a9bf91-add5-4d42-898a-8e92bed76bba",
        "colab": {
          "base_uri": "https://localhost:8080/",
          "height": 646
        }
      },
      "source": [
        "time_start = time.time()\n",
        "js = [5, 5/2, 5/3, 5/4,1]\n",
        "for j in js:\n",
        "  if os.path.exists(os.path.join(synthetic_path, f'X_sparsity_1_std_{1/j:.2f}.npy')):\n",
        "    X = np.load(os.path.join(synthetic_path, f'X_sparsity_1_std_{1/j:.2f}.npy'))    \n",
        "  else:\n",
        "    a = create_data(sparsity = 1,std=1/j)\n",
        "    X = a[0].numpy()    \n",
        "    np.save(os.path.join(synthetic_path, f'X_sparsity_1_std_{1/j:.2f}.npy'),X)\n",
        "\n",
        "  X = normalize(X, axis = 0)\n",
        "  print('Normalized.')   \n",
        "  y_pred_gmm = np.load(os.path.join(synthetic_path, f'gmm_preds_sparsity_1_std_{1/j:.2f}.npy'))\n",
        "\n",
        "  tsne = TSNE(n_components=2).fit_transform(X)\n",
        "  print(f'TSNE done. Time elapsed = {time.time()- time_start:.2f}s')\n",
        "\n",
        "  for i in tqdm(range(len(tsne))):\n",
        "    plt.scatter(tsne[i][0], tsne[i][1], c=colors[int(y_pred_gmm[i].item())])\n",
        "  plt.title(f'TSNE Vis. W/ Norm. on GMM Preds std {1/j:.2f}')\n",
        "  plt.savefig(os.path.join(synthetic_path, f'tsne_visualization_w_normalization_gmm_preds_std_{1/j:.2f}.png'))\n",
        "  plt.clf()\n",
        "  print(f'Visualized TSNE preds Time elapsed = {time.time()- time_start:.2f}s')\n",
        "  \n",
        "  del tsne\n",
        "\n",
        "  pca = PCA(n_components=2).fit_transform(X)\n",
        "  print(f'PCA done. Time elapsed = {time.time()- time_start:.2f}s')\n",
        "\n",
        "  for i in tqdm(range(len(pca))):\n",
        "    plt.scatter(pca[i][0], pca[i][1], c=colors[int(y_pred_gmm[i].item())])\n",
        "  plt.title(f'PCA Vis. W/ Norm. on GMM Preds std {1/j:.2f}')\n",
        "  plt.savefig(os.path.join(synthetic_path, f'pca_visualization_w_normalization_gmm_preds_std_{1/j:.2f}.png'))\n",
        "  plt.clf()\n",
        "  print(f'Visualized PCA preds Time elapsed = {time.time()- time_start:.2f}s')\n",
        "  \n",
        "  del pca\n",
        "\n",
        "  if(j == 5):\n",
        "      t_conc = cv2.imread(os.path.join(synthetic_path, f'tsne_visualization_w_normalization_gmm_preds_std_{1/j:.2f}.png'))\n",
        "      p_conc = cv2.imread(os.path.join(synthetic_path, f'pca_visualization_w_normalization_gmm_preds_std_{1/j:.2f}.png'))\n",
        "  else:\n",
        "    t = cv2.imread(os.path.join(synthetic_path, f'tsne_visualization_w_normalization_gmm_preds_std_{1/j:.2f}.png'))\n",
        "    p = cv2.imread(os.path.join(synthetic_path,f'pca_visualization_w_normalization_gmm_preds_std_{1/j:.2f}.png'))\n",
        "    t_conc = cv2.hconcat([t_conc, t])\n",
        "    p_conc = cv2.hconcat([p_conc, p])\n",
        "    del t,p\n",
        "\n",
        "  del X, y_pred_gmm\n",
        "\n",
        "cv2.imwrite(os.path.join(synthetic_path, 'tsne_visualization_w_normalization_gmm_for_all_std.png'), t_conc)\n",
        "cv2.imwrite(os.path.join(synthetic_path, 'pca_visualization_w_normalization__gmm_for_all_std.png'), p_conc)"
      ],
      "execution_count": 0,
      "outputs": [
        {
          "output_type": "stream",
          "text": [
            "Normalized.\n"
          ],
          "name": "stdout"
        },
        {
          "output_type": "stream",
          "text": [
            "  0%|          | 28/10002 [00:00<00:36, 276.25it/s]"
          ],
          "name": "stderr"
        },
        {
          "output_type": "stream",
          "text": [
            "TSNE done. Time elapsed = 124.13s\n"
          ],
          "name": "stdout"
        },
        {
          "output_type": "stream",
          "text": [
            "100%|██████████| 10002/10002 [01:17<00:00, 81.68it/s]\n",
            "  0%|          | 26/10002 [00:00<00:38, 256.35it/s]"
          ],
          "name": "stderr"
        },
        {
          "output_type": "stream",
          "text": [
            "Visualized TSNE preds Time elapsed = 207.43s\n",
            "PCA done. Time elapsed = 207.46s\n"
          ],
          "name": "stdout"
        },
        {
          "output_type": "stream",
          "text": [
            "100%|██████████| 10002/10002 [01:18<00:00, 126.99it/s]\n"
          ],
          "name": "stderr"
        },
        {
          "output_type": "stream",
          "text": [
            "Visualized PCA preds Time elapsed = 292.38s\n",
            "Normalized.\n"
          ],
          "name": "stdout"
        },
        {
          "output_type": "stream",
          "text": [
            "  0%|          | 30/10002 [00:00<00:33, 294.27it/s]"
          ],
          "name": "stderr"
        },
        {
          "output_type": "stream",
          "text": [
            "TSNE done. Time elapsed = 423.04s\n"
          ],
          "name": "stdout"
        },
        {
          "output_type": "stream",
          "text": [
            "100%|██████████| 10002/10002 [01:17<00:00, 128.90it/s]\n",
            "  0%|          | 25/10002 [00:00<00:41, 242.98it/s]"
          ],
          "name": "stderr"
        },
        {
          "output_type": "stream",
          "text": [
            "Visualized TSNE preds Time elapsed = 506.78s\n",
            "PCA done. Time elapsed = 506.80s\n"
          ],
          "name": "stdout"
        },
        {
          "output_type": "stream",
          "text": [
            "100%|██████████| 10002/10002 [01:19<00:00, 125.55it/s]\n"
          ],
          "name": "stderr"
        },
        {
          "output_type": "stream",
          "text": [
            "Visualized PCA preds Time elapsed = 593.51s\n",
            "Normalized.\n"
          ],
          "name": "stdout"
        },
        {
          "output_type": "stream",
          "text": [
            "  0%|          | 27/10002 [00:00<00:37, 264.49it/s]"
          ],
          "name": "stderr"
        },
        {
          "output_type": "stream",
          "text": [
            "TSNE done. Time elapsed = 733.82s\n"
          ],
          "name": "stdout"
        },
        {
          "output_type": "stream",
          "text": [
            "100%|██████████| 10002/10002 [01:18<00:00, 127.41it/s]\n",
            "  0%|          | 26/10002 [00:00<00:38, 257.45it/s]"
          ],
          "name": "stderr"
        },
        {
          "output_type": "stream",
          "text": [
            "Visualized TSNE preds Time elapsed = 818.62s\n",
            "PCA done. Time elapsed = 818.65s\n"
          ],
          "name": "stdout"
        },
        {
          "output_type": "stream",
          "text": [
            "100%|██████████| 10002/10002 [01:19<00:00, 126.18it/s]\n"
          ],
          "name": "stderr"
        },
        {
          "output_type": "stream",
          "text": [
            "Visualized PCA preds Time elapsed = 904.13s\n",
            "Normalized.\n"
          ],
          "name": "stdout"
        },
        {
          "output_type": "stream",
          "text": [
            "  0%|          | 28/10002 [00:00<00:36, 275.49it/s]"
          ],
          "name": "stderr"
        },
        {
          "output_type": "stream",
          "text": [
            "TSNE done. Time elapsed = 1084.06s\n"
          ],
          "name": "stdout"
        },
        {
          "output_type": "stream",
          "text": [
            "100%|██████████| 10002/10002 [01:20<00:00, 124.91it/s]\n",
            "  0%|          | 24/10002 [00:00<00:42, 234.56it/s]"
          ],
          "name": "stderr"
        },
        {
          "output_type": "stream",
          "text": [
            "Visualized TSNE preds Time elapsed = 1170.29s\n",
            "PCA done. Time elapsed = 1170.31s\n"
          ],
          "name": "stdout"
        },
        {
          "output_type": "stream",
          "text": [
            "100%|██████████| 10002/10002 [01:19<00:00, 125.91it/s]\n"
          ],
          "name": "stderr"
        },
        {
          "output_type": "stream",
          "text": [
            "Visualized PCA preds Time elapsed = 1255.93s\n",
            "Normalized.\n"
          ],
          "name": "stdout"
        },
        {
          "output_type": "stream",
          "text": [
            "  0%|          | 27/10002 [00:00<00:38, 262.20it/s]"
          ],
          "name": "stderr"
        },
        {
          "output_type": "stream",
          "text": [
            "TSNE done. Time elapsed = 1440.40s\n"
          ],
          "name": "stdout"
        },
        {
          "output_type": "stream",
          "text": [
            "100%|██████████| 10002/10002 [01:18<00:00, 126.84it/s]\n",
            "  0%|          | 26/10002 [00:00<00:38, 259.38it/s]"
          ],
          "name": "stderr"
        },
        {
          "output_type": "stream",
          "text": [
            "Visualized TSNE preds Time elapsed = 1525.39s\n",
            "PCA done. Time elapsed = 1525.41s\n"
          ],
          "name": "stdout"
        },
        {
          "output_type": "stream",
          "text": [
            "100%|██████████| 10002/10002 [01:20<00:00, 124.71it/s]\n"
          ],
          "name": "stderr"
        },
        {
          "output_type": "stream",
          "text": [
            "Visualized PCA preds Time elapsed = 1611.99s\n"
          ],
          "name": "stdout"
        },
        {
          "output_type": "execute_result",
          "data": {
            "text/plain": [
              "True"
            ]
          },
          "metadata": {
            "tags": []
          },
          "execution_count": 55
        },
        {
          "output_type": "display_data",
          "data": {
            "text/plain": [
              "<Figure size 432x288 with 0 Axes>"
            ]
          },
          "metadata": {
            "tags": []
          }
        }
      ]
    },
    {
      "cell_type": "code",
      "metadata": {
        "id": "08n6BLj_F1cp",
        "colab_type": "code",
        "colab": {}
      },
      "source": [
        "j = 10\n",
        "X = np.load(os.path.join(synthetic_path, f'X_sparsity_1_variance_{1/j:.2f}.npy'))\n",
        "y = np.load(os.path.join(synthetic_path, f'labels_sparsity_1_variance_{1/j:.2f}.npy'))\n",
        "Lda = LinearDiscriminantAnalysis(n_components=2)\n",
        "lda = Lda.fit_transform(X, y.reshape(len(y),), )\n",
        "print(np.median(lda))\n",
        "plt.hist(lda, bins = 2, range=(np.median(lda), ),  )\n",
        "plt.savefig(os.path.join(synthetic_path, f'lda_visualization_wo_normalization_variance_{1/j:.2f}.png'))"
      ],
      "execution_count": 0,
      "outputs": []
    },
    {
      "cell_type": "code",
      "metadata": {
        "id": "P9Kf1bm2D_L-",
        "colab_type": "code",
        "colab": {}
      },
      "source": [
        "j = 100\n",
        "t= cv2.imread(os.path.join(synthetic_path, f'tsne_visualization_wo_normalization_ground_truth_variance_{1/j:.2f}.png'))\n",
        "p= cv2.imread(os.path.join(synthetic_path,f'pca_visualization_wo_normalization_ground_truth_variance_{1/j:.2f}.png'))\n",
        "h = cv2.hconcat([t,p])"
      ],
      "execution_count": 0,
      "outputs": []
    },
    {
      "cell_type": "code",
      "metadata": {
        "id": "0I3NfKDhEhQf",
        "colab_type": "code",
        "outputId": "14d4eb7b-1e14-42ed-94ab-d868d89d7826",
        "colab": {
          "base_uri": "https://localhost:8080/",
          "height": 34
        }
      },
      "source": [
        "cv2.imwrite(os.path.join(synthetic_path, f'visualization_wo_normalization_ground_truth_variance_{1/j:.2f}.png'), h)"
      ],
      "execution_count": 0,
      "outputs": [
        {
          "output_type": "execute_result",
          "data": {
            "text/plain": [
              "True"
            ]
          },
          "metadata": {
            "tags": []
          },
          "execution_count": 23
        }
      ]
    },
    {
      "cell_type": "code",
      "metadata": {
        "id": "Y_iEVYQB9Utq",
        "colab_type": "code",
        "colab": {}
      },
      "source": [
        "time_enc = time.time() \n",
        "db = 9\n",
        "# accuracy_ae = []\n",
        "accuracy_ae_means_list = []\n",
        "dbs = [100, 50, 30,20, 10] + [i for i in range(9, -1, -1)]\n",
        "for db in dbs:\n",
        "  encoding = np.load(os.path.join(synthetic_path, f'encoding_sparsity_1_db_{db}.npy'))\n",
        "  y = np.load(os.path.join(synthetic_path, f'labels_sparsity_1_db_{db}.npy'))\n",
        "\n",
        "  kmeans = KMeans(n_clusters=2, n_init = 15).fit(encoding)\n",
        "  y_pred_ae_means = kmeans.labels_\n",
        "  accs_ae_means = metrics.acc(y.reshape(10002,), y_pred_ae_means.reshape(10002,))\n",
        "  print(\"Accuracy\",db, accs_ae_means)\n",
        "  accuracy_ae_means_list.append(accs_ae_means)\n",
        "  \n",
        "  # y_pred_ae = np.argmax(encoding, axis = 1)\n",
        "  # accs_ae = metrics.acc(y.reshape(10002,), y_pred_ae)\n",
        "  # print(\"accuracy\",db,accs_ae)\n",
        "  # accuracy_ae.append(accs_ae)\n",
        "\n",
        "  # for i in range(len(encoding)):\n",
        "  #   plt.scatter(encoding[i][0], encoding[i][1], c = colors[int(y[i].item())])\n",
        "  #   if(i% 250 ==0):\n",
        "  #     print(\".\", end = \"\")\n",
        "  #     plt.savefig(os.path.join(synthetic_path, f'Encoding_db_{db}.png'))\n",
        "  # print(f\"\\n done time elapsed = {time.time()-time_enc:.2f}s\")\n",
        "  # plt.title(f'Encoding Visualization db {db}')\n",
        "  # plt.savefig(os.path.join(synthetic_path, f'Encoding_db_{db}.png'))\n",
        "  # plt.clf()\n",
        "  del encoding, y, kmeans, y_pred_ae_means, accs_ae_means#, y_pred_ae, accs_ae"
      ],
      "execution_count": 0,
      "outputs": []
    },
    {
      "cell_type": "code",
      "metadata": {
        "id": "a0k_pUn-HbsA",
        "colab_type": "code",
        "colab": {}
      },
      "source": [
        "%matplotlib inline\n",
        "%config InlineBackend.figure_format = 'retina'\n",
        "plt.xlabel('std')\n",
        "plt.ylabel(\"Accuracy\")\n",
        "plt.plot(accuracy_ae_means_list, label='Autoencoder + KMeans Accuracy')\n",
        "plt.plot(accuracy_ae_spec_list, label='Autoencoder + Spectral Clustering Accuracy')\n",
        "plt.legend(frameon=False)\n",
        "plt.title('Accuracies vs std')\n",
        "plt.savefig(os.path.join(synthetic_path,f'Accuracies_vs_stds_autoencoder.png'))"
      ],
      "execution_count": 0,
      "outputs": []
    },
    {
      "cell_type": "code",
      "metadata": {
        "id": "hTc3Bes3E_0b",
        "colab_type": "code",
        "colab": {}
      },
      "source": [
        "time_start = time.time()\n",
        "# tsne_model = TSNE(random_state = 42)\n",
        "# print(f'TSNE started. Time collapsed = {(time.time()-time_start):.2f}s')\n",
        "# tsne = tsne_model.fit_transform(X)\n",
        "# print(f'TSNE completed. Time collapsed = {(time.time()-time_start):.2f}s')\n",
        "# j = 2\n",
        "for j in range(0, 18):\n",
        "  tsne = np.load(os.path.join(synthetic_path, f'tsne_sparsity{j+1}.npy') )\n",
        "  y_pred_train = np.load(os.path.join(synthetic_path, f'gmm_preds_sparsity{j}.npy'))\n",
        "  for i in range(len(tsne)):\n",
        "    plt.scatter(tsne[i][0], tsne[i][1], c=colors[y_pred_train[i]])\n",
        "  del tsne\n",
        "  del y_pred_train \n",
        "  print(f'done. Time collapsed ={time.time()-time_start}')\n",
        "  plt.title(f'Visualization against the predicted clustering by GMM for Sparsity = {j+1}')\n",
        "  plt.savefig(os.path.join(gmm_path,f'predictedGMM_for_Sparsity_{j+1}.png'))\n",
        "  plt.clf()"
      ],
      "execution_count": 0,
      "outputs": []
    },
    {
      "cell_type": "code",
      "metadata": {
        "id": "Fve7i_fZFibM",
        "colab_type": "code",
        "outputId": "0346483a-b1b7-4a18-cb65-903b00389390",
        "colab": {
          "base_uri": "https://localhost:8080/",
          "height": 306
        }
      },
      "source": [
        "time_start = time.time()\n",
        "# accuracy_ae_spec_list = []\n",
        "# accuracy_ae_means_list = []\n",
        "# js = [100, 20, 10] + [5/i for i in range(1, 6, 1)]\n",
        "js = [100, 20, 10] + [5/i for i in range (1,6,1)]\n",
        "for j in js:\n",
        "  # autoencoder, encoder = Autoencoder(dims, init = init)\n",
        "  # autoencoder.load_weights(os.path.join(synthetic_path, f\"ae_sparsity_1_db_9_lr_0.001_batch_size_64_epochs_10.h5\"))\n",
        "  encoding = np.load(os.path.join(synthetic_path, f'encoding_sparsity_1_std_{1/j:.2f}.npy'))\n",
        "  labels = np.load(os.path.join(synthetic_path, f'labels_sparsity_1_std_{1/j:.2f}.npy'))\n",
        "  # spec = SpectralClustering(n_clusters=2).fit(encoding[::75])\n",
        "  # y_pred_spec = spec.labels_\n",
        "  # accuracy_ae_spec =  metrics.acc(labels[::75].reshape(-1,), y_pred_spec.reshape(-1,))\n",
        "  # accuracy_ae_spec_list.append(accuracy_ae_spec)\n",
        "  # print(f\"Spectral clustering accuracy {accuracy_ae_spec*100:.2f}% for std {1/j:.2f}\")\n",
        "\n",
        "  # kmeans = KMeans(n_clusters=2, n_init = 15).fit(encoding)\n",
        "  # y_pred_ae_means = kmeans.labels_\n",
        "  # accs_ae_means = metrics.acc(labels.reshape(10002,), y_pred_ae_means.reshape(10002,))\n",
        "  # accuracy_ae_means_list.append(accs_ae_means)\n",
        "  # print(f\"KMeans clustering accuracy {accs_ae_means*100:.2f}% for std {1/j:.2f}\")\n",
        "\n",
        "  for i in tqdm(range(len(encoding))):\n",
        "    plt.scatter(encoding[i][0], encoding[i][1], c=colors[int(labels[i].item())])  \n",
        "  \n",
        "  del encoding, labels#, spec, y_pred_spec, accuracy_ae_spec, accs_ae_means, kmeans, y_pred_ae_means#, encoder, autoencoder\n",
        "  print(f'done. Time collapsed ={time.time()-time_start}')\n",
        "  \n",
        "  \n",
        "  plt.title(f'Visualization against the ground truth for Sparsity = 1, std = {1/j:.2f}')\n",
        "  plt.savefig(os.path.join(synthetic_path,f'encoding_ground_truth_Sparsity_1_std_{1/j:.2f}.png'))\n",
        "  plt.clf()"
      ],
      "execution_count": 0,
      "outputs": [
        {
          "output_type": "stream",
          "text": [
            "100%|██████████| 10002/10002 [01:19<00:00, 125.58it/s]\n"
          ],
          "name": "stderr"
        },
        {
          "output_type": "stream",
          "text": [
            "done. Time collapsed =79.65987038612366\n"
          ],
          "name": "stdout"
        },
        {
          "output_type": "stream",
          "text": [
            "100%|██████████| 10002/10002 [01:18<00:00, 127.03it/s]\n"
          ],
          "name": "stderr"
        },
        {
          "output_type": "stream",
          "text": [
            "done. Time collapsed =164.55620670318604\n"
          ],
          "name": "stdout"
        },
        {
          "output_type": "stream",
          "text": [
            "100%|██████████| 10002/10002 [01:19<00:00, 125.29it/s]\n"
          ],
          "name": "stderr"
        },
        {
          "output_type": "stream",
          "text": [
            "done. Time collapsed =250.53026032447815\n"
          ],
          "name": "stdout"
        },
        {
          "output_type": "stream",
          "text": [
            "100%|██████████| 10002/10002 [01:18<00:00, 127.87it/s]\n"
          ],
          "name": "stderr"
        },
        {
          "output_type": "stream",
          "text": [
            "done. Time collapsed =335.0769498348236\n"
          ],
          "name": "stdout"
        },
        {
          "output_type": "stream",
          "text": [
            "100%|██████████| 10002/10002 [01:19<00:00, 125.21it/s]\n"
          ],
          "name": "stderr"
        },
        {
          "output_type": "stream",
          "text": [
            "done. Time collapsed =421.3521068096161\n"
          ],
          "name": "stdout"
        },
        {
          "output_type": "stream",
          "text": [
            "100%|██████████| 10002/10002 [01:19<00:00, 125.62it/s]\n"
          ],
          "name": "stderr"
        },
        {
          "output_type": "stream",
          "text": [
            "done. Time collapsed =507.95350551605225\n"
          ],
          "name": "stdout"
        },
        {
          "output_type": "stream",
          "text": [
            "100%|██████████| 10002/10002 [01:20<00:00, 124.26it/s]\n"
          ],
          "name": "stderr"
        },
        {
          "output_type": "stream",
          "text": [
            "done. Time collapsed =594.8837792873383\n"
          ],
          "name": "stdout"
        },
        {
          "output_type": "stream",
          "text": [
            "100%|██████████| 10002/10002 [01:20<00:00, 123.51it/s]\n"
          ],
          "name": "stderr"
        },
        {
          "output_type": "stream",
          "text": [
            "done. Time collapsed =682.3243606090546\n"
          ],
          "name": "stdout"
        },
        {
          "output_type": "display_data",
          "data": {
            "text/plain": [
              "<Figure size 432x288 with 0 Axes>"
            ]
          },
          "metadata": {
            "tags": []
          }
        }
      ]
    },
    {
      "cell_type": "code",
      "metadata": {
        "id": "XbrfA0WCs4Zx",
        "colab_type": "code",
        "outputId": "eba95a68-9166-4133-e9ca-bac54720a553",
        "colab": {
          "base_uri": "https://localhost:8080/",
          "height": 34
        }
      },
      "source": [
        "js = [20, 10] + [5/i for i in range(1, 6, 1)]\n",
        "for j in js:\n",
        "  if (j == 20):\n",
        "    en_conc = cv2.imread(os.path.join(synthetic_path, f'encoding_ground_truth_Sparsity_1_std_{1/j:.2f}.png'))\n",
        "  else:\n",
        "    en = cv2.imread(os.path.join(synthetic_path, f'encoding_ground_truth_Sparsity_1_std_{1/j:.2f}.png'))\n",
        "    en_conc = cv2.hconcat([en_conc, en])\n",
        "    del en\n",
        "cv2.imwrite(os.path.join(synthetic_path, f'encoding_ground_truth_sparsity_1_for_all_stds.png'), en_conc)"
      ],
      "execution_count": 0,
      "outputs": [
        {
          "output_type": "execute_result",
          "data": {
            "text/plain": [
              "True"
            ]
          },
          "metadata": {
            "tags": []
          },
          "execution_count": 48
        }
      ]
    },
    {
      "cell_type": "code",
      "metadata": {
        "id": "Lafagx4MYKX7",
        "colab_type": "code",
        "outputId": "de731c0a-1740-412c-9091-9c06cd9c81cb",
        "colab": {
          "base_uri": "https://localhost:8080/",
          "height": 34
        }
      },
      "source": [
        "a = 5\n",
        "a-2"
      ],
      "execution_count": 0,
      "outputs": [
        {
          "output_type": "execute_result",
          "data": {
            "text/plain": [
              "3"
            ]
          },
          "metadata": {
            "tags": []
          },
          "execution_count": 37
        }
      ]
    },
    {
      "cell_type": "code",
      "metadata": {
        "id": "y8MR2iW6CLJJ",
        "colab_type": "code",
        "outputId": "ece03d8a-0fae-4c69-e519-0996fd9c3899",
        "colab": {
          "base_uri": "https://localhost:8080/",
          "height": 674
        }
      },
      "source": [
        "btime_start = time.time()\n",
        "for j in range(0, 18):\n",
        "  tsne = np.load(os.path.join(synthetic_path, f'tsne_sparsity{j+1}.npy') )\n",
        "  y_pred_train = np.load(os.path.join(synthetic_path, f'kmeans_preds_sparsity{j}.npy') )\n",
        "  for i in range(len(tsne)):\n",
        "    plt.scatter(tsne[i][0], tsne[i][1], c=colors[int(y_pred_train[i].item())]) \n",
        "    if(i%250==0):\n",
        "      print('.', end = '')\n",
        "  del tsne\n",
        "  del y_pred_train\n",
        "  print(f'done. Time collapsed ={time.time()-time_start}')\n",
        "  plt.title(f'Visualization against the KMeans Prediction for Sparsity = {j+1}')\n",
        "  plt.savefig(os.path.join(kmeans_path,f'predictedKMeans_for_Sparsity_{j+1}.png'))\n",
        "  plt.clf()"
      ],
      "execution_count": 0,
      "outputs": [
        {
          "output_type": "stream",
          "text": [
            "......"
          ],
          "name": "stdout"
        },
        {
          "output_type": "error",
          "ename": "KeyboardInterrupt",
          "evalue": "ignored",
          "traceback": [
            "\u001b[0;31m---------------------------------------------------------------------------\u001b[0m",
            "\u001b[0;31mKeyboardInterrupt\u001b[0m                         Traceback (most recent call last)",
            "\u001b[0;32m<ipython-input-17-ecf300e1ca8b>\u001b[0m in \u001b[0;36m<module>\u001b[0;34m()\u001b[0m\n\u001b[1;32m      4\u001b[0m   \u001b[0my_pred_train\u001b[0m \u001b[0;34m=\u001b[0m \u001b[0mnp\u001b[0m\u001b[0;34m.\u001b[0m\u001b[0mload\u001b[0m\u001b[0;34m(\u001b[0m\u001b[0mos\u001b[0m\u001b[0;34m.\u001b[0m\u001b[0mpath\u001b[0m\u001b[0;34m.\u001b[0m\u001b[0mjoin\u001b[0m\u001b[0;34m(\u001b[0m\u001b[0msynthetic_path\u001b[0m\u001b[0;34m,\u001b[0m \u001b[0;34mf'kmeans_preds_sparsity{j}.npy'\u001b[0m\u001b[0;34m)\u001b[0m \u001b[0;34m)\u001b[0m\u001b[0;34m\u001b[0m\u001b[0;34m\u001b[0m\u001b[0m\n\u001b[1;32m      5\u001b[0m   \u001b[0;32mfor\u001b[0m \u001b[0mi\u001b[0m \u001b[0;32min\u001b[0m \u001b[0mrange\u001b[0m\u001b[0;34m(\u001b[0m\u001b[0mlen\u001b[0m\u001b[0;34m(\u001b[0m\u001b[0mtsne\u001b[0m\u001b[0;34m)\u001b[0m\u001b[0;34m)\u001b[0m\u001b[0;34m:\u001b[0m\u001b[0;34m\u001b[0m\u001b[0;34m\u001b[0m\u001b[0m\n\u001b[0;32m----> 6\u001b[0;31m     \u001b[0mplt\u001b[0m\u001b[0;34m.\u001b[0m\u001b[0mscatter\u001b[0m\u001b[0;34m(\u001b[0m\u001b[0mtsne\u001b[0m\u001b[0;34m[\u001b[0m\u001b[0mi\u001b[0m\u001b[0;34m]\u001b[0m\u001b[0;34m[\u001b[0m\u001b[0;36m0\u001b[0m\u001b[0;34m]\u001b[0m\u001b[0;34m,\u001b[0m \u001b[0mtsne\u001b[0m\u001b[0;34m[\u001b[0m\u001b[0mi\u001b[0m\u001b[0;34m]\u001b[0m\u001b[0;34m[\u001b[0m\u001b[0;36m1\u001b[0m\u001b[0;34m]\u001b[0m\u001b[0;34m,\u001b[0m \u001b[0mc\u001b[0m\u001b[0;34m=\u001b[0m\u001b[0mcolors\u001b[0m\u001b[0;34m[\u001b[0m\u001b[0mint\u001b[0m\u001b[0;34m(\u001b[0m\u001b[0my_pred_train\u001b[0m\u001b[0;34m[\u001b[0m\u001b[0mi\u001b[0m\u001b[0;34m]\u001b[0m\u001b[0;34m.\u001b[0m\u001b[0mitem\u001b[0m\u001b[0;34m(\u001b[0m\u001b[0;34m)\u001b[0m\u001b[0;34m)\u001b[0m\u001b[0;34m]\u001b[0m\u001b[0;34m)\u001b[0m\u001b[0;34m\u001b[0m\u001b[0;34m\u001b[0m\u001b[0m\n\u001b[0m\u001b[1;32m      7\u001b[0m     \u001b[0;32mif\u001b[0m\u001b[0;34m(\u001b[0m\u001b[0mi\u001b[0m\u001b[0;34m%\u001b[0m\u001b[0;36m250\u001b[0m\u001b[0;34m==\u001b[0m\u001b[0;36m0\u001b[0m\u001b[0;34m)\u001b[0m\u001b[0;34m:\u001b[0m\u001b[0;34m\u001b[0m\u001b[0;34m\u001b[0m\u001b[0m\n\u001b[1;32m      8\u001b[0m       \u001b[0mprint\u001b[0m\u001b[0;34m(\u001b[0m\u001b[0;34m'.'\u001b[0m\u001b[0;34m,\u001b[0m \u001b[0mend\u001b[0m \u001b[0;34m=\u001b[0m \u001b[0;34m''\u001b[0m\u001b[0;34m)\u001b[0m\u001b[0;34m\u001b[0m\u001b[0;34m\u001b[0m\u001b[0m\n",
            "\u001b[0;32m/usr/local/lib/python3.6/dist-packages/matplotlib/pyplot.py\u001b[0m in \u001b[0;36mscatter\u001b[0;34m(x, y, s, c, marker, cmap, norm, vmin, vmax, alpha, linewidths, verts, edgecolors, plotnonfinite, data, **kwargs)\u001b[0m\n\u001b[1;32m   2839\u001b[0m         \u001b[0mverts\u001b[0m\u001b[0;34m=\u001b[0m\u001b[0mverts\u001b[0m\u001b[0;34m,\u001b[0m \u001b[0medgecolors\u001b[0m\u001b[0;34m=\u001b[0m\u001b[0medgecolors\u001b[0m\u001b[0;34m,\u001b[0m\u001b[0;34m\u001b[0m\u001b[0;34m\u001b[0m\u001b[0m\n\u001b[1;32m   2840\u001b[0m         plotnonfinite=plotnonfinite, **({\"data\": data} if data is not\n\u001b[0;32m-> 2841\u001b[0;31m         None else {}), **kwargs)\n\u001b[0m\u001b[1;32m   2842\u001b[0m     \u001b[0msci\u001b[0m\u001b[0;34m(\u001b[0m\u001b[0m__ret\u001b[0m\u001b[0;34m)\u001b[0m\u001b[0;34m\u001b[0m\u001b[0;34m\u001b[0m\u001b[0m\n\u001b[1;32m   2843\u001b[0m     \u001b[0;32mreturn\u001b[0m \u001b[0m__ret\u001b[0m\u001b[0;34m\u001b[0m\u001b[0;34m\u001b[0m\u001b[0m\n",
            "\u001b[0;32m/usr/local/lib/python3.6/dist-packages/matplotlib/__init__.py\u001b[0m in \u001b[0;36minner\u001b[0;34m(ax, data, *args, **kwargs)\u001b[0m\n\u001b[1;32m   1597\u001b[0m     \u001b[0;32mdef\u001b[0m \u001b[0minner\u001b[0m\u001b[0;34m(\u001b[0m\u001b[0max\u001b[0m\u001b[0;34m,\u001b[0m \u001b[0;34m*\u001b[0m\u001b[0margs\u001b[0m\u001b[0;34m,\u001b[0m \u001b[0mdata\u001b[0m\u001b[0;34m=\u001b[0m\u001b[0;32mNone\u001b[0m\u001b[0;34m,\u001b[0m \u001b[0;34m**\u001b[0m\u001b[0mkwargs\u001b[0m\u001b[0;34m)\u001b[0m\u001b[0;34m:\u001b[0m\u001b[0;34m\u001b[0m\u001b[0;34m\u001b[0m\u001b[0m\n\u001b[1;32m   1598\u001b[0m         \u001b[0;32mif\u001b[0m \u001b[0mdata\u001b[0m \u001b[0;32mis\u001b[0m \u001b[0;32mNone\u001b[0m\u001b[0;34m:\u001b[0m\u001b[0;34m\u001b[0m\u001b[0;34m\u001b[0m\u001b[0m\n\u001b[0;32m-> 1599\u001b[0;31m             \u001b[0;32mreturn\u001b[0m \u001b[0mfunc\u001b[0m\u001b[0;34m(\u001b[0m\u001b[0max\u001b[0m\u001b[0;34m,\u001b[0m \u001b[0;34m*\u001b[0m\u001b[0mmap\u001b[0m\u001b[0;34m(\u001b[0m\u001b[0msanitize_sequence\u001b[0m\u001b[0;34m,\u001b[0m \u001b[0margs\u001b[0m\u001b[0;34m)\u001b[0m\u001b[0;34m,\u001b[0m \u001b[0;34m**\u001b[0m\u001b[0mkwargs\u001b[0m\u001b[0;34m)\u001b[0m\u001b[0;34m\u001b[0m\u001b[0;34m\u001b[0m\u001b[0m\n\u001b[0m\u001b[1;32m   1600\u001b[0m \u001b[0;34m\u001b[0m\u001b[0m\n\u001b[1;32m   1601\u001b[0m         \u001b[0mbound\u001b[0m \u001b[0;34m=\u001b[0m \u001b[0mnew_sig\u001b[0m\u001b[0;34m.\u001b[0m\u001b[0mbind\u001b[0m\u001b[0;34m(\u001b[0m\u001b[0max\u001b[0m\u001b[0;34m,\u001b[0m \u001b[0;34m*\u001b[0m\u001b[0margs\u001b[0m\u001b[0;34m,\u001b[0m \u001b[0;34m**\u001b[0m\u001b[0mkwargs\u001b[0m\u001b[0;34m)\u001b[0m\u001b[0;34m\u001b[0m\u001b[0;34m\u001b[0m\u001b[0m\n",
            "\u001b[0;32m/usr/local/lib/python3.6/dist-packages/matplotlib/axes/_axes.py\u001b[0m in \u001b[0;36mscatter\u001b[0;34m(self, x, y, s, c, marker, cmap, norm, vmin, vmax, alpha, linewidths, verts, edgecolors, plotnonfinite, **kwargs)\u001b[0m\n\u001b[1;32m   4524\u001b[0m                 \u001b[0mself\u001b[0m\u001b[0;34m.\u001b[0m\u001b[0mset_ymargin\u001b[0m\u001b[0;34m(\u001b[0m\u001b[0;36m0.05\u001b[0m\u001b[0;34m)\u001b[0m\u001b[0;34m\u001b[0m\u001b[0;34m\u001b[0m\u001b[0m\n\u001b[1;32m   4525\u001b[0m \u001b[0;34m\u001b[0m\u001b[0m\n\u001b[0;32m-> 4526\u001b[0;31m         \u001b[0mself\u001b[0m\u001b[0;34m.\u001b[0m\u001b[0madd_collection\u001b[0m\u001b[0;34m(\u001b[0m\u001b[0mcollection\u001b[0m\u001b[0;34m)\u001b[0m\u001b[0;34m\u001b[0m\u001b[0;34m\u001b[0m\u001b[0m\n\u001b[0m\u001b[1;32m   4527\u001b[0m         \u001b[0mself\u001b[0m\u001b[0;34m.\u001b[0m\u001b[0mautoscale_view\u001b[0m\u001b[0;34m(\u001b[0m\u001b[0;34m)\u001b[0m\u001b[0;34m\u001b[0m\u001b[0;34m\u001b[0m\u001b[0m\n\u001b[1;32m   4528\u001b[0m \u001b[0;34m\u001b[0m\u001b[0m\n",
            "\u001b[0;32m/usr/local/lib/python3.6/dist-packages/matplotlib/axes/_base.py\u001b[0m in \u001b[0;36madd_collection\u001b[0;34m(self, collection, autolim)\u001b[0m\n\u001b[1;32m   1871\u001b[0m \u001b[0;34m\u001b[0m\u001b[0m\n\u001b[1;32m   1872\u001b[0m         \u001b[0;32mif\u001b[0m \u001b[0mautolim\u001b[0m\u001b[0;34m:\u001b[0m\u001b[0;34m\u001b[0m\u001b[0;34m\u001b[0m\u001b[0m\n\u001b[0;32m-> 1873\u001b[0;31m             \u001b[0mself\u001b[0m\u001b[0;34m.\u001b[0m\u001b[0mupdate_datalim\u001b[0m\u001b[0;34m(\u001b[0m\u001b[0mcollection\u001b[0m\u001b[0;34m.\u001b[0m\u001b[0mget_datalim\u001b[0m\u001b[0;34m(\u001b[0m\u001b[0mself\u001b[0m\u001b[0;34m.\u001b[0m\u001b[0mtransData\u001b[0m\u001b[0;34m)\u001b[0m\u001b[0;34m)\u001b[0m\u001b[0;34m\u001b[0m\u001b[0;34m\u001b[0m\u001b[0m\n\u001b[0m\u001b[1;32m   1874\u001b[0m \u001b[0;34m\u001b[0m\u001b[0m\n\u001b[1;32m   1875\u001b[0m         \u001b[0mself\u001b[0m\u001b[0;34m.\u001b[0m\u001b[0mstale\u001b[0m \u001b[0;34m=\u001b[0m \u001b[0;32mTrue\u001b[0m\u001b[0;34m\u001b[0m\u001b[0;34m\u001b[0m\u001b[0m\n",
            "\u001b[0;32m/usr/local/lib/python3.6/dist-packages/matplotlib/collections.py\u001b[0m in \u001b[0;36mget_datalim\u001b[0;34m(self, transData)\u001b[0m\n\u001b[1;32m    200\u001b[0m                 \u001b[0mtransform\u001b[0m\u001b[0;34m.\u001b[0m\u001b[0mfrozen\u001b[0m\u001b[0;34m(\u001b[0m\u001b[0;34m)\u001b[0m\u001b[0;34m,\u001b[0m \u001b[0mpaths\u001b[0m\u001b[0;34m,\u001b[0m \u001b[0mself\u001b[0m\u001b[0;34m.\u001b[0m\u001b[0mget_transforms\u001b[0m\u001b[0;34m(\u001b[0m\u001b[0;34m)\u001b[0m\u001b[0;34m,\u001b[0m\u001b[0;34m\u001b[0m\u001b[0;34m\u001b[0m\u001b[0m\n\u001b[1;32m    201\u001b[0m                 offsets, transOffset.frozen())\n\u001b[0;32m--> 202\u001b[0;31m             \u001b[0mresult\u001b[0m \u001b[0;34m=\u001b[0m \u001b[0mresult\u001b[0m\u001b[0;34m.\u001b[0m\u001b[0minverse_transformed\u001b[0m\u001b[0;34m(\u001b[0m\u001b[0mtransData\u001b[0m\u001b[0;34m)\u001b[0m\u001b[0;34m\u001b[0m\u001b[0;34m\u001b[0m\u001b[0m\n\u001b[0m\u001b[1;32m    203\u001b[0m         \u001b[0;32melse\u001b[0m\u001b[0;34m:\u001b[0m\u001b[0;34m\u001b[0m\u001b[0;34m\u001b[0m\u001b[0m\n\u001b[1;32m    204\u001b[0m             \u001b[0mresult\u001b[0m \u001b[0;34m=\u001b[0m \u001b[0mtransforms\u001b[0m\u001b[0;34m.\u001b[0m\u001b[0mBbox\u001b[0m\u001b[0;34m.\u001b[0m\u001b[0mnull\u001b[0m\u001b[0;34m(\u001b[0m\u001b[0;34m)\u001b[0m\u001b[0;34m\u001b[0m\u001b[0;34m\u001b[0m\u001b[0m\n",
            "\u001b[0;32m/usr/local/lib/python3.6/dist-packages/matplotlib/transforms.py\u001b[0m in \u001b[0;36minverse_transformed\u001b[0;34m(self, transform)\u001b[0m\n\u001b[1;32m    520\u001b[0m         \u001b[0mof\u001b[0m \u001b[0;34m*\u001b[0m\u001b[0mtransform\u001b[0m\u001b[0;34m*\u001b[0m\u001b[0;34m.\u001b[0m\u001b[0;34m\u001b[0m\u001b[0;34m\u001b[0m\u001b[0m\n\u001b[1;32m    521\u001b[0m         \"\"\"\n\u001b[0;32m--> 522\u001b[0;31m         \u001b[0;32mreturn\u001b[0m \u001b[0mself\u001b[0m\u001b[0;34m.\u001b[0m\u001b[0mtransformed\u001b[0m\u001b[0;34m(\u001b[0m\u001b[0mtransform\u001b[0m\u001b[0;34m.\u001b[0m\u001b[0minverted\u001b[0m\u001b[0;34m(\u001b[0m\u001b[0;34m)\u001b[0m\u001b[0;34m)\u001b[0m\u001b[0;34m\u001b[0m\u001b[0;34m\u001b[0m\u001b[0m\n\u001b[0m\u001b[1;32m    523\u001b[0m \u001b[0;34m\u001b[0m\u001b[0m\n\u001b[1;32m    524\u001b[0m     coefs = {'C':  (0.5, 0.5),\n",
            "\u001b[0;32m/usr/local/lib/python3.6/dist-packages/matplotlib/transforms.py\u001b[0m in \u001b[0;36minverted\u001b[0;34m(self)\u001b[0m\n\u001b[1;32m   2403\u001b[0m     \u001b[0;32mdef\u001b[0m \u001b[0minverted\u001b[0m\u001b[0;34m(\u001b[0m\u001b[0mself\u001b[0m\u001b[0;34m)\u001b[0m\u001b[0;34m:\u001b[0m\u001b[0;34m\u001b[0m\u001b[0;34m\u001b[0m\u001b[0m\n\u001b[1;32m   2404\u001b[0m         \u001b[0;31m# docstring inherited\u001b[0m\u001b[0;34m\u001b[0m\u001b[0;34m\u001b[0m\u001b[0;34m\u001b[0m\u001b[0m\n\u001b[0;32m-> 2405\u001b[0;31m         \u001b[0;32mreturn\u001b[0m \u001b[0mCompositeGenericTransform\u001b[0m\u001b[0;34m(\u001b[0m\u001b[0mself\u001b[0m\u001b[0;34m.\u001b[0m\u001b[0m_b\u001b[0m\u001b[0;34m.\u001b[0m\u001b[0minverted\u001b[0m\u001b[0;34m(\u001b[0m\u001b[0;34m)\u001b[0m\u001b[0;34m,\u001b[0m \u001b[0mself\u001b[0m\u001b[0;34m.\u001b[0m\u001b[0m_a\u001b[0m\u001b[0;34m.\u001b[0m\u001b[0minverted\u001b[0m\u001b[0;34m(\u001b[0m\u001b[0;34m)\u001b[0m\u001b[0;34m)\u001b[0m\u001b[0;34m\u001b[0m\u001b[0;34m\u001b[0m\u001b[0m\n\u001b[0m\u001b[1;32m   2406\u001b[0m \u001b[0;34m\u001b[0m\u001b[0m\n\u001b[1;32m   2407\u001b[0m \u001b[0;34m\u001b[0m\u001b[0m\n",
            "\u001b[0;32m/usr/local/lib/python3.6/dist-packages/matplotlib/transforms.py\u001b[0m in \u001b[0;36minverted\u001b[0;34m(self)\u001b[0m\n\u001b[1;32m   2403\u001b[0m     \u001b[0;32mdef\u001b[0m \u001b[0minverted\u001b[0m\u001b[0;34m(\u001b[0m\u001b[0mself\u001b[0m\u001b[0;34m)\u001b[0m\u001b[0;34m:\u001b[0m\u001b[0;34m\u001b[0m\u001b[0;34m\u001b[0m\u001b[0m\n\u001b[1;32m   2404\u001b[0m         \u001b[0;31m# docstring inherited\u001b[0m\u001b[0;34m\u001b[0m\u001b[0;34m\u001b[0m\u001b[0;34m\u001b[0m\u001b[0m\n\u001b[0;32m-> 2405\u001b[0;31m         \u001b[0;32mreturn\u001b[0m \u001b[0mCompositeGenericTransform\u001b[0m\u001b[0;34m(\u001b[0m\u001b[0mself\u001b[0m\u001b[0;34m.\u001b[0m\u001b[0m_b\u001b[0m\u001b[0;34m.\u001b[0m\u001b[0minverted\u001b[0m\u001b[0;34m(\u001b[0m\u001b[0;34m)\u001b[0m\u001b[0;34m,\u001b[0m \u001b[0mself\u001b[0m\u001b[0;34m.\u001b[0m\u001b[0m_a\u001b[0m\u001b[0;34m.\u001b[0m\u001b[0minverted\u001b[0m\u001b[0;34m(\u001b[0m\u001b[0;34m)\u001b[0m\u001b[0;34m)\u001b[0m\u001b[0;34m\u001b[0m\u001b[0;34m\u001b[0m\u001b[0m\n\u001b[0m\u001b[1;32m   2406\u001b[0m \u001b[0;34m\u001b[0m\u001b[0m\n\u001b[1;32m   2407\u001b[0m \u001b[0;34m\u001b[0m\u001b[0m\n",
            "\u001b[0;32m/usr/local/lib/python3.6/dist-packages/matplotlib/transforms.py\u001b[0m in \u001b[0;36minverted\u001b[0;34m(self)\u001b[0m\n\u001b[1;32m   1807\u001b[0m             \u001b[0;32mif\u001b[0m \u001b[0mself\u001b[0m\u001b[0;34m.\u001b[0m\u001b[0m_shorthand_name\u001b[0m\u001b[0;34m:\u001b[0m\u001b[0;34m\u001b[0m\u001b[0;34m\u001b[0m\u001b[0m\n\u001b[1;32m   1808\u001b[0m                 \u001b[0mshorthand_name\u001b[0m \u001b[0;34m=\u001b[0m \u001b[0;34m'(%s)-1'\u001b[0m \u001b[0;34m%\u001b[0m \u001b[0mself\u001b[0m\u001b[0;34m.\u001b[0m\u001b[0m_shorthand_name\u001b[0m\u001b[0;34m\u001b[0m\u001b[0;34m\u001b[0m\u001b[0m\n\u001b[0;32m-> 1809\u001b[0;31m             \u001b[0mself\u001b[0m\u001b[0;34m.\u001b[0m\u001b[0m_inverted\u001b[0m \u001b[0;34m=\u001b[0m \u001b[0mAffine2D\u001b[0m\u001b[0;34m(\u001b[0m\u001b[0minv\u001b[0m\u001b[0;34m(\u001b[0m\u001b[0mmtx\u001b[0m\u001b[0;34m)\u001b[0m\u001b[0;34m,\u001b[0m \u001b[0mshorthand_name\u001b[0m\u001b[0;34m=\u001b[0m\u001b[0mshorthand_name\u001b[0m\u001b[0;34m)\u001b[0m\u001b[0;34m\u001b[0m\u001b[0;34m\u001b[0m\u001b[0m\n\u001b[0m\u001b[1;32m   1810\u001b[0m             \u001b[0mself\u001b[0m\u001b[0;34m.\u001b[0m\u001b[0m_invalid\u001b[0m \u001b[0;34m=\u001b[0m \u001b[0;36m0\u001b[0m\u001b[0;34m\u001b[0m\u001b[0;34m\u001b[0m\u001b[0m\n\u001b[1;32m   1811\u001b[0m         \u001b[0;32mreturn\u001b[0m \u001b[0mself\u001b[0m\u001b[0;34m.\u001b[0m\u001b[0m_inverted\u001b[0m\u001b[0;34m\u001b[0m\u001b[0;34m\u001b[0m\u001b[0m\n",
            "\u001b[0;32m<__array_function__ internals>\u001b[0m in \u001b[0;36minv\u001b[0;34m(*args, **kwargs)\u001b[0m\n",
            "\u001b[0;32m/usr/local/lib/python3.6/dist-packages/numpy/linalg/linalg.py\u001b[0m in \u001b[0;36minv\u001b[0;34m(a)\u001b[0m\n\u001b[1;32m    549\u001b[0m     \u001b[0msignature\u001b[0m \u001b[0;34m=\u001b[0m \u001b[0;34m'D->D'\u001b[0m \u001b[0;32mif\u001b[0m \u001b[0misComplexType\u001b[0m\u001b[0;34m(\u001b[0m\u001b[0mt\u001b[0m\u001b[0;34m)\u001b[0m \u001b[0;32melse\u001b[0m \u001b[0;34m'd->d'\u001b[0m\u001b[0;34m\u001b[0m\u001b[0;34m\u001b[0m\u001b[0m\n\u001b[1;32m    550\u001b[0m     \u001b[0mextobj\u001b[0m \u001b[0;34m=\u001b[0m \u001b[0mget_linalg_error_extobj\u001b[0m\u001b[0;34m(\u001b[0m\u001b[0m_raise_linalgerror_singular\u001b[0m\u001b[0;34m)\u001b[0m\u001b[0;34m\u001b[0m\u001b[0;34m\u001b[0m\u001b[0m\n\u001b[0;32m--> 551\u001b[0;31m     \u001b[0mainv\u001b[0m \u001b[0;34m=\u001b[0m \u001b[0m_umath_linalg\u001b[0m\u001b[0;34m.\u001b[0m\u001b[0minv\u001b[0m\u001b[0;34m(\u001b[0m\u001b[0ma\u001b[0m\u001b[0;34m,\u001b[0m \u001b[0msignature\u001b[0m\u001b[0;34m=\u001b[0m\u001b[0msignature\u001b[0m\u001b[0;34m,\u001b[0m \u001b[0mextobj\u001b[0m\u001b[0;34m=\u001b[0m\u001b[0mextobj\u001b[0m\u001b[0;34m)\u001b[0m\u001b[0;34m\u001b[0m\u001b[0;34m\u001b[0m\u001b[0m\n\u001b[0m\u001b[1;32m    552\u001b[0m     \u001b[0;32mreturn\u001b[0m \u001b[0mwrap\u001b[0m\u001b[0;34m(\u001b[0m\u001b[0mainv\u001b[0m\u001b[0;34m.\u001b[0m\u001b[0mastype\u001b[0m\u001b[0;34m(\u001b[0m\u001b[0mresult_t\u001b[0m\u001b[0;34m,\u001b[0m \u001b[0mcopy\u001b[0m\u001b[0;34m=\u001b[0m\u001b[0;32mFalse\u001b[0m\u001b[0;34m)\u001b[0m\u001b[0;34m)\u001b[0m\u001b[0;34m\u001b[0m\u001b[0;34m\u001b[0m\u001b[0m\n\u001b[1;32m    553\u001b[0m \u001b[0;34m\u001b[0m\u001b[0m\n",
            "\u001b[0;31mKeyboardInterrupt\u001b[0m: "
          ]
        },
        {
          "output_type": "display_data",
          "data": {
            "image/png": "[encoded data removed]",
            "text/plain": [
              "<Figure size 432x288 with 1 Axes>"
            ]
          },
          "metadata": {
            "tags": []
          }
        }
      ]
    },
    {
      "cell_type": "code",
      "metadata": {
        "id": "Z7xueshFJ3Wy",
        "colab_type": "code",
        "outputId": "b974f4fc-1d20-4f1a-ca5b-e8b3f4e5dae0",
        "colab": {
          "base_uri": "https://localhost:8080/",
          "height": 34
        }
      },
      "source": [
        "y_pred_train = torch.from_numpy(y_pred_train).type(torch.ByteTensor)#.cuda()\n",
        "accuracy = torch.mean((torch.from_numpy(y_pred_train).view(10002) == labels.view(10002)).type(torch.FloatTensor)).item()\n",
        "print(f'Gaussian Mixture Model Accuracy = {(accuracy)*100:.2f}%')"
      ],
      "execution_count": 0,
      "outputs": [
        {
          "output_type": "stream",
          "text": [
            "Gaussian Mixture Model Accuracy = 5.10%\n"
          ],
          "name": "stdout"
        }
      ]
    },
    {
      "cell_type": "code",
      "metadata": {
        "id": "G48ZepmUNDR-",
        "colab_type": "code",
        "outputId": "1509e21e-de82-4073-ceea-2e151c8cbce1",
        "colab": {
          "base_uri": "https://localhost:8080/",
          "height": 850
        }
      },
      "source": [
        "uni = sparse()\n",
        "(uni[90:96])"
      ],
      "execution_count": 0,
      "outputs": [
        {
          "output_type": "stream",
          "text": [
            "torch.Size([39, 1])\n"
          ],
          "name": "stdout"
        },
        {
          "output_type": "execute_result",
          "data": {
            "text/plain": [
              "tensor([[-1.4063e-01, -2.8145e-01,  4.4411e-01,  5.8321e-02, -2.1524e-01,\n",
              "          8.6211e-02, -1.0329e-01,  1.2181e-01,  7.2102e-01, -2.8954e-01,\n",
              "          1.5922e-02,  1.0000e+00,  2.3463e-02, -4.5925e-02, -5.2821e-02,\n",
              "          3.5522e-01, -1.6904e-04, -4.1855e-01,  1.2959e-01,  3.0241e-01,\n",
              "         -1.7134e-01, -2.2824e-01, -2.7596e-01, -1.2453e-01, -9.1200e-02,\n",
              "          1.3983e-01, -2.4867e-01,  4.8624e-02, -1.4572e-01, -9.8532e-02,\n",
              "          4.0182e-01,  1.1139e-01, -7.1844e-02, -2.2730e-01, -9.3280e-02,\n",
              "         -6.3991e-01, -9.7520e-02, -3.8303e-01,  4.2248e-01],\n",
              "        [-6.9391e-01,  3.8642e-01, -3.8027e-01, -4.3062e-01,  3.5098e-01,\n",
              "         -5.5339e-01,  3.5102e-01, -2.6369e-01, -8.6607e-02, -1.0981e-01,\n",
              "          2.5792e-01,  1.0000e+00, -1.0263e-01, -1.6609e-01,  2.7656e-01,\n",
              "          1.4986e-01, -4.4353e-01, -2.9889e-01,  2.4021e-02, -6.1056e-01,\n",
              "          5.3332e-03,  2.5645e-01,  2.4435e-01, -5.7948e-03, -5.7108e-01,\n",
              "         -2.6533e-01,  2.5154e-01,  3.0417e-03, -1.2283e-01,  2.3258e-02,\n",
              "          1.8363e-02, -2.2958e-02, -1.6068e-01,  5.0948e-01, -1.0369e-01,\n",
              "         -2.2251e-01,  2.7960e-02,  4.6708e-01,  1.1979e-01],\n",
              "        [-4.1335e-02,  2.5592e-01, -2.1066e-01,  2.5309e-01,  1.8603e-01,\n",
              "         -1.4379e-01,  1.1374e-01,  3.1817e-02, -4.7773e-02,  2.3711e-01,\n",
              "          2.0067e-01,  1.0000e+00,  8.7468e-02,  1.3938e-01,  1.5412e-01,\n",
              "         -1.3170e-01, -7.0996e-02,  1.7644e-01,  3.3462e-02, -5.8314e-02,\n",
              "          7.1867e-02, -7.6584e-02,  2.5883e-01,  7.2042e-02,  6.7485e-02,\n",
              "          5.2804e-02,  2.0426e-01, -9.0903e-02, -2.7663e-01, -5.2912e-02,\n",
              "          7.6843e-02,  1.0887e-01,  3.4036e-01,  2.7687e-01,  1.0976e-01,\n",
              "          7.7865e-02, -4.2379e-02,  8.9470e-02, -1.8344e-01],\n",
              "        [-1.2769e-01,  1.4912e-01,  1.8827e-02, -4.7390e-02, -6.8659e-02,\n",
              "          1.4041e-01,  4.6419e-02, -1.4333e-01,  1.0849e-01, -3.5558e-01,\n",
              "         -1.1472e-01,  1.0000e+00,  6.8276e-02,  1.6543e-01,  2.1910e-01,\n",
              "         -1.0370e-01,  1.2789e-01,  6.7667e-02, -2.1509e-01, -1.0938e-01,\n",
              "         -3.2674e-02, -1.6351e-01, -1.2707e-01,  3.3946e-01, -3.8683e-02,\n",
              "          3.1942e-01, -2.8289e-02, -1.9579e-01,  6.7682e-02,  1.2316e-01,\n",
              "          1.3326e-02,  8.3305e-02,  1.9525e-01, -1.8204e-01,  1.4707e-01,\n",
              "         -3.6154e-02, -5.7044e-02, -4.4668e-02,  4.6880e-02],\n",
              "        [-2.5569e-01,  3.7372e-01,  3.5606e-01,  2.6358e-01, -1.0437e+00,\n",
              "          4.4064e-01, -2.2998e-01, -1.6653e-01,  5.7784e-01, -5.2149e-01,\n",
              "          5.0963e-01,  1.0000e+00,  9.6858e-02, -2.2331e-02,  3.4814e-01,\n",
              "         -7.4502e-02, -4.2771e-01, -7.3334e-01,  6.9213e-01,  5.2361e-01,\n",
              "         -4.8408e-01, -1.6652e-01,  5.0288e-01, -9.1135e-01,  6.7247e-01,\n",
              "          9.0404e-02, -4.1189e-01,  5.2642e-01,  1.2132e-01,  3.1258e-01,\n",
              "         -1.8477e-01, -4.9922e-01, -5.8059e-01, -2.6615e-01,  5.8487e-01,\n",
              "          2.2349e-01, -5.6527e-01, -1.4531e-01, -1.2698e-01],\n",
              "        [ 1.5131e-02,  4.5492e-02,  1.1960e-01, -3.4617e-01,  1.3988e-02,\n",
              "          1.9737e-01,  2.9697e-01,  1.5590e-02,  7.6061e-02,  1.0818e-01,\n",
              "          3.7169e-03,  1.0000e+00,  7.5971e-02, -2.0960e-01, -3.3185e-01,\n",
              "          4.9969e-02,  5.0603e-01, -1.9857e-01,  5.3166e-02,  6.3754e-02,\n",
              "         -1.1338e-01,  4.2258e-03,  1.2937e-01,  3.8102e-01,  4.7968e-02,\n",
              "          2.1371e-01,  1.1431e-01, -1.3571e-01,  9.8926e-02, -1.4315e-01,\n",
              "          1.5969e-01,  7.1162e-02,  5.2133e-02,  1.9314e-02,  1.3173e-01,\n",
              "          6.0171e-02,  2.8977e-01,  6.1672e-02,  1.2943e-01]])"
            ]
          },
          "metadata": {
            "tags": []
          },
          "execution_count": 148
        }
      ]
    },
    {
      "cell_type": "markdown",
      "metadata": {
        "id": "rL9_uZwPcMz6",
        "colab_type": "text"
      },
      "source": [
        "## KMeans"
      ]
    },
    {
      "cell_type": "code",
      "metadata": {
        "id": "IG0BfiflcPPY",
        "colab_type": "code",
        "outputId": "87aba22a-fba0-4aee-aaf7-f322b78b902c",
        "colab": {
          "base_uri": "https://localhost:8080/",
          "height": 68
        }
      },
      "source": [
        "kmodel = KMeans(n_clusters = 2, random_state = 42)\n",
        "y_pred_train = None\n",
        "time_means_start = time.time()\n",
        "X = X.cpu()\n",
        "kmeans = kmodel.fit(X)\n",
        "print(f'KMeans completed. Time elapsed = {time.time()-time_means_start:.2f}s')\n",
        "y_pred_train = kmeans.labels_\n",
        "train_accuracy = torch.mean((torch.from_numpy(y_pred_train).view(10002) == labels.view(10002)).type(torch.FloatTensor)).item()\n",
        "print(f'KMeans Accuracy = {train_accuracy*100:.2f}%')\n",
        "print(f'Done time elapsed = {time.time()-time_means_start:.2f}s')"
      ],
      "execution_count": 0,
      "outputs": [
        {
          "output_type": "stream",
          "text": [
            "KMeans completed. Time elapsed = 0.18s\n",
            "KMeans Accuracy = 5.10%\n",
            "Done time elapsed = 0.18s\n"
          ],
          "name": "stdout"
        }
      ]
    },
    {
      "cell_type": "code",
      "metadata": {
        "id": "1PzIaassdl1w",
        "colab_type": "code",
        "outputId": "e4a4ef1b-9cc1-45d5-ecf3-e8f524cce965",
        "colab": {
          "base_uri": "https://localhost:8080/",
          "height": 297
        }
      },
      "source": [
        "for i in range(len(tsne)):\n",
        "  plt.scatter(tsne[i][0], tsne[i][1], c=colors[kmeans.labels_[i]])\n",
        "  if(i%100==0):\n",
        "    print('.', end = '')  \n",
        "plt.title('Visualization against the prediction by KMeans')\n",
        "plt.show()"
      ],
      "execution_count": 0,
      "outputs": [
        {
          "output_type": "stream",
          "text": [
            "....................................................................................................."
          ],
          "name": "stdout"
        },
        {
          "output_type": "display_data",
          "data": {
            "image/png": "[encoded data removed]",
            "text/plain": [
              "<Figure size 432x288 with 1 Axes>"
            ]
          },
          "metadata": {
            "tags": [],
            "image/png": {
              "width": 377,
              "height": 263
            }
          }
        }
      ]
    },
    {
      "cell_type": "markdown",
      "metadata": {
        "id": "_fgT0kD1gZm8",
        "colab_type": "text"
      },
      "source": [
        "## Autoencoder"
      ]
    },
    {
      "cell_type": "code",
      "metadata": {
        "id": "ZSoOnKzXeDOA",
        "colab_type": "code",
        "colab": {}
      },
      "source": [
        "class encoder(nn.Module):\n",
        "  def __init__(self):\n",
        "    super().__init__()\n",
        "    self.fc1 = nn.Sequential(nn.Linear(39, 2), \n",
        "                             nn.LogSoftmax(dim = 1))\n",
        "  def forward(self, X):\n",
        "    X = self.fc1(X)\n",
        "    return X"
      ],
      "execution_count": 0,
      "outputs": []
    },
    {
      "cell_type": "code",
      "metadata": {
        "id": "bFOTtLSig-5w",
        "colab_type": "code",
        "colab": {}
      },
      "source": [
        "class decoder(nn.Module):\n",
        "  def __init__(self):\n",
        "    super().__init__()\n",
        "    self.fc2 = nn.Sequential(nn.Linear(2,39),\n",
        "                             nn.Softmax(dim = 1))\n",
        "  def forward(self, X):\n",
        "    X = self.fc2(X)\n",
        "    return X"
      ],
      "execution_count": 0,
      "outputs": []
    },
    {
      "cell_type": "code",
      "metadata": {
        "id": "E9_HhQVBhNnR",
        "colab_type": "code",
        "colab": {}
      },
      "source": [
        "class Autoencoder(nn.Module):\n",
        "  def __init__(self, enc, dec):\n",
        "    super().__init__()\n",
        "    self.enc = enc\n",
        "    self.dec = dec\n",
        "  def forward(self, X):\n",
        "    X = self.enc(X)\n",
        "    X = self.dec(X)\n",
        "    return X"
      ],
      "execution_count": 0,
      "outputs": []
    },
    {
      "cell_type": "code",
      "metadata": {
        "id": "CNDAC5wBh2ck",
        "colab_type": "code",
        "outputId": "a7e29015-9b57-4dc6-c11d-41643289115e",
        "colab": {
          "base_uri": "https://localhost:8080/",
          "height": 255
        }
      },
      "source": [
        "enc = encoder()\n",
        "dec = decoder()\n",
        "autoencoder = Autoencoder(enc, dec)\n",
        "device = torch.device('cuda' if torch.cuda.is_available() else 'cpu')\n",
        "autoencoder.to(device)"
      ],
      "execution_count": 0,
      "outputs": [
        {
          "output_type": "execute_result",
          "data": {
            "text/plain": [
              "Autoencoder(\n",
              "  (enc): encoder(\n",
              "    (fc1): Sequential(\n",
              "      (0): Linear(in_features=39, out_features=2, bias=True)\n",
              "      (1): LogSoftmax()\n",
              "    )\n",
              "  )\n",
              "  (dec): decoder(\n",
              "    (fc2): Sequential(\n",
              "      (0): Linear(in_features=2, out_features=39, bias=True)\n",
              "      (1): Softmax(dim=1)\n",
              "    )\n",
              "  )\n",
              ")"
            ]
          },
          "metadata": {
            "tags": []
          },
          "execution_count": 89
        }
      ]
    },
    {
      "cell_type": "code",
      "metadata": {
        "id": "edaPOBeOi5qa",
        "colab_type": "code",
        "colab": {}
      },
      "source": [
        "epochs = 600\n",
        "optimizer = torch.optim.Adam(autoencoder.parameters(), lr = 0.001)\n",
        "criterion = nn.MSELoss()"
      ],
      "execution_count": 0,
      "outputs": []
    },
    {
      "cell_type": "code",
      "metadata": {
        "id": "YpJb5rkajqDj",
        "colab_type": "code",
        "colab": {}
      },
      "source": [
        "X = X.to(device)"
      ],
      "execution_count": 0,
      "outputs": []
    },
    {
      "cell_type": "code",
      "metadata": {
        "id": "xvDY290ajRSD",
        "colab_type": "code",
        "colab": {}
      },
      "source": [
        "def train():\n",
        "  \n",
        "  autoencoder.train()\n",
        "  train_loss = 0\n",
        "  \n",
        "  \n",
        "\n",
        "  optimizer.zero_grad()\n",
        "\n",
        "  X_p = autoencoder(X)\n",
        "\n",
        "  loss = criterion(X_p, X)\n",
        "  \n",
        "  loss.backward()\n",
        "  train_loss += loss.item()\n",
        "  \n",
        "  optimizer.step()\n",
        "  return train_loss"
      ],
      "execution_count": 0,
      "outputs": []
    },
    {
      "cell_type": "code",
      "metadata": {
        "id": "AxzfR-eBjuAb",
        "colab_type": "code",
        "colab": {}
      },
      "source": [
        "def test():\n",
        "  autoencoder.eval()\n",
        "  test_loss = 0\n",
        "\n",
        "  with torch.no_grad():\n",
        "\n",
        "    X_p = autoencoder(X)\n",
        "\n",
        "    loss = criterion(X_p, X)\n",
        "\n",
        "    test_loss += loss.item()\n",
        "  return test_loss"
      ],
      "execution_count": 0,
      "outputs": []
    },
    {
      "cell_type": "code",
      "metadata": {
        "id": "0GgqV6VkkIr_",
        "colab_type": "code",
        "outputId": "1b291181-def1-4631-d4a4-2d436ccaf70d",
        "colab": {
          "base_uri": "https://localhost:8080/",
          "height": 1000
        }
      },
      "source": [
        "train_loss_list = []\n",
        "# test_loss_list = []\n",
        "time_start = time.time()\n",
        "for e in range(epochs):\n",
        "  \n",
        "  train_loss = train()\n",
        "  train_loss /= len(X)\n",
        "  print(f'Training done. Time Collapsed = {time.time() - time_start: .2f}s')\n",
        "  # print(f'Testing..')\n",
        "  # test_loss = test()\n",
        "  # test_loss /= len(val_data)\n",
        "  # print(f'Testing done. Time Collapsed = {time.time() - time_start: .2f}s')\n",
        "  train_loss_list.append(train_loss)\n",
        "  # test_loss_list.append(test_loss)"
      ],
      "execution_count": 0,
      "outputs": [
        {
          "output_type": "stream",
          "text": [
            "Training done. Time Collapsed =  0.00s\n",
            "Training done. Time Collapsed =  0.01s\n",
            "Training done. Time Collapsed =  0.01s\n",
            "Training done. Time Collapsed =  0.01s\n",
            "Training done. Time Collapsed =  0.02s\n",
            "Training done. Time Collapsed =  0.02s\n",
            "Training done. Time Collapsed =  0.02s\n",
            "Training done. Time Collapsed =  0.02s\n",
            "Training done. Time Collapsed =  0.03s\n",
            "Training done. Time Collapsed =  0.03s\n",
            "Training done. Time Collapsed =  0.03s\n",
            "Training done. Time Collapsed =  0.03s\n",
            "Training done. Time Collapsed =  0.03s\n",
            "Training done. Time Collapsed =  0.04s\n",
            "Training done. Time Collapsed =  0.04s\n",
            "Training done. Time Collapsed =  0.04s\n",
            "Training done. Time Collapsed =  0.04s\n",
            "Training done. Time Collapsed =  0.04s\n",
            "Training done. Time Collapsed =  0.04s\n",
            "Training done. Time Collapsed =  0.05s\n",
            "Training done. Time Collapsed =  0.05s\n",
            "Training done. Time Collapsed =  0.05s\n",
            "Training done. Time Collapsed =  0.05s\n",
            "Training done. Time Collapsed =  0.05s\n",
            "Training done. Time Collapsed =  0.05s\n",
            "Training done. Time Collapsed =  0.06s\n",
            "Training done. Time Collapsed =  0.06s\n",
            "Training done. Time Collapsed =  0.06s\n",
            "Training done. Time Collapsed =  0.06s\n",
            "Training done. Time Collapsed =  0.06s\n",
            "Training done. Time Collapsed =  0.07s\n",
            "Training done. Time Collapsed =  0.07s\n",
            "Training done. Time Collapsed =  0.07s\n",
            "Training done. Time Collapsed =  0.07s\n",
            "Training done. Time Collapsed =  0.07s\n",
            "Training done. Time Collapsed =  0.08s\n",
            "Training done. Time Collapsed =  0.08s\n",
            "Training done. Time Collapsed =  0.08s\n",
            "Training done. Time Collapsed =  0.08s\n",
            "Training done. Time Collapsed =  0.08s\n",
            "Training done. Time Collapsed =  0.09s\n",
            "Training done. Time Collapsed =  0.09s\n",
            "Training done. Time Collapsed =  0.09s\n",
            "Training done. Time Collapsed =  0.09s\n",
            "Training done. Time Collapsed =  0.10s\n",
            "Training done. Time Collapsed =  0.10s\n",
            "Training done. Time Collapsed =  0.10s\n",
            "Training done. Time Collapsed =  0.10s\n",
            "Training done. Time Collapsed =  0.10s\n",
            "Training done. Time Collapsed =  0.11s\n",
            "Training done. Time Collapsed =  0.11s\n",
            "Training done. Time Collapsed =  0.11s\n",
            "Training done. Time Collapsed =  0.11s\n",
            "Training done. Time Collapsed =  0.11s\n",
            "Training done. Time Collapsed =  0.12s\n",
            "Training done. Time Collapsed =  0.12s\n",
            "Training done. Time Collapsed =  0.12s\n",
            "Training done. Time Collapsed =  0.12s\n",
            "Training done. Time Collapsed =  0.12s\n",
            "Training done. Time Collapsed =  0.13s\n",
            "Training done. Time Collapsed =  0.13s\n",
            "Training done. Time Collapsed =  0.13s\n",
            "Training done. Time Collapsed =  0.13s\n",
            "Training done. Time Collapsed =  0.13s\n",
            "Training done. Time Collapsed =  0.14s\n",
            "Training done. Time Collapsed =  0.14s\n",
            "Training done. Time Collapsed =  0.14s\n",
            "Training done. Time Collapsed =  0.14s\n",
            "Training done. Time Collapsed =  0.14s\n",
            "Training done. Time Collapsed =  0.15s\n",
            "Training done. Time Collapsed =  0.15s\n",
            "Training done. Time Collapsed =  0.15s\n",
            "Training done. Time Collapsed =  0.15s\n",
            "Training done. Time Collapsed =  0.15s\n",
            "Training done. Time Collapsed =  0.15s\n",
            "Training done. Time Collapsed =  0.16s\n",
            "Training done. Time Collapsed =  0.16s\n",
            "Training done. Time Collapsed =  0.16s\n",
            "Training done. Time Collapsed =  0.16s\n",
            "Training done. Time Collapsed =  0.16s\n",
            "Training done. Time Collapsed =  0.17s\n",
            "Training done. Time Collapsed =  0.17s\n",
            "Training done. Time Collapsed =  0.17s\n",
            "Training done. Time Collapsed =  0.17s\n",
            "Training done. Time Collapsed =  0.17s\n",
            "Training done. Time Collapsed =  0.17s\n",
            "Training done. Time Collapsed =  0.18s\n",
            "Training done. Time Collapsed =  0.18s\n",
            "Training done. Time Collapsed =  0.18s\n",
            "Training done. Time Collapsed =  0.18s\n",
            "Training done. Time Collapsed =  0.18s\n",
            "Training done. Time Collapsed =  0.19s\n",
            "Training done. Time Collapsed =  0.19s\n",
            "Training done. Time Collapsed =  0.19s\n",
            "Training done. Time Collapsed =  0.19s\n",
            "Training done. Time Collapsed =  0.19s\n",
            "Training done. Time Collapsed =  0.19s\n",
            "Training done. Time Collapsed =  0.20s\n",
            "Training done. Time Collapsed =  0.20s\n",
            "Training done. Time Collapsed =  0.20s\n",
            "Training done. Time Collapsed =  0.20s\n",
            "Training done. Time Collapsed =  0.20s\n",
            "Training done. Time Collapsed =  0.21s\n",
            "Training done. Time Collapsed =  0.21s\n",
            "Training done. Time Collapsed =  0.21s\n",
            "Training done. Time Collapsed =  0.21s\n",
            "Training done. Time Collapsed =  0.22s\n",
            "Training done. Time Collapsed =  0.22s\n",
            "Training done. Time Collapsed =  0.22s\n",
            "Training done. Time Collapsed =  0.22s\n",
            "Training done. Time Collapsed =  0.23s\n",
            "Training done. Time Collapsed =  0.23s\n",
            "Training done. Time Collapsed =  0.23s\n",
            "Training done. Time Collapsed =  0.23s\n",
            "Training done. Time Collapsed =  0.23s\n",
            "Training done. Time Collapsed =  0.24s\n",
            "Training done. Time Collapsed =  0.24s\n",
            "Training done. Time Collapsed =  0.24s\n",
            "Training done. Time Collapsed =  0.24s\n",
            "Training done. Time Collapsed =  0.24s\n",
            "Training done. Time Collapsed =  0.24s\n",
            "Training done. Time Collapsed =  0.25s\n",
            "Training done. Time Collapsed =  0.25s\n",
            "Training done. Time Collapsed =  0.25s\n",
            "Training done. Time Collapsed =  0.25s\n",
            "Training done. Time Collapsed =  0.25s\n",
            "Training done. Time Collapsed =  0.25s\n",
            "Training done. Time Collapsed =  0.26s\n",
            "Training done. Time Collapsed =  0.26s\n",
            "Training done. Time Collapsed =  0.26s\n",
            "Training done. Time Collapsed =  0.26s\n",
            "Training done. Time Collapsed =  0.26s\n",
            "Training done. Time Collapsed =  0.27s\n",
            "Training done. Time Collapsed =  0.27s\n",
            "Training done. Time Collapsed =  0.27s\n",
            "Training done. Time Collapsed =  0.27s\n",
            "Training done. Time Collapsed =  0.27s\n",
            "Training done. Time Collapsed =  0.27s\n",
            "Training done. Time Collapsed =  0.28s\n",
            "Training done. Time Collapsed =  0.28s\n",
            "Training done. Time Collapsed =  0.28s\n",
            "Training done. Time Collapsed =  0.28s\n",
            "Training done. Time Collapsed =  0.28s\n",
            "Training done. Time Collapsed =  0.29s\n",
            "Training done. Time Collapsed =  0.29s\n",
            "Training done. Time Collapsed =  0.29s\n",
            "Training done. Time Collapsed =  0.29s\n",
            "Training done. Time Collapsed =  0.30s\n",
            "Training done. Time Collapsed =  0.30s\n",
            "Training done. Time Collapsed =  0.30s\n",
            "Training done. Time Collapsed =  0.30s\n",
            "Training done. Time Collapsed =  0.30s\n",
            "Training done. Time Collapsed =  0.31s\n",
            "Training done. Time Collapsed =  0.31s\n",
            "Training done. Time Collapsed =  0.31s\n",
            "Training done. Time Collapsed =  0.31s\n",
            "Training done. Time Collapsed =  0.31s\n",
            "Training done. Time Collapsed =  0.32s\n",
            "Training done. Time Collapsed =  0.32s\n",
            "Training done. Time Collapsed =  0.32s\n",
            "Training done. Time Collapsed =  0.32s\n",
            "Training done. Time Collapsed =  0.32s\n",
            "Training done. Time Collapsed =  0.32s\n",
            "Training done. Time Collapsed =  0.33s\n",
            "Training done. Time Collapsed =  0.33s\n",
            "Training done. Time Collapsed =  0.33s\n",
            "Training done. Time Collapsed =  0.33s\n",
            "Training done. Time Collapsed =  0.33s\n",
            "Training done. Time Collapsed =  0.34s\n",
            "Training done. Time Collapsed =  0.34s\n",
            "Training done. Time Collapsed =  0.34s\n",
            "Training done. Time Collapsed =  0.34s\n",
            "Training done. Time Collapsed =  0.34s\n",
            "Training done. Time Collapsed =  0.34s\n",
            "Training done. Time Collapsed =  0.35s\n",
            "Training done. Time Collapsed =  0.35s\n",
            "Training done. Time Collapsed =  0.35s\n",
            "Training done. Time Collapsed =  0.35s\n",
            "Training done. Time Collapsed =  0.35s\n",
            "Training done. Time Collapsed =  0.35s\n",
            "Training done. Time Collapsed =  0.36s\n",
            "Training done. Time Collapsed =  0.36s\n",
            "Training done. Time Collapsed =  0.36s\n",
            "Training done. Time Collapsed =  0.36s\n",
            "Training done. Time Collapsed =  0.36s\n",
            "Training done. Time Collapsed =  0.37s\n",
            "Training done. Time Collapsed =  0.37s\n",
            "Training done. Time Collapsed =  0.37s\n",
            "Training done. Time Collapsed =  0.37s\n",
            "Training done. Time Collapsed =  0.37s\n",
            "Training done. Time Collapsed =  0.38s\n",
            "Training done. Time Collapsed =  0.38s\n",
            "Training done. Time Collapsed =  0.38s\n",
            "Training done. Time Collapsed =  0.38s\n",
            "Training done. Time Collapsed =  0.38s\n",
            "Training done. Time Collapsed =  0.38s\n",
            "Training done. Time Collapsed =  0.39s\n",
            "Training done. Time Collapsed =  0.39s\n",
            "Training done. Time Collapsed =  0.39s\n",
            "Training done. Time Collapsed =  0.39s\n",
            "Training done. Time Collapsed =  0.39s\n",
            "Training done. Time Collapsed =  0.40s\n",
            "Training done. Time Collapsed =  0.40s\n",
            "Training done. Time Collapsed =  0.40s\n",
            "Training done. Time Collapsed =  0.40s\n",
            "Training done. Time Collapsed =  0.40s\n",
            "Training done. Time Collapsed =  0.40s\n",
            "Training done. Time Collapsed =  0.41s\n",
            "Training done. Time Collapsed =  0.41s\n",
            "Training done. Time Collapsed =  0.41s\n",
            "Training done. Time Collapsed =  0.42s\n",
            "Training done. Time Collapsed =  0.42s\n",
            "Training done. Time Collapsed =  0.42s\n",
            "Training done. Time Collapsed =  0.42s\n",
            "Training done. Time Collapsed =  0.42s\n",
            "Training done. Time Collapsed =  0.43s\n",
            "Training done. Time Collapsed =  0.43s\n",
            "Training done. Time Collapsed =  0.43s\n",
            "Training done. Time Collapsed =  0.43s\n",
            "Training done. Time Collapsed =  0.43s\n",
            "Training done. Time Collapsed =  0.43s\n",
            "Training done. Time Collapsed =  0.44s\n",
            "Training done. Time Collapsed =  0.44s\n",
            "Training done. Time Collapsed =  0.44s\n",
            "Training done. Time Collapsed =  0.44s\n",
            "Training done. Time Collapsed =  0.44s\n",
            "Training done. Time Collapsed =  0.45s\n",
            "Training done. Time Collapsed =  0.45s\n",
            "Training done. Time Collapsed =  0.45s\n",
            "Training done. Time Collapsed =  0.45s\n",
            "Training done. Time Collapsed =  0.45s\n",
            "Training done. Time Collapsed =  0.45s\n",
            "Training done. Time Collapsed =  0.46s\n",
            "Training done. Time Collapsed =  0.46s\n",
            "Training done. Time Collapsed =  0.46s\n",
            "Training done. Time Collapsed =  0.46s\n",
            "Training done. Time Collapsed =  0.46s\n",
            "Training done. Time Collapsed =  0.47s\n",
            "Training done. Time Collapsed =  0.47s\n",
            "Training done. Time Collapsed =  0.47s\n",
            "Training done. Time Collapsed =  0.48s\n",
            "Training done. Time Collapsed =  0.48s\n",
            "Training done. Time Collapsed =  0.48s\n",
            "Training done. Time Collapsed =  0.48s\n",
            "Training done. Time Collapsed =  0.48s\n",
            "Training done. Time Collapsed =  0.48s\n",
            "Training done. Time Collapsed =  0.49s\n",
            "Training done. Time Collapsed =  0.49s\n",
            "Training done. Time Collapsed =  0.49s\n",
            "Training done. Time Collapsed =  0.49s\n",
            "Training done. Time Collapsed =  0.49s\n",
            "Training done. Time Collapsed =  0.49s\n",
            "Training done. Time Collapsed =  0.50s\n",
            "Training done. Time Collapsed =  0.50s\n",
            "Training done. Time Collapsed =  0.50s\n",
            "Training done. Time Collapsed =  0.50s\n",
            "Training done. Time Collapsed =  0.50s\n",
            "Training done. Time Collapsed =  0.51s\n",
            "Training done. Time Collapsed =  0.51s\n",
            "Training done. Time Collapsed =  0.51s\n",
            "Training done. Time Collapsed =  0.51s\n",
            "Training done. Time Collapsed =  0.51s\n",
            "Training done. Time Collapsed =  0.51s\n",
            "Training done. Time Collapsed =  0.52s\n",
            "Training done. Time Collapsed =  0.52s\n",
            "Training done. Time Collapsed =  0.52s\n",
            "Training done. Time Collapsed =  0.52s\n",
            "Training done. Time Collapsed =  0.52s\n",
            "Training done. Time Collapsed =  0.52s\n",
            "Training done. Time Collapsed =  0.53s\n",
            "Training done. Time Collapsed =  0.53s\n",
            "Training done. Time Collapsed =  0.53s\n",
            "Training done. Time Collapsed =  0.53s\n",
            "Training done. Time Collapsed =  0.53s\n",
            "Training done. Time Collapsed =  0.54s\n",
            "Training done. Time Collapsed =  0.54s\n",
            "Training done. Time Collapsed =  0.54s\n",
            "Training done. Time Collapsed =  0.54s\n",
            "Training done. Time Collapsed =  0.54s\n",
            "Training done. Time Collapsed =  0.54s\n",
            "Training done. Time Collapsed =  0.55s\n",
            "Training done. Time Collapsed =  0.55s\n",
            "Training done. Time Collapsed =  0.55s\n",
            "Training done. Time Collapsed =  0.55s\n",
            "Training done. Time Collapsed =  0.55s\n",
            "Training done. Time Collapsed =  0.55s\n",
            "Training done. Time Collapsed =  0.56s\n",
            "Training done. Time Collapsed =  0.56s\n",
            "Training done. Time Collapsed =  0.56s\n",
            "Training done. Time Collapsed =  0.56s\n",
            "Training done. Time Collapsed =  0.56s\n",
            "Training done. Time Collapsed =  0.57s\n",
            "Training done. Time Collapsed =  0.57s\n",
            "Training done. Time Collapsed =  0.57s\n",
            "Training done. Time Collapsed =  0.57s\n",
            "Training done. Time Collapsed =  0.57s\n",
            "Training done. Time Collapsed =  0.57s\n",
            "Training done. Time Collapsed =  0.58s\n",
            "Training done. Time Collapsed =  0.58s\n",
            "Training done. Time Collapsed =  0.58s\n",
            "Training done. Time Collapsed =  0.58s\n",
            "Training done. Time Collapsed =  0.58s\n",
            "Training done. Time Collapsed =  0.58s\n",
            "Training done. Time Collapsed =  0.59s\n",
            "Training done. Time Collapsed =  0.59s\n",
            "Training done. Time Collapsed =  0.59s\n",
            "Training done. Time Collapsed =  0.59s\n",
            "Training done. Time Collapsed =  0.59s\n",
            "Training done. Time Collapsed =  0.59s\n",
            "Training done. Time Collapsed =  0.60s\n",
            "Training done. Time Collapsed =  0.60s\n",
            "Training done. Time Collapsed =  0.60s\n",
            "Training done. Time Collapsed =  0.60s\n",
            "Training done. Time Collapsed =  0.60s\n",
            "Training done. Time Collapsed =  0.61s\n",
            "Training done. Time Collapsed =  0.61s\n",
            "Training done. Time Collapsed =  0.61s\n",
            "Training done. Time Collapsed =  0.61s\n",
            "Training done. Time Collapsed =  0.61s\n",
            "Training done. Time Collapsed =  0.61s\n",
            "Training done. Time Collapsed =  0.62s\n",
            "Training done. Time Collapsed =  0.62s\n",
            "Training done. Time Collapsed =  0.62s\n",
            "Training done. Time Collapsed =  0.63s\n",
            "Training done. Time Collapsed =  0.63s\n",
            "Training done. Time Collapsed =  0.63s\n",
            "Training done. Time Collapsed =  0.63s\n",
            "Training done. Time Collapsed =  0.63s\n",
            "Training done. Time Collapsed =  0.63s\n",
            "Training done. Time Collapsed =  0.64s\n",
            "Training done. Time Collapsed =  0.64s\n",
            "Training done. Time Collapsed =  0.64s\n",
            "Training done. Time Collapsed =  0.65s\n",
            "Training done. Time Collapsed =  0.65s\n",
            "Training done. Time Collapsed =  0.65s\n",
            "Training done. Time Collapsed =  0.65s\n",
            "Training done. Time Collapsed =  0.65s\n",
            "Training done. Time Collapsed =  0.65s\n",
            "Training done. Time Collapsed =  0.66s\n",
            "Training done. Time Collapsed =  0.66s\n",
            "Training done. Time Collapsed =  0.66s\n",
            "Training done. Time Collapsed =  0.66s\n",
            "Training done. Time Collapsed =  0.66s\n",
            "Training done. Time Collapsed =  0.66s\n",
            "Training done. Time Collapsed =  0.67s\n",
            "Training done. Time Collapsed =  0.67s\n",
            "Training done. Time Collapsed =  0.67s\n",
            "Training done. Time Collapsed =  0.67s\n",
            "Training done. Time Collapsed =  0.67s\n",
            "Training done. Time Collapsed =  0.68s\n",
            "Training done. Time Collapsed =  0.68s\n",
            "Training done. Time Collapsed =  0.68s\n",
            "Training done. Time Collapsed =  0.68s\n",
            "Training done. Time Collapsed =  0.68s\n",
            "Training done. Time Collapsed =  0.68s\n",
            "Training done. Time Collapsed =  0.69s\n",
            "Training done. Time Collapsed =  0.69s\n",
            "Training done. Time Collapsed =  0.69s\n",
            "Training done. Time Collapsed =  0.69s\n",
            "Training done. Time Collapsed =  0.69s\n",
            "Training done. Time Collapsed =  0.69s\n",
            "Training done. Time Collapsed =  0.70s\n",
            "Training done. Time Collapsed =  0.70s\n",
            "Training done. Time Collapsed =  0.70s\n",
            "Training done. Time Collapsed =  0.70s\n",
            "Training done. Time Collapsed =  0.70s\n",
            "Training done. Time Collapsed =  0.71s\n",
            "Training done. Time Collapsed =  0.71s\n",
            "Training done. Time Collapsed =  0.71s\n",
            "Training done. Time Collapsed =  0.71s\n",
            "Training done. Time Collapsed =  0.71s\n",
            "Training done. Time Collapsed =  0.71s\n",
            "Training done. Time Collapsed =  0.72s\n",
            "Training done. Time Collapsed =  0.72s\n",
            "Training done. Time Collapsed =  0.72s\n",
            "Training done. Time Collapsed =  0.72s\n",
            "Training done. Time Collapsed =  0.72s\n",
            "Training done. Time Collapsed =  0.72s\n",
            "Training done. Time Collapsed =  0.73s\n",
            "Training done. Time Collapsed =  0.73s\n",
            "Training done. Time Collapsed =  0.73s\n",
            "Training done. Time Collapsed =  0.73s\n",
            "Training done. Time Collapsed =  0.73s\n",
            "Training done. Time Collapsed =  0.73s\n",
            "Training done. Time Collapsed =  0.74s\n",
            "Training done. Time Collapsed =  0.74s\n",
            "Training done. Time Collapsed =  0.74s\n",
            "Training done. Time Collapsed =  0.74s\n",
            "Training done. Time Collapsed =  0.74s\n",
            "Training done. Time Collapsed =  0.75s\n",
            "Training done. Time Collapsed =  0.75s\n",
            "Training done. Time Collapsed =  0.75s\n",
            "Training done. Time Collapsed =  0.75s\n",
            "Training done. Time Collapsed =  0.75s\n",
            "Training done. Time Collapsed =  0.75s\n",
            "Training done. Time Collapsed =  0.76s\n",
            "Training done. Time Collapsed =  0.76s\n",
            "Training done. Time Collapsed =  0.76s\n",
            "Training done. Time Collapsed =  0.76s\n",
            "Training done. Time Collapsed =  0.76s\n",
            "Training done. Time Collapsed =  0.76s\n",
            "Training done. Time Collapsed =  0.77s\n",
            "Training done. Time Collapsed =  0.77s\n",
            "Training done. Time Collapsed =  0.77s\n",
            "Training done. Time Collapsed =  0.77s\n",
            "Training done. Time Collapsed =  0.77s\n",
            "Training done. Time Collapsed =  0.78s\n",
            "Training done. Time Collapsed =  0.78s\n",
            "Training done. Time Collapsed =  0.78s\n",
            "Training done. Time Collapsed =  0.78s\n",
            "Training done. Time Collapsed =  0.78s\n",
            "Training done. Time Collapsed =  0.78s\n",
            "Training done. Time Collapsed =  0.79s\n",
            "Training done. Time Collapsed =  0.79s\n",
            "Training done. Time Collapsed =  0.79s\n",
            "Training done. Time Collapsed =  0.79s\n",
            "Training done. Time Collapsed =  0.79s\n",
            "Training done. Time Collapsed =  0.79s\n",
            "Training done. Time Collapsed =  0.80s\n",
            "Training done. Time Collapsed =  0.80s\n",
            "Training done. Time Collapsed =  0.80s\n",
            "Training done. Time Collapsed =  0.80s\n",
            "Training done. Time Collapsed =  0.80s\n",
            "Training done. Time Collapsed =  0.81s\n",
            "Training done. Time Collapsed =  0.81s\n",
            "Training done. Time Collapsed =  0.81s\n",
            "Training done. Time Collapsed =  0.81s\n",
            "Training done. Time Collapsed =  0.82s\n",
            "Training done. Time Collapsed =  0.82s\n",
            "Training done. Time Collapsed =  0.82s\n",
            "Training done. Time Collapsed =  0.82s\n",
            "Training done. Time Collapsed =  0.83s\n",
            "Training done. Time Collapsed =  0.83s\n",
            "Training done. Time Collapsed =  0.83s\n",
            "Training done. Time Collapsed =  0.83s\n",
            "Training done. Time Collapsed =  0.84s\n",
            "Training done. Time Collapsed =  0.84s\n",
            "Training done. Time Collapsed =  0.84s\n",
            "Training done. Time Collapsed =  0.84s\n",
            "Training done. Time Collapsed =  0.84s\n",
            "Training done. Time Collapsed =  0.84s\n",
            "Training done. Time Collapsed =  0.85s\n",
            "Training done. Time Collapsed =  0.85s\n",
            "Training done. Time Collapsed =  0.85s\n",
            "Training done. Time Collapsed =  0.85s\n",
            "Training done. Time Collapsed =  0.85s\n",
            "Training done. Time Collapsed =  0.85s\n",
            "Training done. Time Collapsed =  0.86s\n",
            "Training done. Time Collapsed =  0.86s\n",
            "Training done. Time Collapsed =  0.86s\n",
            "Training done. Time Collapsed =  0.86s\n",
            "Training done. Time Collapsed =  0.86s\n",
            "Training done. Time Collapsed =  0.87s\n",
            "Training done. Time Collapsed =  0.87s\n",
            "Training done. Time Collapsed =  0.87s\n",
            "Training done. Time Collapsed =  0.87s\n",
            "Training done. Time Collapsed =  0.87s\n",
            "Training done. Time Collapsed =  0.87s\n",
            "Training done. Time Collapsed =  0.88s\n",
            "Training done. Time Collapsed =  0.88s\n",
            "Training done. Time Collapsed =  0.88s\n",
            "Training done. Time Collapsed =  0.88s\n",
            "Training done. Time Collapsed =  0.88s\n",
            "Training done. Time Collapsed =  0.88s\n",
            "Training done. Time Collapsed =  0.89s\n",
            "Training done. Time Collapsed =  0.89s\n",
            "Training done. Time Collapsed =  0.89s\n",
            "Training done. Time Collapsed =  0.89s\n",
            "Training done. Time Collapsed =  0.89s\n",
            "Training done. Time Collapsed =  0.89s\n",
            "Training done. Time Collapsed =  0.90s\n",
            "Training done. Time Collapsed =  0.90s\n",
            "Training done. Time Collapsed =  0.90s\n",
            "Training done. Time Collapsed =  0.90s\n",
            "Training done. Time Collapsed =  0.90s\n",
            "Training done. Time Collapsed =  0.91s\n",
            "Training done. Time Collapsed =  0.91s\n",
            "Training done. Time Collapsed =  0.91s\n",
            "Training done. Time Collapsed =  0.91s\n",
            "Training done. Time Collapsed =  0.91s\n",
            "Training done. Time Collapsed =  0.91s\n",
            "Training done. Time Collapsed =  0.92s\n",
            "Training done. Time Collapsed =  0.92s\n",
            "Training done. Time Collapsed =  0.92s\n",
            "Training done. Time Collapsed =  0.92s\n",
            "Training done. Time Collapsed =  0.92s\n",
            "Training done. Time Collapsed =  0.92s\n",
            "Training done. Time Collapsed =  0.93s\n",
            "Training done. Time Collapsed =  0.93s\n",
            "Training done. Time Collapsed =  0.93s\n",
            "Training done. Time Collapsed =  0.93s\n",
            "Training done. Time Collapsed =  0.93s\n",
            "Training done. Time Collapsed =  0.93s\n",
            "Training done. Time Collapsed =  0.94s\n",
            "Training done. Time Collapsed =  0.94s\n",
            "Training done. Time Collapsed =  0.94s\n",
            "Training done. Time Collapsed =  0.94s\n",
            "Training done. Time Collapsed =  0.94s\n",
            "Training done. Time Collapsed =  0.95s\n",
            "Training done. Time Collapsed =  0.95s\n",
            "Training done. Time Collapsed =  0.95s\n",
            "Training done. Time Collapsed =  0.95s\n",
            "Training done. Time Collapsed =  0.95s\n",
            "Training done. Time Collapsed =  0.95s\n",
            "Training done. Time Collapsed =  0.96s\n",
            "Training done. Time Collapsed =  0.96s\n",
            "Training done. Time Collapsed =  0.96s\n",
            "Training done. Time Collapsed =  0.96s\n",
            "Training done. Time Collapsed =  0.96s\n",
            "Training done. Time Collapsed =  0.96s\n",
            "Training done. Time Collapsed =  0.97s\n",
            "Training done. Time Collapsed =  0.97s\n",
            "Training done. Time Collapsed =  0.97s\n",
            "Training done. Time Collapsed =  0.97s\n",
            "Training done. Time Collapsed =  0.97s\n",
            "Training done. Time Collapsed =  0.98s\n",
            "Training done. Time Collapsed =  0.98s\n",
            "Training done. Time Collapsed =  0.98s\n",
            "Training done. Time Collapsed =  0.98s\n",
            "Training done. Time Collapsed =  0.98s\n",
            "Training done. Time Collapsed =  0.98s\n",
            "Training done. Time Collapsed =  0.99s\n",
            "Training done. Time Collapsed =  0.99s\n",
            "Training done. Time Collapsed =  0.99s\n",
            "Training done. Time Collapsed =  0.99s\n",
            "Training done. Time Collapsed =  0.99s\n",
            "Training done. Time Collapsed =  0.99s\n",
            "Training done. Time Collapsed =  1.00s\n",
            "Training done. Time Collapsed =  1.00s\n",
            "Training done. Time Collapsed =  1.00s\n",
            "Training done. Time Collapsed =  1.00s\n",
            "Training done. Time Collapsed =  1.00s\n",
            "Training done. Time Collapsed =  1.00s\n",
            "Training done. Time Collapsed =  1.01s\n",
            "Training done. Time Collapsed =  1.01s\n",
            "Training done. Time Collapsed =  1.01s\n",
            "Training done. Time Collapsed =  1.01s\n",
            "Training done. Time Collapsed =  1.01s\n",
            "Training done. Time Collapsed =  1.02s\n",
            "Training done. Time Collapsed =  1.02s\n",
            "Training done. Time Collapsed =  1.02s\n",
            "Training done. Time Collapsed =  1.02s\n",
            "Training done. Time Collapsed =  1.02s\n",
            "Training done. Time Collapsed =  1.02s\n",
            "Training done. Time Collapsed =  1.03s\n",
            "Training done. Time Collapsed =  1.03s\n",
            "Training done. Time Collapsed =  1.03s\n",
            "Training done. Time Collapsed =  1.04s\n",
            "Training done. Time Collapsed =  1.04s\n",
            "Training done. Time Collapsed =  1.04s\n",
            "Training done. Time Collapsed =  1.04s\n",
            "Training done. Time Collapsed =  1.04s\n",
            "Training done. Time Collapsed =  1.04s\n",
            "Training done. Time Collapsed =  1.05s\n",
            "Training done. Time Collapsed =  1.05s\n",
            "Training done. Time Collapsed =  1.05s\n",
            "Training done. Time Collapsed =  1.05s\n",
            "Training done. Time Collapsed =  1.05s\n",
            "Training done. Time Collapsed =  1.05s\n",
            "Training done. Time Collapsed =  1.06s\n",
            "Training done. Time Collapsed =  1.06s\n",
            "Training done. Time Collapsed =  1.06s\n",
            "Training done. Time Collapsed =  1.06s\n",
            "Training done. Time Collapsed =  1.06s\n",
            "Training done. Time Collapsed =  1.07s\n",
            "Training done. Time Collapsed =  1.07s\n",
            "Training done. Time Collapsed =  1.07s\n",
            "Training done. Time Collapsed =  1.07s\n",
            "Training done. Time Collapsed =  1.07s\n",
            "Training done. Time Collapsed =  1.07s\n",
            "Training done. Time Collapsed =  1.08s\n",
            "Training done. Time Collapsed =  1.08s\n",
            "Training done. Time Collapsed =  1.08s\n",
            "Training done. Time Collapsed =  1.08s\n",
            "Training done. Time Collapsed =  1.08s\n",
            "Training done. Time Collapsed =  1.08s\n",
            "Training done. Time Collapsed =  1.09s\n",
            "Training done. Time Collapsed =  1.09s\n",
            "Training done. Time Collapsed =  1.09s\n",
            "Training done. Time Collapsed =  1.09s\n",
            "Training done. Time Collapsed =  1.09s\n",
            "Training done. Time Collapsed =  1.10s\n",
            "Training done. Time Collapsed =  1.10s\n",
            "Training done. Time Collapsed =  1.10s\n",
            "Training done. Time Collapsed =  1.10s\n",
            "Training done. Time Collapsed =  1.10s\n",
            "Training done. Time Collapsed =  1.11s\n",
            "Training done. Time Collapsed =  1.11s\n",
            "Training done. Time Collapsed =  1.11s\n",
            "Training done. Time Collapsed =  1.11s\n",
            "Training done. Time Collapsed =  1.11s\n",
            "Training done. Time Collapsed =  1.12s\n",
            "Training done. Time Collapsed =  1.12s\n",
            "Training done. Time Collapsed =  1.12s\n",
            "Training done. Time Collapsed =  1.12s\n",
            "Training done. Time Collapsed =  1.12s\n",
            "Training done. Time Collapsed =  1.12s\n",
            "Training done. Time Collapsed =  1.13s\n",
            "Training done. Time Collapsed =  1.13s\n",
            "Training done. Time Collapsed =  1.13s\n"
          ],
          "name": "stdout"
        }
      ]
    },
    {
      "cell_type": "code",
      "metadata": {
        "id": "PJILw7xAkX1g",
        "colab_type": "code",
        "outputId": "7381ca2c-9169-4e27-e785-af3c659d8c3c",
        "colab": {
          "base_uri": "https://localhost:8080/",
          "height": 292
        }
      },
      "source": [
        "%matplotlib inline\n",
        "%config InlineBackend.figure_format = 'retina'\n",
        "plt.plot(train_loss_list, label='Training loss')\n",
        "# plt.plot(test_loss_list, label='Validation loss')\n",
        "plt.legend(frameon=False)"
      ],
      "execution_count": 0,
      "outputs": [
        {
          "output_type": "execute_result",
          "data": {
            "text/plain": [
              "<matplotlib.legend.Legend at 0x7f3c7b567668>"
            ]
          },
          "metadata": {
            "tags": []
          },
          "execution_count": 93
        },
        {
          "output_type": "display_data",
          "data": {
            "image/png": "[encoded data removed]",
            "text/plain": [
              "<Figure size 432x288 with 1 Axes>"
            ]
          },
          "metadata": {
            "tags": [],
            "image/png": {
              "width": 378,
              "height": 258
            }
          }
        }
      ]
    },
    {
      "cell_type": "code",
      "metadata": {
        "id": "CujEd28wk334",
        "colab_type": "code",
        "outputId": "49e47936-a9db-4e5c-aca8-5062447b1371",
        "colab": {
          "base_uri": "https://localhost:8080/",
          "height": 311
        }
      },
      "source": [
        "with torch.no_grad():\n",
        "  enc.eval()\n",
        "  enc.to(device)\n",
        "  time_embedding = time.time()\n",
        "  \n",
        "  z = enc(X)    \n",
        "  # std = torch.exp( z_var/2 ).cuda()\n",
        "  # eps = torch.ones(std.shape).cuda()\n",
        "  # z_sample = eps.mul(std).add_(z_mu)\n",
        "  z = z.cpu()\n",
        "  for i in range(len(X)):\n",
        "    plt.scatter(z[i][0], z[i][1], c=colors[int(labels[i][0].item())])\n",
        "  print(f'done time elapsed = {time.time()-time_embedding:.2f}s')\n",
        "  plt.xlabel('Latent space dimension 0')\n",
        "  plt.ylabel('Latent space dimension 1')\n",
        "  plt.title('Encoding Visualized wrt ground truth labels')\n",
        "  plt.show()"
      ],
      "execution_count": 0,
      "outputs": [
        {
          "output_type": "stream",
          "text": [
            "done time elapsed = 63.44s\n"
          ],
          "name": "stdout"
        },
        {
          "output_type": "display_data",
          "data": {
            "image/png": "[encoded data removed]",
            "text/plain": [
              "<Figure size 432x288 with 1 Axes>"
            ]
          },
          "metadata": {
            "tags": [],
            "image/png": {
              "width": 414,
              "height": 277
            }
          }
        }
      ]
    },
    {
      "cell_type": "code",
      "metadata": {
        "id": "GUZB_BDZlWe0",
        "colab_type": "code",
        "outputId": "16fbfb1e-8f91-4488-f14f-3c57c2cbafc3",
        "colab": {
          "base_uri": "https://localhost:8080/",
          "height": 34
        }
      },
      "source": [
        "y_pred = torch.argmax(z.type(torch.LongTensor), dim = 1)\n",
        "a = 1 - y_pred.type(torch.ByteTensor).cpu()\n",
        "labels = labels.cpu()\n",
        "accuracy = torch.mean((y_pred==labels).type(torch.FloatTensor))\n",
        "print(f'accuracy = {(accuracy/len(X)*100):.3f}%')"
      ],
      "execution_count": 0,
      "outputs": [
        {
          "output_type": "stream",
          "text": [
            "accuracy = 0.005%\n"
          ],
          "name": "stdout"
        }
      ]
    },
    {
      "cell_type": "code",
      "metadata": {
        "id": "zRKi5iEfoQ0o",
        "colab_type": "code",
        "outputId": "9e291bd7-f4ae-4f48-9d05-a0ea85b89c15",
        "colab": {
          "base_uri": "https://localhost:8080/",
          "height": 34
        }
      },
      "source": [
        "1/torch.mean(a.type(torch.FloatTensor))"
      ],
      "execution_count": 0,
      "outputs": [
        {
          "output_type": "execute_result",
          "data": {
            "text/plain": [
              "tensor(10002.)"
            ]
          },
          "metadata": {
            "tags": []
          },
          "execution_count": 36
        }
      ]
    },
    {
      "cell_type": "code",
      "metadata": {
        "id": "dmwwBFVF4c0x",
        "colab_type": "code",
        "outputId": "53555a86-94e7-4fba-d56f-86a7253bf1ad",
        "colab": {
          "base_uri": "https://localhost:8080/",
          "height": 34
        }
      },
      "source": [
        "torch.mean(y_pred.type(torch.FloatTensor))"
      ],
      "execution_count": 0,
      "outputs": [
        {
          "output_type": "execute_result",
          "data": {
            "text/plain": [
              "tensor(0.9999)"
            ]
          },
          "metadata": {
            "tags": []
          },
          "execution_count": 34
        }
      ]
    },
    {
      "cell_type": "code",
      "metadata": {
        "id": "sPCZaR71oD30",
        "colab_type": "code",
        "outputId": "88e892c3-00d6-4517-f172-a8d59c39775c",
        "colab": {
          "base_uri": "https://localhost:8080/",
          "height": 311
        }
      },
      "source": [
        "with torch.no_grad():\n",
        "  # enc.eval()\n",
        "  # enc.to(device)\n",
        "  time_embedding = time.time()\n",
        "\n",
        "  # z = enc(X)    \n",
        "  # std = torch.exp( z_var/2 ).cuda()\n",
        "  # eps = torch.ones(std.shape).cuda()\n",
        "  # z_sample = eps.mul(std).add_(z_mu)\n",
        "  for i in range(len(X)):\n",
        "    plt.scatter(z[i][0], z[i][1], c=colors[int(y_pred[i].item())])\n",
        "  print(f'done time elapsed = {time.time()-time_embedding:.2f}s')\n",
        "  plt.xlabel('Latent space dimension 0')\n",
        "  plt.ylabel('Latent space dimension 1')\n",
        "  plt.title('Encoding Visualized wrt directly predicted outputs')\n",
        "  plt.show()"
      ],
      "execution_count": 0,
      "outputs": [
        {
          "output_type": "stream",
          "text": [
            "done time elapsed = 61.51s\n"
          ],
          "name": "stdout"
        },
        {
          "output_type": "display_data",
          "data": {
            "image/png": "[encoded data removed]",
            "text/plain": [
              "<Figure size 432x288 with 1 Axes>"
            ]
          },
          "metadata": {
            "tags": [],
            "image/png": {
              "width": 414,
              "height": 277
            }
          }
        }
      ]
    },
    {
      "cell_type": "code",
      "metadata": {
        "id": "AqNVuC0R4bEa",
        "colab_type": "code",
        "outputId": "7ea5d0f6-ad24-4f53-e57e-4d53f0f367a3",
        "colab": {
          "base_uri": "https://localhost:8080/",
          "height": 34
        }
      },
      "source": [
        "z.shape"
      ],
      "execution_count": 0,
      "outputs": [
        {
          "output_type": "execute_result",
          "data": {
            "text/plain": [
              "torch.Size([10002, 2])"
            ]
          },
          "metadata": {
            "tags": []
          },
          "execution_count": 37
        }
      ]
    },
    {
      "cell_type": "code",
      "metadata": {
        "id": "laVnANzpoghv",
        "colab_type": "code",
        "outputId": "1e675e5c-a45b-44ee-ad14-c21223e5e52a",
        "colab": {
          "base_uri": "https://localhost:8080/",
          "height": 311
        }
      },
      "source": [
        "kmeans_auto =  KMeans(n_clusters = 2, random_state = 42)\n",
        "km = kmeans_auto.fit(z)\n",
        "kmeans_pred_label = km.labels_\n",
        "with torch.no_grad():\n",
        "  # enc.eval()\n",
        "  # enc.to(device)\n",
        "  time_embedding = time.time()\n",
        "\n",
        "  # z = enc(X)    \n",
        "  # std = torch.exp( z_var/2 ).cuda()\n",
        "  # eps = torch.ones(std.shape).cuda()\n",
        "  # z_sample = eps.mul(std).add_(z_mu)\n",
        "  for i in range(len(X)):\n",
        "    plt.scatter(z[i][0], z[i][1], c=colors[int(kmeans_pred_label[i].item())])\n",
        "  print(f'done time elapsed = {time.time()-time_embedding:.2f}s')\n",
        "  plt.xlabel('Latent space dimension 0')\n",
        "  plt.ylabel('Latent space dimension 1')\n",
        "  plt.title('Encoding Visualized wrt kmeans predicted outputs')\n",
        "  plt.show()"
      ],
      "execution_count": 0,
      "outputs": [
        {
          "output_type": "stream",
          "text": [
            "done time elapsed = 60.27s\n"
          ],
          "name": "stdout"
        },
        {
          "output_type": "display_data",
          "data": {
            "image/png": "[encoded data removed]",
            "text/plain": [
              "<Figure size 432x288 with 1 Axes>"
            ]
          },
          "metadata": {
            "tags": [],
            "image/png": {
              "width": 414,
              "height": 277
            }
          }
        }
      ]
    },
    {
      "cell_type": "code",
      "metadata": {
        "id": "Vr-7U1a05xQX",
        "colab_type": "code",
        "outputId": "2dd82361-ea14-4703-d6d3-6c631b66e16b",
        "colab": {
          "base_uri": "https://localhost:8080/",
          "height": 34
        }
      },
      "source": [
        "train_accuracy = torch.mean((torch.from_numpy(kmeans_pred_label).view(10002) == labels.view(10002)).type(torch.FloatTensor)).item()\n",
        "print(f'KMeans Accuracy on Encoding by Autoencoder = {train_accuracy*100:.2f}%')"
      ],
      "execution_count": 0,
      "outputs": [
        {
          "output_type": "stream",
          "text": [
            "KMeans Accuracy on Encoding by Autoencoder = 17.44%\n"
          ],
          "name": "stdout"
        }
      ]
    },
    {
      "cell_type": "code",
      "metadata": {
        "id": "-QMIeYza6iM-",
        "colab_type": "code",
        "outputId": "5202f424-9b3e-4869-af0d-595e6e6c7c8d",
        "colab": {
          "base_uri": "https://localhost:8080/",
          "height": 34
        }
      },
      "source": [
        "np.mean((kmeans_pred_label==np.ones(kmeans_pred_label.shape)).astype('float32'))"
      ],
      "execution_count": 0,
      "outputs": [
        {
          "output_type": "execute_result",
          "data": {
            "text/plain": [
              "0.5"
            ]
          },
          "metadata": {
            "tags": []
          },
          "execution_count": 44
        }
      ]
    },
    {
      "cell_type": "code",
      "metadata": {
        "id": "ugVAIbty8JjQ",
        "colab_type": "code",
        "outputId": "882a208d-2e74-423b-d3d2-4a15d1e7af41",
        "colab": {
          "base_uri": "https://localhost:8080/",
          "height": 34
        }
      },
      "source": [
        "kmeans_pred_label.shape"
      ],
      "execution_count": 0,
      "outputs": [
        {
          "output_type": "execute_result",
          "data": {
            "text/plain": [
              "(10002,)"
            ]
          },
          "metadata": {
            "tags": []
          },
          "execution_count": 42
        }
      ]
    },
    {
      "cell_type": "code",
      "metadata": {
        "id": "D26n7v9b8Sej",
        "colab_type": "code",
        "outputId": "9d0f900e-c3ab-452f-fcbe-52d93cae2c62",
        "colab": {
          "base_uri": "https://localhost:8080/",
          "height": 34
        }
      },
      "source": [
        "wrong_pred_list = []\n",
        "for i in range(len(kmeans_pred_label)):\n",
        "  if(kmeans_pred_label[i].item() != labels[i].item()): \n",
        "    wrong_pred_list.append(i)\n",
        "    print(i)\n",
        "print(len(wrong_pred_list))"
      ],
      "execution_count": 0,
      "outputs": [
        {
          "output_type": "stream",
          "text": [
            "10002\n"
          ],
          "name": "stdout"
        }
      ]
    },
    {
      "cell_type": "code",
      "metadata": {
        "id": "3xTP6Cla9O-0",
        "colab_type": "code",
        "outputId": "7d1b3401-18cd-444a-818a-80132e1fa946",
        "colab": {
          "base_uri": "https://localhost:8080/",
          "height": 34
        }
      },
      "source": [
        "torch.sum((torch.from_numpy(kmeans_pred_label) == labels).type(torch.FloatTensor)).item()"
      ],
      "execution_count": 0,
      "outputs": [
        {
          "output_type": "execute_result",
          "data": {
            "text/plain": [
              "50020000.0"
            ]
          },
          "metadata": {
            "tags": []
          },
          "execution_count": 49
        }
      ]
    },
    {
      "cell_type": "code",
      "metadata": {
        "id": "va9oqvvT-buF",
        "colab_type": "code",
        "colab": {}
      },
      "source": [
        "zz = (torch.from_numpy(kmeans_pred_label).view(10002) == labels.view(10002))"
      ],
      "execution_count": 0,
      "outputs": []
    },
    {
      "cell_type": "code",
      "metadata": {
        "id": "hyPXuvVgBJuY",
        "colab_type": "code",
        "outputId": "878e7cca-cc98-4727-a9e7-1324f57f1793",
        "colab": {
          "base_uri": "https://localhost:8080/",
          "height": 34
        }
      },
      "source": [
        "kmeans_pred_label.shape"
      ],
      "execution_count": 0,
      "outputs": [
        {
          "output_type": "execute_result",
          "data": {
            "text/plain": [
              "(10002,)"
            ]
          },
          "metadata": {
            "tags": []
          },
          "execution_count": 67
        }
      ]
    },
    {
      "cell_type": "code",
      "metadata": {
        "id": "wMDz1dmoBNkn",
        "colab_type": "code",
        "colab": {}
      },
      "source": [
        ""
      ],
      "execution_count": 0,
      "outputs": []
    },
    {
      "cell_type": "code",
      "metadata": {
        "id": "aRuXaEFdA_25",
        "colab_type": "code",
        "outputId": "469ba261-20b0-4a85-cf7f-a91ac2b680b3",
        "colab": {
          "base_uri": "https://localhost:8080/",
          "height": 34
        }
      },
      "source": [
        "torch.mean(zz.type(torch.FloatTensor))"
      ],
      "execution_count": 0,
      "outputs": [
        {
          "output_type": "execute_result",
          "data": {
            "text/plain": [
              "tensor(1.)"
            ]
          },
          "metadata": {
            "tags": []
          },
          "execution_count": 66
        }
      ]
    },
    {
      "cell_type": "code",
      "metadata": {
        "id": "sf4fhoRB-mnb",
        "colab_type": "code",
        "outputId": "7f73f5aa-35e0-4ef2-dbf6-454647912422",
        "colab": {
          "base_uri": "https://localhost:8080/",
          "height": 231
        }
      },
      "source": [
        "wrong_pred_list = []\n",
        "for i,j in enumerate(zz):\n",
        "  if (not j and (kmeans_pred_labels[i].item() != labels[i].item())):\n",
        "    wrong_pred_list.append(i)\n",
        "print(len(wrong_pred_list))"
      ],
      "execution_count": 0,
      "outputs": [
        {
          "output_type": "error",
          "ename": "RuntimeError",
          "evalue": "ignored",
          "traceback": [
            "\u001b[0;31m---------------------------------------------------------------------------\u001b[0m",
            "\u001b[0;31mRuntimeError\u001b[0m                              Traceback (most recent call last)",
            "\u001b[0;32m<ipython-input-57-d96974c8631a>\u001b[0m in \u001b[0;36m<module>\u001b[0;34m()\u001b[0m\n\u001b[1;32m      1\u001b[0m \u001b[0mwrong_pred_list\u001b[0m \u001b[0;34m=\u001b[0m \u001b[0;34m[\u001b[0m\u001b[0;34m]\u001b[0m\u001b[0;34m\u001b[0m\u001b[0;34m\u001b[0m\u001b[0m\n\u001b[1;32m      2\u001b[0m \u001b[0;32mfor\u001b[0m \u001b[0mi\u001b[0m\u001b[0;34m,\u001b[0m\u001b[0mj\u001b[0m \u001b[0;32min\u001b[0m \u001b[0menumerate\u001b[0m\u001b[0;34m(\u001b[0m\u001b[0mzz\u001b[0m\u001b[0;34m)\u001b[0m\u001b[0;34m:\u001b[0m\u001b[0;34m\u001b[0m\u001b[0;34m\u001b[0m\u001b[0m\n\u001b[0;32m----> 3\u001b[0;31m   \u001b[0;32mif\u001b[0m \u001b[0;34m(\u001b[0m\u001b[0;32mnot\u001b[0m \u001b[0mj\u001b[0m \u001b[0;32mand\u001b[0m \u001b[0;34m(\u001b[0m\u001b[0mkmeans_pred_labels\u001b[0m\u001b[0;34m[\u001b[0m\u001b[0mi\u001b[0m\u001b[0;34m]\u001b[0m\u001b[0;34m.\u001b[0m\u001b[0mitem\u001b[0m\u001b[0;34m(\u001b[0m\u001b[0;34m)\u001b[0m \u001b[0;34m!=\u001b[0m \u001b[0mlabels\u001b[0m\u001b[0;34m[\u001b[0m\u001b[0mi\u001b[0m\u001b[0;34m]\u001b[0m\u001b[0;34m.\u001b[0m\u001b[0mitem\u001b[0m\u001b[0;34m(\u001b[0m\u001b[0;34m)\u001b[0m\u001b[0;34m)\u001b[0m\u001b[0;34m)\u001b[0m\u001b[0;34m:\u001b[0m\u001b[0;34m\u001b[0m\u001b[0;34m\u001b[0m\u001b[0m\n\u001b[0m\u001b[1;32m      4\u001b[0m     \u001b[0mwrong_pred_list\u001b[0m\u001b[0;34m.\u001b[0m\u001b[0mappend\u001b[0m\u001b[0;34m(\u001b[0m\u001b[0mi\u001b[0m\u001b[0;34m)\u001b[0m\u001b[0;34m\u001b[0m\u001b[0;34m\u001b[0m\u001b[0m\n\u001b[1;32m      5\u001b[0m \u001b[0mprint\u001b[0m\u001b[0;34m(\u001b[0m\u001b[0mlen\u001b[0m\u001b[0;34m(\u001b[0m\u001b[0mwrong_pred_list\u001b[0m\u001b[0;34m)\u001b[0m\u001b[0;34m)\u001b[0m\u001b[0;34m\u001b[0m\u001b[0;34m\u001b[0m\u001b[0m\n",
            "\u001b[0;31mRuntimeError\u001b[0m: bool value of Tensor with more than one value is ambiguous"
          ]
        }
      ]
    },
    {
      "cell_type": "code",
      "metadata": {
        "id": "6uRqTRY_ArY4",
        "colab_type": "code",
        "outputId": "56a9f099-77b3-4d36-fb9c-84e0b638588c",
        "colab": {
          "base_uri": "https://localhost:8080/",
          "height": 34
        }
      },
      "source": [
        "zz.shape"
      ],
      "execution_count": 0,
      "outputs": [
        {
          "output_type": "execute_result",
          "data": {
            "text/plain": [
              "torch.Size([10002])"
            ]
          },
          "metadata": {
            "tags": []
          },
          "execution_count": 64
        }
      ]
    },
    {
      "cell_type": "code",
      "metadata": {
        "id": "9tptYy0aAT-G",
        "colab_type": "code",
        "outputId": "edc7ca9f-f597-4ac1-aba4-42e77a36fd97",
        "colab": {
          "base_uri": "https://localhost:8080/",
          "height": 136
        }
      },
      "source": [
        "for i,j in enumerate(zz):\n",
        "  print(j)\n",
        "  if i >5:\n",
        "    break\n"
      ],
      "execution_count": 0,
      "outputs": [
        {
          "output_type": "stream",
          "text": [
            "tensor([ True,  True, False,  ...,  True, False,  True])\n",
            "tensor([ True,  True, False,  ...,  True, False,  True])\n",
            "tensor([False, False,  True,  ..., False,  True, False])\n",
            "tensor([ True,  True, False,  ...,  True, False,  True])\n",
            "tensor([False, False,  True,  ..., False,  True, False])\n",
            "tensor([False, False,  True,  ..., False,  True, False])\n",
            "tensor([ True,  True, False,  ...,  True, False,  True])\n"
          ],
          "name": "stdout"
        }
      ]
    },
    {
      "cell_type": "code",
      "metadata": {
        "id": "jN4KlCLy-tsT",
        "colab_type": "code",
        "outputId": "9145df61-bda1-4dcd-9687-e5e7dc8e4a97",
        "colab": {
          "base_uri": "https://localhost:8080/",
          "height": 34
        }
      },
      "source": [
        "a = torch.randint(low = 0, high = 2, size = (10002,))\n",
        "b = a.numpy()\n",
        "c = ((torch.from_numpy(b) == a).type(torch.FloatTensor))\n",
        "print(c)"
      ],
      "execution_count": 0,
      "outputs": [
        {
          "output_type": "stream",
          "text": [
            "tensor([1., 1., 1.,  ..., 1., 1., 1.])\n"
          ],
          "name": "stdout"
        }
      ]
    },
    {
      "cell_type": "code",
      "metadata": {
        "id": "UNDr0eH1_bye",
        "colab_type": "code",
        "outputId": "cc9477bd-90cf-424e-a787-547ab75d49bd",
        "colab": {
          "base_uri": "https://localhost:8080/",
          "height": 34
        }
      },
      "source": [
        "c.shape"
      ],
      "execution_count": 0,
      "outputs": [
        {
          "output_type": "execute_result",
          "data": {
            "text/plain": [
              "torch.Size([10002])"
            ]
          },
          "metadata": {
            "tags": []
          },
          "execution_count": 62
        }
      ]
    },
    {
      "cell_type": "code",
      "metadata": {
        "id": "DqW3OoReAwfS",
        "colab_type": "code",
        "outputId": "20abef31-061a-4aec-ffb2-5a886cb61784",
        "colab": {
          "base_uri": "https://localhost:8080/",
          "height": 34
        }
      },
      "source": [
        "nn.Flatten()(labels).shape"
      ],
      "execution_count": 0,
      "outputs": [
        {
          "output_type": "execute_result",
          "data": {
            "text/plain": [
              "torch.Size([10002, 1])"
            ]
          },
          "metadata": {
            "tags": []
          },
          "execution_count": 102
        }
      ]
    },
    {
      "cell_type": "markdown",
      "metadata": {
        "id": "EOrQHkUYT71O",
        "colab_type": "text"
      },
      "source": [
        "## VAE"
      ]
    },
    {
      "cell_type": "code",
      "metadata": {
        "id": "9CStULKqT9uZ",
        "colab_type": "code",
        "colab": {}
      },
      "source": [
        "class encoder_v(nn.Module):\n",
        "  def __init__(self):\n",
        "    super().__init__()\n",
        "    self.mu = nn.Sequential(nn.Linear(39, 500),nn.ReLU(),\n",
        "                            nn.Linear(500, 500), nn.ReLU(),\n",
        "                             nn.Linear(500, 2000), nn.ReLU(),\n",
        "                            nn.Linear(2000,2),nn.ReLU())\n",
        "    self.var = nn.Sequential(nn.Linear(39, 500), nn.ReLU(),\n",
        "                            nn.Linear(500, 500), nn.ReLU(),\n",
        "                             nn.Linear(500, 2000), nn.ReLU(),\n",
        "                            nn.Linear(2000,2),nn.ReLU())\n",
        "  def forward(self, X):\n",
        "    z_mu = self.mu(X)\n",
        "    z_var = self.var(X)\n",
        "    return z_mu, z_var"
      ],
      "execution_count": 0,
      "outputs": []
    },
    {
      "cell_type": "code",
      "metadata": {
        "id": "Ud76pVHxUE_O",
        "colab_type": "code",
        "colab": {}
      },
      "source": [
        "class decoder_v(nn.Module):\n",
        "  def __init__(self):\n",
        "    super().__init__()\n",
        "    self.fc2 = nn.Sequential(nn.Linear(2,2000),nn.ReLU(),\n",
        "                             nn.Linear(2000, 500), nn.ReLU(),\n",
        "                             nn.Linear(500, 500), nn.ReLU(),\n",
        "                             nn.Linear(500, 39), nn.ReLU())                            \n",
        "  def forward(self, X):\n",
        "    X = self.fc2(X)\n",
        "    return X"
      ],
      "execution_count": 0,
      "outputs": []
    },
    {
      "cell_type": "code",
      "metadata": {
        "id": "AGfaRbXuUeUp",
        "colab_type": "code",
        "colab": {}
      },
      "source": [
        "class VAutoencoder(nn.Module):\n",
        "  def __init__(self, enc, dec):\n",
        "    super().__init__()\n",
        "    self.enc = enc\n",
        "    self.dec = dec\n",
        "  def forward(self, X):\n",
        "    z_mu, z_var = self.enc(X)\n",
        "    std = torch.exp( z_var/2 )\n",
        "    eps = torch.randn_like(std)\n",
        "    z_sample = eps.mul(std).add_(z_mu)\n",
        "    X_predic = self.dec(z_sample)\n",
        "    return X_predic, z_mu, z_var"
      ],
      "execution_count": 0,
      "outputs": []
    },
    {
      "cell_type": "code",
      "metadata": {
        "id": "z_wme-KqVFRO",
        "colab_type": "code",
        "colab": {}
      },
      "source": [
        "enc_v = encoder_v()\n",
        "dec_v = decoder_v()\n",
        "device = torch.device(\"cuda\" if torch.cuda.is_available() else \"cpu\")\n",
        "vautoencoder = VAutoencoder(enc_v, dec_v).to(device)\n",
        "optimizer = torch.optim.Adam(vautoencoder.parameters(), lr = 0.001)\n",
        "criterion = nn.MSELoss()"
      ],
      "execution_count": 0,
      "outputs": []
    },
    {
      "cell_type": "code",
      "metadata": {
        "id": "HeoUbnBoVw1V",
        "colab_type": "code",
        "colab": {}
      },
      "source": [
        "sensitivity = 100\n",
        "X = np.load(os.path.join(synthetic_path, f'X_sparsity_1_variance_{1/sensitivity:.2f}.npy'))\n",
        "X = torch.Tensor(X)\n",
        "X= X.to(device)"
      ],
      "execution_count": 0,
      "outputs": []
    },
    {
      "cell_type": "code",
      "metadata": {
        "id": "Z9JeoNAYVdUt",
        "colab_type": "code",
        "colab": {}
      },
      "source": [
        "def train():\n",
        "  \n",
        "  vautoencoder.train()\n",
        "  train_loss = 0\n",
        "  \n",
        "\n",
        "  optimizer.zero_grad()\n",
        "\n",
        "  X_pred, z_mu, z_var = vautoencoder(X)\n",
        "\n",
        "  recon_loss = criterion(X_pred, X)\n",
        "  kl_loss = 0.5*( torch.sum( torch.exp(z_var) + z_mu**2 - 1.0 + z_var ) ) \n",
        "  loss = recon_loss + kl_loss\n",
        "\n",
        "  loss.backward()\n",
        "  train_loss += loss.item()\n",
        "  \n",
        "  optimizer.step()\n",
        "  return train_loss"
      ],
      "execution_count": 0,
      "outputs": []
    },
    {
      "cell_type": "code",
      "metadata": {
        "id": "qLEP_jveVg9N",
        "colab_type": "code",
        "colab": {}
      },
      "source": [
        "# def test():\n",
        "#   vautoencoder.eval()\n",
        "#   test_loss = 0\n",
        "\n",
        "#   with torch.no_grad():\n",
        "\n",
        "#     X_ped, z_mu, z_var = vautoencoder(images)\n",
        "\n",
        "#     recon_loss = criterion(X, images)\n",
        "#     kl_loss = 0.5*torch.sum(torch.exp(z_var)+ z_mu**2 - 1 + z_var)\n",
        "#     loss = recon_loss + kl_loss\n",
        "\n",
        "#     test_loss += loss.item()      \n",
        "#   return test_loss"
      ],
      "execution_count": 0,
      "outputs": []
    },
    {
      "cell_type": "code",
      "metadata": {
        "id": "GZ__1KNEWIFN",
        "colab_type": "code",
        "colab": {}
      },
      "source": [
        "epochs = 30"
      ],
      "execution_count": 0,
      "outputs": []
    },
    {
      "cell_type": "code",
      "metadata": {
        "id": "QrTU1UgIVjT9",
        "colab_type": "code",
        "outputId": "4f9e77c0-f487-4224-f66d-18a4a337dd7d",
        "colab": {
          "base_uri": "https://localhost:8080/",
          "height": 1000
        }
      },
      "source": [
        "train_loss_list = []\n",
        "test_loss_list = []\n",
        "time_start = time.time()\n",
        "for e in range(epochs):\n",
        "  print(f'{e+1}th epoch...')\n",
        "  print(f'Training...')\n",
        "  train_loss = train()\n",
        "  train_loss /= len(X)\n",
        "  print(f'Training done. Time Collapsed = {time.time() - time_start: .2f}s')\n",
        "  # print(f'Testing..')\n",
        "  # test_loss = test()\n",
        "  # test_loss /= len(val_data)\n",
        "  # print(f'Testing done. Time Collapsed = {time.time() - time_start: .2f}s')\n",
        "  train_loss_list.append(train_loss)\n",
        "  # test_loss_list.append(test_loss)"
      ],
      "execution_count": 0,
      "outputs": [
        {
          "output_type": "stream",
          "text": [
            "1th epoch...\n",
            "Training...\n",
            "Training done. Time Collapsed =  0.20s\n",
            "2th epoch...\n",
            "Training...\n",
            "Training done. Time Collapsed =  0.37s\n",
            "3th epoch...\n",
            "Training...\n",
            "Training done. Time Collapsed =  0.54s\n",
            "4th epoch...\n",
            "Training...\n",
            "Training done. Time Collapsed =  0.69s\n",
            "5th epoch...\n",
            "Training...\n",
            "Training done. Time Collapsed =  0.84s\n",
            "6th epoch...\n",
            "Training...\n",
            "Training done. Time Collapsed =  0.99s\n",
            "7th epoch...\n",
            "Training...\n",
            "Training done. Time Collapsed =  1.14s\n",
            "8th epoch...\n",
            "Training...\n",
            "Training done. Time Collapsed =  1.30s\n",
            "9th epoch...\n",
            "Training...\n",
            "Training done. Time Collapsed =  1.44s\n",
            "10th epoch...\n",
            "Training...\n",
            "Training done. Time Collapsed =  1.59s\n",
            "11th epoch...\n",
            "Training...\n",
            "Training done. Time Collapsed =  1.74s\n",
            "12th epoch...\n",
            "Training...\n",
            "Training done. Time Collapsed =  1.88s\n",
            "13th epoch...\n",
            "Training...\n",
            "Training done. Time Collapsed =  2.03s\n",
            "14th epoch...\n",
            "Training...\n",
            "Training done. Time Collapsed =  2.18s\n",
            "15th epoch...\n",
            "Training...\n",
            "Training done. Time Collapsed =  2.33s\n",
            "16th epoch...\n",
            "Training...\n",
            "Training done. Time Collapsed =  2.47s\n",
            "17th epoch...\n",
            "Training...\n",
            "Training done. Time Collapsed =  2.62s\n",
            "18th epoch...\n",
            "Training...\n",
            "Training done. Time Collapsed =  2.77s\n",
            "19th epoch...\n",
            "Training...\n",
            "Training done. Time Collapsed =  2.91s\n",
            "20th epoch...\n",
            "Training...\n",
            "Training done. Time Collapsed =  3.05s\n",
            "21th epoch...\n",
            "Training...\n",
            "Training done. Time Collapsed =  3.19s\n",
            "22th epoch...\n",
            "Training...\n",
            "Training done. Time Collapsed =  3.33s\n",
            "23th epoch...\n",
            "Training...\n",
            "Training done. Time Collapsed =  3.49s\n",
            "24th epoch...\n",
            "Training...\n",
            "Training done. Time Collapsed =  3.69s\n",
            "25th epoch...\n",
            "Training...\n",
            "Training done. Time Collapsed =  3.88s\n",
            "26th epoch...\n",
            "Training...\n",
            "Training done. Time Collapsed =  4.02s\n",
            "27th epoch...\n",
            "Training...\n",
            "Training done. Time Collapsed =  4.16s\n",
            "28th epoch...\n",
            "Training...\n",
            "Training done. Time Collapsed =  4.30s\n",
            "29th epoch...\n",
            "Training...\n",
            "Training done. Time Collapsed =  4.45s\n",
            "30th epoch...\n",
            "Training...\n",
            "Training done. Time Collapsed =  4.59s\n"
          ],
          "name": "stdout"
        }
      ]
    },
    {
      "cell_type": "code",
      "metadata": {
        "id": "TeS5g_d1WLZU",
        "colab_type": "code",
        "outputId": "6813a80c-8946-4249-bf99-935aac2898d6",
        "colab": {
          "base_uri": "https://localhost:8080/",
          "height": 282
        }
      },
      "source": [
        "%matplotlib inline\n",
        "%config InlineBackend.figure_format = 'retina'\n",
        "plt.plot(train_loss_list, label='Training loss')\n",
        "plt.legend(frameon=False)"
      ],
      "execution_count": 0,
      "outputs": [
        {
          "output_type": "execute_result",
          "data": {
            "text/plain": [
              "<matplotlib.legend.Legend at 0x7f1b3be78ba8>"
            ]
          },
          "metadata": {
            "tags": []
          },
          "execution_count": 71
        },
        {
          "output_type": "display_data",
          "data": {
            "image/png": "[encoded data removed]",
            "text/plain": [
              "<Figure size 432x288 with 1 Axes>"
            ]
          },
          "metadata": {
            "tags": [],
            "image/png": {
              "width": 399,
              "height": 248
            }
          }
        }
      ]
    },
    {
      "cell_type": "code",
      "metadata": {
        "id": "_IwreqUgWtPA",
        "colab_type": "code",
        "outputId": "9f2be101-f83a-43a5-fa58-59861851c9a4",
        "colab": {
          "base_uri": "https://localhost:8080/",
          "height": 34
        }
      },
      "source": [
        "X.shape"
      ],
      "execution_count": 0,
      "outputs": [
        {
          "output_type": "execute_result",
          "data": {
            "text/plain": [
              "torch.Size([10002, 39])"
            ]
          },
          "metadata": {
            "tags": []
          },
          "execution_count": 124
        }
      ]
    },
    {
      "cell_type": "code",
      "metadata": {
        "id": "FJFbxcIrXA-1",
        "colab_type": "code",
        "outputId": "b2e9e906-0d1e-48f0-8bcc-ac68211f44b4",
        "colab": {
          "base_uri": "https://localhost:8080/",
          "height": 34
        }
      },
      "source": [
        "encoding,_ = enc_v(X)\n",
        "encoding = encoding.cpu().detach()\n",
        "encoding.shape\n"
      ],
      "execution_count": 0,
      "outputs": [
        {
          "output_type": "execute_result",
          "data": {
            "text/plain": [
              "torch.Size([10002, 2])"
            ]
          },
          "metadata": {
            "tags": []
          },
          "execution_count": 72
        }
      ]
    },
    {
      "cell_type": "code",
      "metadata": {
        "id": "4f59NbBCjDRx",
        "colab_type": "code",
        "colab": {}
      },
      "source": [
        "labels = np.load(os.path.join(synthetic_path, f'labels_sparsity_1_variance_{1/sensitivity:.2f}.npy'))\n",
        "labels = torch.Tensor(labels)"
      ],
      "execution_count": 0,
      "outputs": []
    },
    {
      "cell_type": "code",
      "metadata": {
        "id": "1lTAz0OYj58N",
        "colab_type": "code",
        "colab": {}
      },
      "source": [
        ""
      ],
      "execution_count": 0,
      "outputs": []
    },
    {
      "cell_type": "code",
      "metadata": {
        "id": "PT9RYNbRjDLK",
        "colab_type": "code",
        "outputId": "406ba049-d894-4b8f-fc1c-6cbe0791e4e7",
        "colab": {
          "base_uri": "https://localhost:8080/",
          "height": 297
        }
      },
      "source": [
        "for i in tqdm(range(len(encoding))):\n",
        "  plt.scatter(encoding[i][0], encoding[i][1], c=colors[int(labels[i].item())])  \n",
        "plt.title(f'Visualization against the ground truth for Sparsity = 1, variance = {1/sensitivity:.2f}')\n",
        "plt.savefig(os.path.join(synthetic_path,f'v_encoding_ground_truth_Sparsity_1_variance_{1/sensitivity:.2f}.png'))"
      ],
      "execution_count": 0,
      "outputs": [
        {
          "output_type": "stream",
          "text": [
            "100%|██████████| 10002/10002 [01:28<00:00, 113.39it/s]\n"
          ],
          "name": "stderr"
        },
        {
          "output_type": "display_data",
          "data": {
            "image/png": "[encoded data removed]",
            "text/plain": [
              "<Figure size 432x288 with 1 Axes>"
            ]
          },
          "metadata": {
            "tags": [],
            "image/png": {
              "width": 444,
              "height": 263
            }
          }
        }
      ]
    },
    {
      "cell_type": "markdown",
      "metadata": {
        "id": "yCoR1zlYhJpy",
        "colab_type": "text"
      },
      "source": [
        "# DEC"
      ]
    },
    {
      "cell_type": "code",
      "metadata": {
        "id": "E5Ne67BrhLmH",
        "colab_type": "code",
        "outputId": "10a62872-a558-4ef5-a9c4-ab566fcfcb89",
        "colab": {
          "base_uri": "https://localhost:8080/",
          "height": 1000
        }
      },
      "source": [
        "\n",
        "  autoencoder, encoder = autoencoder(dims, init=init)\n",
        "  autoencoder.compile(optimizer=pretrain_optimizer, loss='mse')\n",
        "  fits = autoencoder.fit(X, X, batch_size=batch_size, epochs=pretrain_epochs) #, callbacks=cb)\n",
        "  # autoencoder.save_weights(os.path.join(synthetic_path, f\"ae_sparsity_1_db_{db}.h5\"))\n",
        "  encoding = encoder.predict(X)\n",
        "  # np.save(os.path.join(synthetic_path, f'encoding_sparsity_1_db_{db}.npy'), encoding) \n",
        "  #============#\n",
        "  clustering_layer = ClusteringLayer(n_clusters = 2, name='clustering')(encoder.output)\n",
        "  model = Model(inputs=encoder.input, outputs=clustering_layer)\n",
        "  model.compile(optimizer=Adam(0.01), loss='kld')\n",
        "  k_means = KMeans(n_clusters=2, n_init=20)\n",
        "  y_pred_ae = k_means.fit_predict(encoding) \n",
        "  y_pred_last = np.copy(y_pred_ae)\n",
        "  model.get_layer(name='clustering').set_weights([k_means.cluster_centers_])\n",
        "  #===================#\n",
        "  loss = 0\n",
        "  index = 0\n",
        "  maxiter = 8000\n",
        "  update_interval = 140\n",
        "  index_array = np.arange(X.shape[0])\n",
        "  tol = 0.001 \n",
        "  acc = 0\n",
        "  #=====================#\n",
        "  for ite in range(int(maxiter)):\n",
        "      if ite % update_interval == 0:\n",
        "          q = model.predict(X, verbose=0)\n",
        "          p = target_distribution(q) \n",
        "          y_pred_ae = q.argmax(1)\n",
        "          print(y_pred_ae.shape)\n",
        "          print(labels.numpy().shape)\n",
        "          if labels.numpy() is not None:\n",
        "              acc = np.round(metrics.acc(labels.numpy().reshape(10002,), y_pred_ae), 5)\n",
        "              nmi = np.round(metrics.nmi(labels.numpy().reshape(10002,), y_pred_ae), 5)\n",
        "              ari = np.round(metrics.ari(labels.numpy().reshape(10002,), y_pred_ae), 5)\n",
        "              loss = np.round(loss, 5)\n",
        "              print('Iter %d: acc = %.5f, nmi = %.5f, ari = %.5f' % (ite, acc, nmi, ari), ' ; loss=', loss)\n",
        "          delta_label = np.sum(y_pred_ae != y_pred_last).astype(np.float32) / y_pred_ae.shape[0]\n",
        "          y_pred_last = np.copy(y_pred_ae)\n",
        "          if ite > 0 and delta_label < tol:\n",
        "              print('delta_label ', delta_label, '< tol ', tol)\n",
        "              print('Reached tolerance threshold. Stopping training.')\n",
        "              break\n",
        "      idx = index_array[index * batch_size: min((index+1) * batch_size, X.shape[0])]\n",
        "      loss = model.train_on_batch(x=X[idx], y=p[idx])\n",
        "      index = index + 1 if (index + 1) * batch_size <= X.shape[0] else 0\n",
        "  accuracy_dec_list.append(acc)\n",
        "  # model.save_weights(os.path.join(synthetic_path, f'DEC_model_final_sparsity_1_db{db}.h5'))\n",
        "  encoded_dec = encoder.predict(X)\n",
        "  # np.save(os.path.join(synthetic_path, f'encoded_dec_sparsity_1_db_{db}.npy'), encoded_dec)\n",
        "  # del encoding, loss, idx, index, model,acc,nmi, ari, clustering_layer, k_means, y_pred_last, delta_label, encoded_dec\n",
        "  #===========================#"
      ],
      "execution_count": 0,
      "outputs": [
        {
          "output_type": "stream",
          "text": [
            "Epoch 1/30\n",
            "10002/10002 [==============================] - 2s 174us/step - loss: 0.1020\n",
            "Epoch 2/30\n",
            "10002/10002 [==============================] - 1s 59us/step - loss: 0.0052\n",
            "Epoch 3/30\n",
            "10002/10002 [==============================] - 1s 58us/step - loss: 0.0050\n",
            "Epoch 4/30\n",
            "10002/10002 [==============================] - 1s 57us/step - loss: 0.0048\n",
            "Epoch 5/30\n",
            "10002/10002 [==============================] - 1s 58us/step - loss: 0.0050\n",
            "Epoch 6/30\n",
            "10002/10002 [==============================] - 1s 57us/step - loss: 0.0034\n",
            "Epoch 7/30\n",
            "10002/10002 [==============================] - 1s 58us/step - loss: 0.0027\n",
            "Epoch 8/30\n",
            "10002/10002 [==============================] - 1s 58us/step - loss: 0.0026\n",
            "Epoch 9/30\n",
            "10002/10002 [==============================] - 1s 59us/step - loss: 0.0031\n",
            "Epoch 10/30\n",
            "10002/10002 [==============================] - 1s 57us/step - loss: 0.0026\n",
            "Epoch 11/30\n",
            "10002/10002 [==============================] - 1s 58us/step - loss: 0.0025\n",
            "Epoch 12/30\n",
            "10002/10002 [==============================] - 1s 57us/step - loss: 0.0025\n",
            "Epoch 13/30\n",
            "10002/10002 [==============================] - 1s 58us/step - loss: 0.0025\n",
            "Epoch 14/30\n",
            "10002/10002 [==============================] - 1s 58us/step - loss: 0.0027\n",
            "Epoch 15/30\n",
            "10002/10002 [==============================] - 1s 57us/step - loss: 0.0027\n",
            "Epoch 16/30\n",
            "10002/10002 [==============================] - 1s 57us/step - loss: 0.0025\n",
            "Epoch 17/30\n",
            "10002/10002 [==============================] - 1s 57us/step - loss: 0.0025\n",
            "Epoch 18/30\n",
            "10002/10002 [==============================] - 1s 58us/step - loss: 0.0026\n",
            "Epoch 19/30\n",
            "10002/10002 [==============================] - 1s 57us/step - loss: 0.0026\n",
            "Epoch 20/30\n",
            "10002/10002 [==============================] - 1s 59us/step - loss: 0.0025\n",
            "Epoch 21/30\n",
            "10002/10002 [==============================] - 1s 57us/step - loss: 0.0025\n",
            "Epoch 22/30\n",
            "10002/10002 [==============================] - 1s 57us/step - loss: 0.0025\n",
            "Epoch 23/30\n",
            "10002/10002 [==============================] - 1s 58us/step - loss: 0.0036\n",
            "Epoch 24/30\n",
            "10002/10002 [==============================] - 1s 57us/step - loss: 0.0031\n",
            "Epoch 25/30\n",
            "10002/10002 [==============================] - 1s 57us/step - loss: 0.0025\n",
            "Epoch 26/30\n",
            "10002/10002 [==============================] - 1s 58us/step - loss: 0.0025\n",
            "Epoch 27/30\n",
            "10002/10002 [==============================] - 1s 58us/step - loss: 0.0025\n",
            "Epoch 28/30\n",
            "10002/10002 [==============================] - 1s 58us/step - loss: 0.0025\n",
            "Epoch 29/30\n",
            "10002/10002 [==============================] - 1s 58us/step - loss: 0.0025\n",
            "Epoch 30/30\n",
            "10002/10002 [==============================] - 1s 59us/step - loss: 0.0030\n",
            "(10002,)\n",
            "(10002, 1)\n",
            "Iter 0: acc = 0.98020, nmi = 0.87916, ari = 0.92238  ; loss= 0\n"
          ],
          "name": "stdout"
        },
        {
          "output_type": "stream",
          "text": [
            "/usr/local/lib/python3.6/dist-packages/sklearn/utils/linear_assignment_.py:127: DeprecationWarning: The linear_assignment function is deprecated in 0.21 and will be removed from 0.23. Use scipy.optimize.linear_sum_assignment instead.\n",
            "  DeprecationWarning)\n",
            "/usr/local/lib/python3.6/dist-packages/sklearn/metrics/cluster/supervised.py:859: FutureWarning: The behavior of NMI will change in version 0.22. To match the behavior of 'v_measure_score', NMI will use average_method='arithmetic' by default.\n",
            "  FutureWarning)\n"
          ],
          "name": "stderr"
        },
        {
          "output_type": "stream",
          "text": [
            "(10002,)\n",
            "(10002, 1)\n",
            "Iter 140: acc = 0.98170, nmi = 0.88624, ari = 0.92815  ; loss= 0.0\n"
          ],
          "name": "stdout"
        },
        {
          "output_type": "stream",
          "text": [
            "/usr/local/lib/python3.6/dist-packages/sklearn/utils/linear_assignment_.py:127: DeprecationWarning: The linear_assignment function is deprecated in 0.21 and will be removed from 0.23. Use scipy.optimize.linear_sum_assignment instead.\n",
            "  DeprecationWarning)\n",
            "/usr/local/lib/python3.6/dist-packages/sklearn/metrics/cluster/supervised.py:859: FutureWarning: The behavior of NMI will change in version 0.22. To match the behavior of 'v_measure_score', NMI will use average_method='arithmetic' by default.\n",
            "  FutureWarning)\n"
          ],
          "name": "stderr"
        },
        {
          "output_type": "stream",
          "text": [
            "(10002,)\n",
            "(10002, 1)\n",
            "Iter 280: acc = 0.98130, nmi = 0.88433, ari = 0.92661  ; loss= 0.0\n",
            "delta_label  0.0009998000399920016 < tol  0.001\n",
            "Reached tolerance threshold. Stopping training.\n"
          ],
          "name": "stdout"
        },
        {
          "output_type": "stream",
          "text": [
            "/usr/local/lib/python3.6/dist-packages/sklearn/utils/linear_assignment_.py:127: DeprecationWarning: The linear_assignment function is deprecated in 0.21 and will be removed from 0.23. Use scipy.optimize.linear_sum_assignment instead.\n",
            "  DeprecationWarning)\n",
            "/usr/local/lib/python3.6/dist-packages/sklearn/metrics/cluster/supervised.py:859: FutureWarning: The behavior of NMI will change in version 0.22. To match the behavior of 'v_measure_score', NMI will use average_method='arithmetic' by default.\n",
            "  FutureWarning)\n"
          ],
          "name": "stderr"
        }
      ]
    },
    {
      "cell_type": "code",
      "metadata": {
        "id": "bnEPkfFOjhNN",
        "colab_type": "code",
        "outputId": "69c75472-6da1-4ec9-e29a-b80dc32494de",
        "colab": {
          "base_uri": "https://localhost:8080/",
          "height": 282
        }
      },
      "source": [
        "plt.plot(fits.history['loss'], label = 'Loss')\n",
        "plt.legend(frameon = False)\n",
        "plt.show"
      ],
      "execution_count": 0,
      "outputs": [
        {
          "output_type": "execute_result",
          "data": {
            "text/plain": [
              "<function matplotlib.pyplot.show>"
            ]
          },
          "metadata": {
            "tags": []
          },
          "execution_count": 51
        },
        {
          "output_type": "display_data",
          "data": {
            "image/png": "[encoded data removed]",
            "text/plain": [
              "<Figure size 432x288 with 1 Axes>"
            ]
          },
          "metadata": {
            "tags": []
          }
        }
      ]
    },
    {
      "cell_type": "code",
      "metadata": {
        "id": "nq3pkLE3q1vq",
        "colab_type": "code",
        "colab": {}
      },
      "source": [
        ""
      ],
      "execution_count": 0,
      "outputs": []
    }
  ]
}