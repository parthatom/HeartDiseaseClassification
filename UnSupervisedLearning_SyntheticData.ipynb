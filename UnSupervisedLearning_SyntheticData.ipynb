{
  "nbformat": 4,
  "nbformat_minor": 0,
  "metadata": {
    "colab": {
      "name": "UnSupervisedLearning_SyntheticData",
      "provenance": [],
      "include_colab_link": true
    },
    "kernelspec": {
      "name": "python3",
      "display_name": "Python 3"
    }
  },
  "cells": [
    {
      "cell_type": "markdown",
      "metadata": {
        "id": "view-in-github",
        "colab_type": "text"
      },
      "source": [
        "<a href=\"https://colab.research.google.com/github/parthatom/UnsupervisedClassification/blob/master/UnSupervisedLearning_SyntheticData.ipynb\" target=\"_parent\"><img src=\"https://colab.research.google.com/assets/colab-badge.svg\" alt=\"Open In Colab\"/></a>"
      ]
    },
    {
      "cell_type": "markdown",
      "metadata": {
        "id": "8_BcMQov4AP3",
        "colab_type": "text"
      },
      "source": [
        "# Unsupervised Learning on Synthetic Sparse and Uniform Data"
      ]
    },
    {
      "cell_type": "markdown",
      "metadata": {
        "id": "wXtjNmzY5aOy",
        "colab_type": "text"
      },
      "source": [
        "## Importing"
      ]
    },
    {
      "cell_type": "code",
      "metadata": {
        "id": "9ZRlBWNV5Y97",
        "colab_type": "code",
        "colab": {}
      },
      "source": [
        "import torch\n",
        "import torchvision\n",
        "import sys\n",
        "import os\n",
        "from torch.utils.data import DataLoader\n",
        "from torch.utils.data import Dataset\n",
        "from pathlib import Path\n",
        "import sklearn\n",
        "import numpy as np\n",
        "import pandas as pd\n",
        "import torch.nn as nn\n",
        "import torch.nn.functional as F\n",
        "import matplotlib.pyplot as plt\n",
        "from sklearn.decomposition import PCA\n",
        "%matplotlib inline\n",
        "colors = ['y', 'r']"
      ],
      "execution_count": 0,
      "outputs": []
    },
    {
      "cell_type": "code",
      "metadata": {
        "id": "mqBVGrl46XC3",
        "colab_type": "code",
        "colab": {}
      },
      "source": [
        "from sklearn import model_selection\n",
        "from sklearn.manifold import TSNE\n",
        "from sklearn.cluster import MiniBatchKMeans\n",
        "from sklearn.cluster import KMeans\n",
        "from sklearn import mixture\n",
        "import torchvision.transforms as transforms\n",
        "from torchvision import models\n",
        "import time"
      ],
      "execution_count": 0,
      "outputs": []
    },
    {
      "cell_type": "markdown",
      "metadata": {
        "id": "IIneMbFM4HF-",
        "colab_type": "text"
      },
      "source": [
        "## Data Creation"
      ]
    },
    {
      "cell_type": "code",
      "metadata": {
        "id": "6uCX93YqCYQ6",
        "colab_type": "code",
        "outputId": "4b48eb55-fff1-4685-9bfe-dd81f32ef77d",
        "colab": {
          "base_uri": "https://localhost:8080/",
          "height": 34
        }
      },
      "source": [
        "seed = 42\n",
        "torch.random.manual_seed(seed)"
      ],
      "execution_count": 0,
      "outputs": [
        {
          "output_type": "execute_result",
          "data": {
            "text/plain": [
              "<torch._C.Generator at 0x7fccfa589bd0>"
            ]
          },
          "metadata": {
            "tags": []
          },
          "execution_count": 53
        }
      ]
    },
    {
      "cell_type": "markdown",
      "metadata": {
        "id": "J2463YkV-SL4",
        "colab_type": "text"
      },
      "source": [
        "### Sparse Data"
      ]
    },
    {
      "cell_type": "code",
      "metadata": {
        "id": "DzXaW-P64GxL",
        "colab_type": "code",
        "colab": {}
      },
      "source": [
        "def Sparse():\n",
        "  m =  torch.zeros((39,1))\n",
        "  m[torch.randint(low = 0, high = 39, size=(1,1)).item()]= 1\n",
        "  X = m\n",
        "  # print(X.shape)\n",
        "  for i in range(5000):\n",
        "    noise = torch.randn_like(m)\n",
        "    noise/=10*torch.max(noise)\n",
        "    noisy_m = noise + m\n",
        "    noisy_m = nn.Softmax(dim = 0)(noisy_m)\n",
        "    X = torch.cat((X,noisy_m), dim = 1)\n",
        "  X = X.T\n",
        "  return X"
      ],
      "execution_count": 0,
      "outputs": []
    },
    {
      "cell_type": "markdown",
      "metadata": {
        "id": "vTTyj_y7-ZcP",
        "colab_type": "text"
      },
      "source": [
        "### Uniform Data"
      ]
    },
    {
      "cell_type": "code",
      "metadata": {
        "id": "Ijz-aAxA8TwM",
        "colab_type": "code",
        "colab": {}
      },
      "source": [
        "def uniform():\n",
        "  u = torch.ones((39,1))/39\n",
        "  X = u\n",
        "  # print(X.shape)\n",
        "  for i in range(5000):\n",
        "    noise = torch.randn_like(m)\n",
        "    noise/= 10*(torch.max(noise))\n",
        "    noisy_u = noise + u\n",
        "    noisy_u = nn.Softmax(dim = 0)(noisy_u)\n",
        "    X = torch.cat((X,noisy_u), dim = 1)\n",
        "  X = X.T\n",
        "  return X"
      ],
      "execution_count": 0,
      "outputs": []
    },
    {
      "cell_type": "markdown",
      "metadata": {
        "id": "3VAkBqCgCiJk",
        "colab_type": "text"
      },
      "source": [
        "### Concat and Shuffle"
      ]
    },
    {
      "cell_type": "code",
      "metadata": {
        "id": "N-ZhpzZ6Bxkh",
        "colab_type": "code",
        "colab": {}
      },
      "source": [
        "def create_data():\n",
        "  uni = uniform()\n",
        "  sparse = Sparse()\n",
        "  X = torch.cat((uni,sparse), dim = 0)\n",
        "  perm = torch.randperm(10002)\n",
        "  o = torch.ones((5001,1))\n",
        "  z = torch.zeros((5001,1))\n",
        "  labels = torch.cat((o,z), dim = 0)\n",
        "  labels = labels[perm]\n",
        "  X=X[perm]\n",
        "  return X, labels"
      ],
      "execution_count": 0,
      "outputs": []
    },
    {
      "cell_type": "code",
      "metadata": {
        "id": "EY26iofdCGwA",
        "colab_type": "code",
        "outputId": "66a1dd3f-d57c-4d34-c72b-1819c9ce82fb",
        "colab": {
          "base_uri": "https://localhost:8080/",
          "height": 459
        }
      },
      "source": [
        "a = create_data()\n",
        "X = a[0]\n",
        "labels = a[1]\n",
        "print(X.shape)\n",
        "print(X[59:64])"
      ],
      "execution_count": 0,
      "outputs": [
        {
          "output_type": "stream",
          "text": [
            "torch.Size([10002, 39])\n",
            "tensor([[0.0272, 0.0269, 0.0255, 0.0267, 0.0241, 0.0246, 0.0253, 0.0248, 0.0246,\n",
            "         0.0268, 0.0245, 0.0259, 0.0259, 0.0258, 0.0243, 0.0245, 0.0248, 0.0253,\n",
            "         0.0260, 0.0252, 0.0260, 0.0283, 0.0252, 0.0258, 0.0268, 0.0257, 0.0258,\n",
            "         0.0269, 0.0258, 0.0253, 0.0256, 0.0252, 0.0258, 0.0250, 0.0256, 0.0255,\n",
            "         0.0258, 0.0258, 0.0256],\n",
            "        [0.0265, 0.0245, 0.0239, 0.0249, 0.0248, 0.0252, 0.0237, 0.0260, 0.0235,\n",
            "         0.0244, 0.0232, 0.0237, 0.0263, 0.0249, 0.0236, 0.0254, 0.0272, 0.0261,\n",
            "         0.0232, 0.0240, 0.0259, 0.0237, 0.0248, 0.0268, 0.0258, 0.0236, 0.0222,\n",
            "         0.0222, 0.0247, 0.0247, 0.0232, 0.0244, 0.0245, 0.0242, 0.0688, 0.0241,\n",
            "         0.0238, 0.0224, 0.0253],\n",
            "        [0.0242, 0.0244, 0.0242, 0.0244, 0.0257, 0.0247, 0.0259, 0.0252, 0.0247,\n",
            "         0.0242, 0.0251, 0.0250, 0.0231, 0.0232, 0.0232, 0.0265, 0.0236, 0.0242,\n",
            "         0.0254, 0.0229, 0.0235, 0.0237, 0.0232, 0.0267, 0.0241, 0.0253, 0.0240,\n",
            "         0.0264, 0.0270, 0.0241, 0.0232, 0.0247, 0.0249, 0.0256, 0.0678, 0.0244,\n",
            "         0.0244, 0.0231, 0.0240],\n",
            "        [0.0259, 0.0245, 0.0262, 0.0250, 0.0258, 0.0284, 0.0263, 0.0252, 0.0281,\n",
            "         0.0259, 0.0259, 0.0252, 0.0258, 0.0260, 0.0245, 0.0266, 0.0270, 0.0257,\n",
            "         0.0243, 0.0249, 0.0255, 0.0260, 0.0272, 0.0271, 0.0253, 0.0260, 0.0256,\n",
            "         0.0239, 0.0271, 0.0260, 0.0256, 0.0255, 0.0249, 0.0253, 0.0240, 0.0246,\n",
            "         0.0244, 0.0250, 0.0239],\n",
            "        [0.0258, 0.0232, 0.0241, 0.0287, 0.0272, 0.0265, 0.0229, 0.0264, 0.0279,\n",
            "         0.0249, 0.0276, 0.0245, 0.0243, 0.0269, 0.0284, 0.0235, 0.0288, 0.0230,\n",
            "         0.0255, 0.0260, 0.0275, 0.0250, 0.0268, 0.0236, 0.0256, 0.0256, 0.0246,\n",
            "         0.0266, 0.0234, 0.0266, 0.0271, 0.0232, 0.0251, 0.0263, 0.0233, 0.0276,\n",
            "         0.0262, 0.0241, 0.0257]])\n"
          ],
          "name": "stdout"
        }
      ]
    },
    {
      "cell_type": "markdown",
      "metadata": {
        "id": "InTAohIZEH_o",
        "colab_type": "text"
      },
      "source": [
        "## GMMs"
      ]
    },
    {
      "cell_type": "markdown",
      "metadata": {
        "id": "mnU_h-USdvhc",
        "colab_type": "text"
      },
      "source": [
        "### Model"
      ]
    },
    {
      "cell_type": "code",
      "metadata": {
        "id": "Ath0ZfCeKkv3",
        "colab_type": "code",
        "colab": {}
      },
      "source": [
        "a = create_data()\n",
        "X = a[0]\n",
        "labels = a[1]"
      ],
      "execution_count": 0,
      "outputs": []
    },
    {
      "cell_type": "code",
      "metadata": {
        "id": "VR5uUeU7EKTr",
        "colab_type": "code",
        "outputId": "d81875e6-71bf-439b-bd75-15ddfbdeab87",
        "colab": {
          "base_uri": "https://localhost:8080/",
          "height": 34
        }
      },
      "source": [
        "gmmodel = mixture.GaussianMixture(n_components = 2, random_state = 42)\n",
        "time_means_start = time.time()\n",
        "gmmodel.fit(X)\n",
        "y_pred_train = gmmodel.predict(X)\n",
        "print(f'Gaussian Mixtures Models Done. Time elapsed = {time.time()-time_means_start}')"
      ],
      "execution_count": 0,
      "outputs": [
        {
          "output_type": "stream",
          "text": [
            "Gaussian Mixtures Models Done. Time elapsed = 0.14249086380004883\n"
          ],
          "name": "stdout"
        }
      ]
    },
    {
      "cell_type": "markdown",
      "metadata": {
        "id": "64FNVVoSdxPV",
        "colab_type": "text"
      },
      "source": [
        "### Visualization and Evaluation"
      ]
    },
    {
      "cell_type": "code",
      "metadata": {
        "id": "hTc3Bes3E_0b",
        "colab_type": "code",
        "outputId": "440abf5c-0362-43a6-db39-d06010b8c144",
        "colab": {
          "base_uri": "https://localhost:8080/",
          "height": 332
        }
      },
      "source": [
        "time_start = time.time()\n",
        "tsne_model = TSNE(random_state = 42)\n",
        "print(f'TSNE started. Time collapsed = {(time.time()-time_start):.2f}s')\n",
        "tsne = tsne_model.fit_transform(X)\n",
        "print(f'TSNE completed. Time collapsed = {(time.time()-time_start):.2f}s')\n",
        "for i in range(len(tsne)):\n",
        "  plt.scatter(tsne[i][0], tsne[i][1], c=colors[y_pred_train[i]])\n",
        "print(f'done. Time collapsed ={time.time()-time_start}')\n",
        "plt.title('Visualization against the predicted clustering')\n",
        "plt.show()"
      ],
      "execution_count": 0,
      "outputs": [
        {
          "output_type": "stream",
          "text": [
            "TSNE started. Time collapsed = 0.00s\n",
            "TSNE completed. Time collapsed = 149.12s\n",
            "done. Time collapsed =254.81327033042908\n"
          ],
          "name": "stdout"
        },
        {
          "output_type": "display_data",
          "data": {
            "image/png": "[encoded data removed]",
            "text/plain": [
              "<Figure size 432x288 with 1 Axes>"
            ]
          },
          "metadata": {
            "tags": []
          }
        }
      ]
    },
    {
      "cell_type": "code",
      "metadata": {
        "id": "Fve7i_fZFibM",
        "colab_type": "code",
        "outputId": "a856b700-b625-45b6-af2a-584eb043e8d5",
        "colab": {
          "base_uri": "https://localhost:8080/",
          "height": 318
        }
      },
      "source": [
        "for i in range(len(tsne)):\n",
        "  plt.scatter(tsne[i][0], tsne[i][1], c=colors[int(labels[i][0].item())])\n",
        "  if(i%25==0):\n",
        "    print('.', end = '')  \n",
        "plt.title('Visualization against the ground truth')\n",
        "plt.show()"
      ],
      "execution_count": 0,
      "outputs": [
        {
          "output_type": "stream",
          "text": [
            "................................................................................................................................................................................................................................................................................................................................................................................................................."
          ],
          "name": "stdout"
        },
        {
          "output_type": "display_data",
          "data": {
            "image/png": "[encoded data removed]",
            "text/plain": [
              "<Figure size 432x288 with 1 Axes>"
            ]
          },
          "metadata": {
            "tags": []
          }
        }
      ]
    },
    {
      "cell_type": "code",
      "metadata": {
        "id": "Z7xueshFJ3Wy",
        "colab_type": "code",
        "outputId": "1c102ab3-1ecf-46d6-b8dc-925a6ea5b291",
        "colab": {
          "base_uri": "https://localhost:8080/",
          "height": 34
        }
      },
      "source": [
        "y_pred_train = torch.from_numpy(y_pred_train).type(torch.ByteTensor)#.cuda()\n",
        "# labels = labels.cuda()\n",
        "a = y_pred_train.type(torch.ByteTensor)\n",
        "a = 1 - a \n",
        "accuracy = torch.mean((a == labels).type(torch.FloatTensor))\n",
        "accuracy = accuracy.cpu()\n",
        "print(f'Gaussian Mixture Model Accuracy = {(accuracy)*100:.2f}%')"
      ],
      "execution_count": 0,
      "outputs": [
        {
          "output_type": "stream",
          "text": [
            "Gaussian Mixture Model Accuracy = 50.00%\n"
          ],
          "name": "stdout"
        }
      ]
    },
    {
      "cell_type": "code",
      "metadata": {
        "id": "G48ZepmUNDR-",
        "colab_type": "code",
        "outputId": "1509e21e-de82-4073-ceea-2e151c8cbce1",
        "colab": {
          "base_uri": "https://localhost:8080/",
          "height": 850
        }
      },
      "source": [
        "uni = sparse()\n",
        "(uni[90:96])"
      ],
      "execution_count": 0,
      "outputs": [
        {
          "output_type": "stream",
          "text": [
            "torch.Size([39, 1])\n"
          ],
          "name": "stdout"
        },
        {
          "output_type": "execute_result",
          "data": {
            "text/plain": [
              "tensor([[-1.4063e-01, -2.8145e-01,  4.4411e-01,  5.8321e-02, -2.1524e-01,\n",
              "          8.6211e-02, -1.0329e-01,  1.2181e-01,  7.2102e-01, -2.8954e-01,\n",
              "          1.5922e-02,  1.0000e+00,  2.3463e-02, -4.5925e-02, -5.2821e-02,\n",
              "          3.5522e-01, -1.6904e-04, -4.1855e-01,  1.2959e-01,  3.0241e-01,\n",
              "         -1.7134e-01, -2.2824e-01, -2.7596e-01, -1.2453e-01, -9.1200e-02,\n",
              "          1.3983e-01, -2.4867e-01,  4.8624e-02, -1.4572e-01, -9.8532e-02,\n",
              "          4.0182e-01,  1.1139e-01, -7.1844e-02, -2.2730e-01, -9.3280e-02,\n",
              "         -6.3991e-01, -9.7520e-02, -3.8303e-01,  4.2248e-01],\n",
              "        [-6.9391e-01,  3.8642e-01, -3.8027e-01, -4.3062e-01,  3.5098e-01,\n",
              "         -5.5339e-01,  3.5102e-01, -2.6369e-01, -8.6607e-02, -1.0981e-01,\n",
              "          2.5792e-01,  1.0000e+00, -1.0263e-01, -1.6609e-01,  2.7656e-01,\n",
              "          1.4986e-01, -4.4353e-01, -2.9889e-01,  2.4021e-02, -6.1056e-01,\n",
              "          5.3332e-03,  2.5645e-01,  2.4435e-01, -5.7948e-03, -5.7108e-01,\n",
              "         -2.6533e-01,  2.5154e-01,  3.0417e-03, -1.2283e-01,  2.3258e-02,\n",
              "          1.8363e-02, -2.2958e-02, -1.6068e-01,  5.0948e-01, -1.0369e-01,\n",
              "         -2.2251e-01,  2.7960e-02,  4.6708e-01,  1.1979e-01],\n",
              "        [-4.1335e-02,  2.5592e-01, -2.1066e-01,  2.5309e-01,  1.8603e-01,\n",
              "         -1.4379e-01,  1.1374e-01,  3.1817e-02, -4.7773e-02,  2.3711e-01,\n",
              "          2.0067e-01,  1.0000e+00,  8.7468e-02,  1.3938e-01,  1.5412e-01,\n",
              "         -1.3170e-01, -7.0996e-02,  1.7644e-01,  3.3462e-02, -5.8314e-02,\n",
              "          7.1867e-02, -7.6584e-02,  2.5883e-01,  7.2042e-02,  6.7485e-02,\n",
              "          5.2804e-02,  2.0426e-01, -9.0903e-02, -2.7663e-01, -5.2912e-02,\n",
              "          7.6843e-02,  1.0887e-01,  3.4036e-01,  2.7687e-01,  1.0976e-01,\n",
              "          7.7865e-02, -4.2379e-02,  8.9470e-02, -1.8344e-01],\n",
              "        [-1.2769e-01,  1.4912e-01,  1.8827e-02, -4.7390e-02, -6.8659e-02,\n",
              "          1.4041e-01,  4.6419e-02, -1.4333e-01,  1.0849e-01, -3.5558e-01,\n",
              "         -1.1472e-01,  1.0000e+00,  6.8276e-02,  1.6543e-01,  2.1910e-01,\n",
              "         -1.0370e-01,  1.2789e-01,  6.7667e-02, -2.1509e-01, -1.0938e-01,\n",
              "         -3.2674e-02, -1.6351e-01, -1.2707e-01,  3.3946e-01, -3.8683e-02,\n",
              "          3.1942e-01, -2.8289e-02, -1.9579e-01,  6.7682e-02,  1.2316e-01,\n",
              "          1.3326e-02,  8.3305e-02,  1.9525e-01, -1.8204e-01,  1.4707e-01,\n",
              "         -3.6154e-02, -5.7044e-02, -4.4668e-02,  4.6880e-02],\n",
              "        [-2.5569e-01,  3.7372e-01,  3.5606e-01,  2.6358e-01, -1.0437e+00,\n",
              "          4.4064e-01, -2.2998e-01, -1.6653e-01,  5.7784e-01, -5.2149e-01,\n",
              "          5.0963e-01,  1.0000e+00,  9.6858e-02, -2.2331e-02,  3.4814e-01,\n",
              "         -7.4502e-02, -4.2771e-01, -7.3334e-01,  6.9213e-01,  5.2361e-01,\n",
              "         -4.8408e-01, -1.6652e-01,  5.0288e-01, -9.1135e-01,  6.7247e-01,\n",
              "          9.0404e-02, -4.1189e-01,  5.2642e-01,  1.2132e-01,  3.1258e-01,\n",
              "         -1.8477e-01, -4.9922e-01, -5.8059e-01, -2.6615e-01,  5.8487e-01,\n",
              "          2.2349e-01, -5.6527e-01, -1.4531e-01, -1.2698e-01],\n",
              "        [ 1.5131e-02,  4.5492e-02,  1.1960e-01, -3.4617e-01,  1.3988e-02,\n",
              "          1.9737e-01,  2.9697e-01,  1.5590e-02,  7.6061e-02,  1.0818e-01,\n",
              "          3.7169e-03,  1.0000e+00,  7.5971e-02, -2.0960e-01, -3.3185e-01,\n",
              "          4.9969e-02,  5.0603e-01, -1.9857e-01,  5.3166e-02,  6.3754e-02,\n",
              "         -1.1338e-01,  4.2258e-03,  1.2937e-01,  3.8102e-01,  4.7968e-02,\n",
              "          2.1371e-01,  1.1431e-01, -1.3571e-01,  9.8926e-02, -1.4315e-01,\n",
              "          1.5969e-01,  7.1162e-02,  5.2133e-02,  1.9314e-02,  1.3173e-01,\n",
              "          6.0171e-02,  2.8977e-01,  6.1672e-02,  1.2943e-01]])"
            ]
          },
          "metadata": {
            "tags": []
          },
          "execution_count": 148
        }
      ]
    },
    {
      "cell_type": "code",
      "metadata": {
        "id": "wJgVm0wdP0YI",
        "colab_type": "code",
        "colab": {}
      },
      "source": [
        "a = nn.Softmax(dim = 0)(uni[90])"
      ],
      "execution_count": 0,
      "outputs": []
    },
    {
      "cell_type": "code",
      "metadata": {
        "id": "DAz4tfW8SaUs",
        "colab_type": "code",
        "outputId": "a09de0d8-1436-4296-ee4f-fa8393c2be62",
        "colab": {
          "base_uri": "https://localhost:8080/",
          "height": 34
        }
      },
      "source": [
        "torch.sum(a)"
      ],
      "execution_count": 0,
      "outputs": [
        {
          "output_type": "execute_result",
          "data": {
            "text/plain": [
              "tensor(1.0000)"
            ]
          },
          "metadata": {
            "tags": []
          },
          "execution_count": 139
        }
      ]
    },
    {
      "cell_type": "code",
      "metadata": {
        "id": "FW_qc8qdSd2z",
        "colab_type": "code",
        "outputId": "30a3bbf5-0c7a-41f3-b01c-b7da83c235e3",
        "colab": {
          "base_uri": "https://localhost:8080/",
          "height": 34
        }
      },
      "source": [
        "torch.max(a)"
      ],
      "execution_count": 0,
      "outputs": [
        {
          "output_type": "execute_result",
          "data": {
            "text/plain": [
              "tensor(0.0642)"
            ]
          },
          "metadata": {
            "tags": []
          },
          "execution_count": 117
        }
      ]
    },
    {
      "cell_type": "code",
      "metadata": {
        "id": "bOS0UuVzbB0j",
        "colab_type": "code",
        "outputId": "cfd6ce1e-c22f-40c4-f0ea-60eefdc08d08",
        "colab": {
          "base_uri": "https://localhost:8080/",
          "height": 34
        }
      },
      "source": [
        "a = y_pred_train.type(torch.ByteTensor)\n",
        "1 - a "
      ],
      "execution_count": 0,
      "outputs": [
        {
          "output_type": "execute_result",
          "data": {
            "text/plain": [
              "tensor([1, 1, 0,  ..., 0, 1, 0], dtype=torch.uint8)"
            ]
          },
          "metadata": {
            "tags": []
          },
          "execution_count": 164
        }
      ]
    },
    {
      "cell_type": "code",
      "metadata": {
        "id": "Uk2VKj7RbJsN",
        "colab_type": "code",
        "outputId": "cfc2353e-cfb8-413b-a89c-d4e1dbe280b0",
        "colab": {
          "base_uri": "https://localhost:8080/",
          "height": 34
        }
      },
      "source": [
        "a"
      ],
      "execution_count": 0,
      "outputs": [
        {
          "output_type": "execute_result",
          "data": {
            "text/plain": [
              "tensor([0, 0, 1,  ..., 1, 0, 1], dtype=torch.uint8)"
            ]
          },
          "metadata": {
            "tags": []
          },
          "execution_count": 165
        }
      ]
    },
    {
      "cell_type": "markdown",
      "metadata": {
        "id": "rL9_uZwPcMz6",
        "colab_type": "text"
      },
      "source": [
        "## KMeans"
      ]
    },
    {
      "cell_type": "code",
      "metadata": {
        "id": "IG0BfiflcPPY",
        "colab_type": "code",
        "outputId": "21959e3d-c247-49e2-ce73-d97350623a92",
        "colab": {
          "base_uri": "https://localhost:8080/",
          "height": 68
        }
      },
      "source": [
        "kmodel = KMeans(n_clusters = 2, random_state = 42)\n",
        "y_pred_train = None\n",
        "time_means_start = time.time()\n",
        "kmeans = kmodel.fit(X)\n",
        "print(f'KMeans completed. Time elapsed = {time.time()-time_means_start:.2f}s')\n",
        "y_pred_train = kmeans.labels_\n",
        "train_accuracy = torch.mean((torch.from_numpy(kmeans.labels_) == labels).type(torch.FloatTensor))\n",
        "print(train_accuracy)\n",
        "print(f'Done time elapsed = {time.time()-time_means_start:.2f}s')"
      ],
      "execution_count": 0,
      "outputs": [
        {
          "output_type": "stream",
          "text": [
            "KMeans completed. Time elapsed = 0.14s\n",
            "tensor(0.5000)\n",
            "Done time elapsed = 0.35s\n"
          ],
          "name": "stdout"
        }
      ]
    },
    {
      "cell_type": "code",
      "metadata": {
        "id": "1PzIaassdl1w",
        "colab_type": "code",
        "outputId": "8918c588-1b76-4932-cd05-c8b1ca19592f",
        "colab": {
          "base_uri": "https://localhost:8080/",
          "height": 298
        }
      },
      "source": [
        "for i in range(len(tsne)):\n",
        "  plt.scatter(tsne[i][0], tsne[i][1], c=colors[kmeans.labels_[i]])\n",
        "  if(i%100==0):\n",
        "    print('.', end = '')  \n",
        "plt.title('Visualization against the prediction by KMeans')\n",
        "plt.show()"
      ],
      "execution_count": 0,
      "outputs": [
        {
          "output_type": "stream",
          "text": [
            "....................................................................................................."
          ],
          "name": "stdout"
        },
        {
          "output_type": "display_data",
          "data": {
            "image/png": "[encoded data removed]",
            "text/plain": [
              "<Figure size 432x288 with 1 Axes>"
            ]
          },
          "metadata": {
            "tags": []
          }
        }
      ]
    },
    {
      "cell_type": "markdown",
      "metadata": {
        "id": "_fgT0kD1gZm8",
        "colab_type": "text"
      },
      "source": [
        "## Autoencoder"
      ]
    },
    {
      "cell_type": "code",
      "metadata": {
        "id": "ZSoOnKzXeDOA",
        "colab_type": "code",
        "colab": {}
      },
      "source": [
        "class encoder(nn.Module):\n",
        "  def __init__(self):\n",
        "    super(encoder).__init__()\n",
        "    self.fc1 = nn.Sequential(nn.Linear(39, 2), \n",
        "                             nn.LogSoftmax(dim = 1))\n",
        "  def forward(self, X):\n",
        "    X = self.fc1(X)\n",
        "    return X"
      ],
      "execution_count": 0,
      "outputs": []
    },
    {
      "cell_type": "code",
      "metadata": {
        "id": "bFOTtLSig-5w",
        "colab_type": "code",
        "colab": {}
      },
      "source": [
        "class decoder(nn.Module):\n",
        "  def __init__(self):\n",
        "    super().__init__()\n",
        "    self.fc2 = nn.Sequential(nn.Linear(2,39),\n",
        "                             nn.Softmax(dim = 1))\n",
        "  def forward(self, X):\n",
        "    X = self.fc2(X)\n",
        "    return X"
      ],
      "execution_count": 0,
      "outputs": []
    },
    {
      "cell_type": "code",
      "metadata": {
        "id": "E9_HhQVBhNnR",
        "colab_type": "code",
        "colab": {}
      },
      "source": [
        "class Autoencoder(nn.Module):\n",
        "  def __init__(self, enc, dec):\n",
        "    super().__init__()\n",
        "    self.enc = enc\n",
        "    self.dec = dec\n",
        "  def forward(self, X):\n",
        "    X = self.enc(X)\n",
        "    X = self.dec(X)\n",
        "    return X"
      ],
      "execution_count": 0,
      "outputs": []
    },
    {
      "cell_type": "code",
      "metadata": {
        "id": "CNDAC5wBh2ck",
        "colab_type": "code",
        "outputId": "2c9a972b-5e28-42a7-8503-5d50bdce571d",
        "colab": {
          "base_uri": "https://localhost:8080/",
          "height": 255
        }
      },
      "source": [
        "enc = encoder()\n",
        "dec = decoder()\n",
        "autoencoder = Autoencoder(enc, dec)\n",
        "device = torch.device('cuda' if torch.cuda.is_available() else 'cpu')\n",
        "autoencoder.to(device)"
      ],
      "execution_count": 0,
      "outputs": [
        {
          "output_type": "execute_result",
          "data": {
            "text/plain": [
              "Autoencoder(\n",
              "  (enc): encoder(\n",
              "    (fc1): Sequential(\n",
              "      (0): Linear(in_features=39, out_features=2, bias=True)\n",
              "      (1): LogSoftmax()\n",
              "    )\n",
              "  )\n",
              "  (dec): decoder(\n",
              "    (fc2): Sequential(\n",
              "      (0): Linear(in_features=2, out_features=39, bias=True)\n",
              "      (1): Softmax(dim=1)\n",
              "    )\n",
              "  )\n",
              ")"
            ]
          },
          "metadata": {
            "tags": []
          },
          "execution_count": 189
        }
      ]
    },
    {
      "cell_type": "code",
      "metadata": {
        "id": "edaPOBeOi5qa",
        "colab_type": "code",
        "colab": {}
      },
      "source": [
        "epochs = 10\n",
        "optimizer = torch.optim.Adam(autoencoder.parameters(), lr = 0.001)\n",
        "criterion = nn.MSELoss()"
      ],
      "execution_count": 0,
      "outputs": []
    },
    {
      "cell_type": "code",
      "metadata": {
        "id": "YpJb5rkajqDj",
        "colab_type": "code",
        "colab": {}
      },
      "source": [
        "X = X.to(device)"
      ],
      "execution_count": 0,
      "outputs": []
    },
    {
      "cell_type": "code",
      "metadata": {
        "id": "xvDY290ajRSD",
        "colab_type": "code",
        "colab": {}
      },
      "source": [
        "def train():\n",
        "  \n",
        "  autoencoder.train()\n",
        "  train_loss = 0\n",
        "  \n",
        "  \n",
        "\n",
        "  optimizer.zero_grad()\n",
        "\n",
        "  X_p = autoencoder(X)\n",
        "\n",
        "  loss = criterion(X_p, X)\n",
        "  \n",
        "  loss.backward()\n",
        "  train_loss += loss.item()\n",
        "  \n",
        "  optimizer.step()\n",
        "  return train_loss"
      ],
      "execution_count": 0,
      "outputs": []
    },
    {
      "cell_type": "code",
      "metadata": {
        "id": "AxzfR-eBjuAb",
        "colab_type": "code",
        "colab": {}
      },
      "source": [
        "def test():\n",
        "  autoencoder.eval()\n",
        "  test_loss = 0\n",
        "\n",
        "  with torch.no_grad():\n",
        "\n",
        "    X_p = autoencoder(X)\n",
        "\n",
        "    loss = criterion(X_p, X)\n",
        "\n",
        "    test_loss += loss.item()\n",
        "  return test_loss"
      ],
      "execution_count": 0,
      "outputs": []
    },
    {
      "cell_type": "code",
      "metadata": {
        "id": "0GgqV6VkkIr_",
        "colab_type": "code",
        "outputId": "98c20909-cc31-4fc8-bbfa-23cbd9231595",
        "colab": {
          "base_uri": "https://localhost:8080/",
          "height": 527
        }
      },
      "source": [
        "train_loss_list = []\n",
        "# test_loss_list = []\n",
        "time_start = time.time()\n",
        "for e in range(epochs):\n",
        "  print(f'{e+1}th epoch...')\n",
        "  print(f'Training...')\n",
        "  train_loss = train()\n",
        "  train_loss /= len(X)\n",
        "  print(f'Training done. Time Collapsed = {time.time() - time_start: .2f}s')\n",
        "  # print(f'Testing..')\n",
        "  # test_loss = test()\n",
        "  # test_loss /= len(val_data)\n",
        "  # print(f'Testing done. Time Collapsed = {time.time() - time_start: .2f}s')\n",
        "  train_loss_list.append(train_loss)\n",
        "  # test_loss_list.append(test_loss)"
      ],
      "execution_count": 0,
      "outputs": [
        {
          "output_type": "stream",
          "text": [
            "1th epoch...\n",
            "Training...\n",
            "Training done. Time Collapsed =  0.02s\n",
            "2th epoch...\n",
            "Training...\n",
            "Training done. Time Collapsed =  0.04s\n",
            "3th epoch...\n",
            "Training...\n",
            "Training done. Time Collapsed =  0.05s\n",
            "4th epoch...\n",
            "Training...\n",
            "Training done. Time Collapsed =  0.07s\n",
            "5th epoch...\n",
            "Training...\n",
            "Training done. Time Collapsed =  0.08s\n",
            "6th epoch...\n",
            "Training...\n",
            "Training done. Time Collapsed =  0.10s\n",
            "7th epoch...\n",
            "Training...\n",
            "Training done. Time Collapsed =  0.11s\n",
            "8th epoch...\n",
            "Training...\n",
            "Training done. Time Collapsed =  0.13s\n",
            "9th epoch...\n",
            "Training...\n",
            "Training done. Time Collapsed =  0.14s\n",
            "10th epoch...\n",
            "Training...\n",
            "Training done. Time Collapsed =  0.16s\n"
          ],
          "name": "stdout"
        }
      ]
    },
    {
      "cell_type": "code",
      "metadata": {
        "id": "PJILw7xAkX1g",
        "colab_type": "code",
        "outputId": "6e3dadc6-46af-4397-be48-9f52ec9bc647",
        "colab": {
          "base_uri": "https://localhost:8080/",
          "height": 292
        }
      },
      "source": [
        "%matplotlib inline\n",
        "%config InlineBackend.figure_format = 'retina'\n",
        "plt.plot(train_loss_list, label='Training loss')\n",
        "# plt.plot(test_loss_list, label='Validation loss')\n",
        "plt.legend(frameon=False)"
      ],
      "execution_count": 0,
      "outputs": [
        {
          "output_type": "execute_result",
          "data": {
            "text/plain": [
              "<matplotlib.legend.Legend at 0x7fccde6926d8>"
            ]
          },
          "metadata": {
            "tags": []
          },
          "execution_count": 203
        },
        {
          "output_type": "display_data",
          "data": {
            "image/png": "[encoded data removed]",
            "text/plain": [
              "<Figure size 432x288 with 1 Axes>"
            ]
          },
          "metadata": {
            "tags": [],
            "image/png": {
              "width": 378,
              "height": 258
            }
          }
        }
      ]
    },
    {
      "cell_type": "code",
      "metadata": {
        "id": "CujEd28wk334",
        "colab_type": "code",
        "outputId": "35bcfafd-ff21-45ed-b608-e4d59da17fc1",
        "colab": {
          "base_uri": "https://localhost:8080/",
          "height": 311
        }
      },
      "source": [
        "with torch.no_grad():\n",
        "  enc.eval()\n",
        "  enc.to(device)\n",
        "  time_embedding = time.time()\n",
        "\n",
        "  z = enc(X)    \n",
        "  # std = torch.exp( z_var/2 ).cuda()\n",
        "  # eps = torch.ones(std.shape).cuda()\n",
        "  # z_sample = eps.mul(std).add_(z_mu)\n",
        "  for i in range(len(X)):\n",
        "    plt.scatter(z[i][0], z[i][1], c=colors[int(labels[i][0].item())])\n",
        "  print(f'done time elapsed = {time.time()-time_embedding:.2f}s')\n",
        "  plt.xlabel('Latent space dimension 0')\n",
        "  plt.ylabel('Latent space dimension 1')\n",
        "  plt.title('Encoding Visualized wrt ground truth labels')\n",
        "  plt.show()"
      ],
      "execution_count": 0,
      "outputs": [
        {
          "output_type": "stream",
          "text": [
            "done time elapsed = 110.50s\n"
          ],
          "name": "stdout"
        },
        {
          "output_type": "display_data",
          "data": {
            "image/png": "[encoded data removed]",
            "text/plain": [
              "<Figure size 432x288 with 1 Axes>"
            ]
          },
          "metadata": {
            "tags": [],
            "image/png": {
              "width": 400,
              "height": 277
            }
          }
        }
      ]
    },
    {
      "cell_type": "code",
      "metadata": {
        "id": "GUZB_BDZlWe0",
        "colab_type": "code",
        "outputId": "31f8ecba-e64d-46b1-f8ad-d45323061660",
        "colab": {
          "base_uri": "https://localhost:8080/",
          "height": 34
        }
      },
      "source": [
        "y_pred = torch.argmax(z.type(torch.LongTensor), dim = 1)\n",
        "accuracy = torch.mean((y_pred==labels).type(torch.FloatTensor))\n",
        "print(f'accuracy = {(accuracy/len(X)*100):.3f}%')"
      ],
      "execution_count": 0,
      "outputs": [
        {
          "output_type": "stream",
          "text": [
            "accuracy = 0.005%\n"
          ],
          "name": "stdout"
        }
      ]
    },
    {
      "cell_type": "code",
      "metadata": {
        "id": "zRKi5iEfoQ0o",
        "colab_type": "code",
        "outputId": "9aea0132-fed3-4e5c-dfd4-209c3b50e5cc",
        "colab": {
          "base_uri": "https://localhost:8080/",
          "height": 34
        }
      },
      "source": [
        "y_pred[1].item()"
      ],
      "execution_count": 0,
      "outputs": [
        {
          "output_type": "execute_result",
          "data": {
            "text/plain": [
              "1"
            ]
          },
          "metadata": {
            "tags": []
          },
          "execution_count": 216
        }
      ]
    },
    {
      "cell_type": "code",
      "metadata": {
        "id": "sPCZaR71oD30",
        "colab_type": "code",
        "outputId": "c9e23872-edff-4e16-a56e-33c584dd8e9c",
        "colab": {
          "base_uri": "https://localhost:8080/",
          "height": 311
        }
      },
      "source": [
        "with torch.no_grad():\n",
        "  # enc.eval()\n",
        "  # enc.to(device)\n",
        "  # time_embedding = time.time()\n",
        "\n",
        "  # z = enc(X)    \n",
        "  # std = torch.exp( z_var/2 ).cuda()\n",
        "  # eps = torch.ones(std.shape).cuda()\n",
        "  # z_sample = eps.mul(std).add_(z_mu)\n",
        "  for i in range(len(X)):\n",
        "    plt.scatter(z[i][0], z[i][1], c=colors[int(y_pred[i].item())])\n",
        "  print(f'done time elapsed = {time.time()-time_embedding:.2f}s')\n",
        "  plt.xlabel('Latent space dimension 0')\n",
        "  plt.ylabel('Latent space dimension 1')\n",
        "  plt.title('Encoding Visualized wrt ground predicted outputs')\n",
        "  plt.show()"
      ],
      "execution_count": 0,
      "outputs": [
        {
          "output_type": "stream",
          "text": [
            "done time elapsed = 637.63s\n"
          ],
          "name": "stdout"
        },
        {
          "output_type": "display_data",
          "data": {
            "image/png": "[encoded data removed]",
            "text/plain": [
              "<Figure size 432x288 with 1 Axes>"
            ]
          },
          "metadata": {
            "tags": [],
            "image/png": {
              "width": 400,
              "height": 277
            }
          }
        }
      ]
    },
    {
      "cell_type": "code",
      "metadata": {
        "id": "laVnANzpoghv",
        "colab_type": "code",
        "colab": {}
      },
      "source": [
        ""
      ],
      "execution_count": 0,
      "outputs": []
    }
  ]
}